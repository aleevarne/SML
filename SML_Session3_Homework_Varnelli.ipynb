{
 "cells": [
  {
   "cell_type": "markdown",
   "id": "exterior-customs",
   "metadata": {},
   "source": [
    "# Homework Session 3"
   ]
  },
  {
   "cell_type": "markdown",
   "id": "turkish-material",
   "metadata": {},
   "source": [
    "## Exercise 3 (p.198, Chap.5)"
   ]
  },
  {
   "cell_type": "markdown",
   "id": "suburban-minority",
   "metadata": {},
   "source": [
    "a) Explain how k-fold cross-validation is implemented. <br>\n",
    "Cross-validation is a resampling procedure and it is used for the evaluation of machine learning models over a limited data sample. The user has to insert just a parameter, k, the number of groups that a given data sample is to be split into. <br>\n",
    "b) What are the advantages and disadvantages of k-fold crossvalidation\n",
    "relative to: <br>\n",
    "i. The validation set approach? <br>\n",
    "ADV: You don't loose data that can be used to train the model. Resempling consists in re-using the same data by repeating the optimization over different samples to get the lowest loss in term of data training usage and improve performances.<br>\n",
    "DISADV: Harder to implement in some situations, especially for beginners as it is easier to newcomers to divide the data in train, test and validation sets. <br>\n",
    "ii. LOOCV? <br>\n",
    "ADV: In KFOLD all observations are used for both training and validation, and each observation is used for validation exactly once. <br>\n",
    "DISADV: If K = N LOOCV and KFOLD are equal."
   ]
  },
  {
   "cell_type": "markdown",
   "id": "armed-fever",
   "metadata": {},
   "source": [
    "## Exercise 8 (p.200, Chap.5) "
   ]
  },
  {
   "cell_type": "code",
   "execution_count": 2,
   "id": "broke-juice",
   "metadata": {},
   "outputs": [],
   "source": [
    "set.seed(1)\n",
    "y <- rnorm(100)\n",
    "x <- rnorm(100)\n",
    "y <- x - 2 * x^2 + rnorm(100)"
   ]
  },
  {
   "cell_type": "markdown",
   "id": "prescribed-worthy",
   "metadata": {},
   "source": [
    "a) n = 100, p = 2. <br>\n",
    "Model used: Y=X−2X^2+ε <br>\n",
    "b)<br>"
   ]
  },
  {
   "cell_type": "code",
   "execution_count": 3,
   "id": "variable-depth",
   "metadata": {},
   "outputs": [
    {
     "data": {
      "image/png": "[encoded data removed]",
      "text/plain": [
       "plot without title"
      ]
     },
     "metadata": {},
     "output_type": "display_data"
    }
   ],
   "source": [
    "plot(x,y)"
   ]
  },
  {
   "cell_type": "code",
   "execution_count": 5,
   "id": "contained-spank",
   "metadata": {},
   "outputs": [
    {
     "data": {
      "text/html": [
       "5.89097855988843"
      ],
      "text/latex": [
       "5.89097855988843"
      ],
      "text/markdown": [
       "5.89097855988843"
      ],
      "text/plain": [
       "[1] 5.890979"
      ]
     },
     "metadata": {},
     "output_type": "display_data"
    }
   ],
   "source": [
    "#c)\n",
    "#i.\n",
    "library(boot)\n",
    "set.seed(1)\n",
    "Data <- data.frame(x, y)\n",
    "fit.glm.1 <- glm(y ~ x)\n",
    "cv.glm(Data, fit.glm.1)$delta[1]"
   ]
  },
  {
   "cell_type": "code",
   "execution_count": 6,
   "id": "mental-harvard",
   "metadata": {},
   "outputs": [
    {
     "data": {
      "text/html": [
       "1.0865955642745"
      ],
      "text/latex": [
       "1.0865955642745"
      ],
      "text/markdown": [
       "1.0865955642745"
      ],
      "text/plain": [
       "[1] 1.086596"
      ]
     },
     "metadata": {},
     "output_type": "display_data"
    }
   ],
   "source": [
    "#ii.\n",
    "fit.glm.2 <- glm(y ~ poly(x, 2))\n",
    "cv.glm(Data, fit.glm.2)$delta[1]"
   ]
  },
  {
   "cell_type": "code",
   "execution_count": 7,
   "id": "brief-things",
   "metadata": {},
   "outputs": [
    {
     "data": {
      "text/html": [
       "1.10258509387339"
      ],
      "text/latex": [
       "1.10258509387339"
      ],
      "text/markdown": [
       "1.10258509387339"
      ],
      "text/plain": [
       "[1] 1.102585"
      ]
     },
     "metadata": {},
     "output_type": "display_data"
    }
   ],
   "source": [
    "#iii.\n",
    "fit.glm.3 <- glm(y ~ poly(x, 3))\n",
    "cv.glm(Data, fit.glm.3)$delta[1]"
   ]
  },
  {
   "cell_type": "code",
   "execution_count": 8,
   "id": "banner-interstate",
   "metadata": {},
   "outputs": [
    {
     "data": {
      "text/html": [
       "1.11477226814507"
      ],
      "text/latex": [
       "1.11477226814507"
      ],
      "text/markdown": [
       "1.11477226814507"
      ],
      "text/plain": [
       "[1] 1.114772"
      ]
     },
     "metadata": {},
     "output_type": "display_data"
    }
   ],
   "source": [
    "#iv.\n",
    "fit.glm.4 <- glm(y ~ poly(x, 4))\n",
    "cv.glm(Data, fit.glm.4)$delta[1]"
   ]
  },
  {
   "cell_type": "code",
   "execution_count": 9,
   "id": "foster-charter",
   "metadata": {},
   "outputs": [
    {
     "data": {
      "text/html": [
       "5.89097855988843"
      ],
      "text/latex": [
       "5.89097855988843"
      ],
      "text/markdown": [
       "5.89097855988843"
      ],
      "text/plain": [
       "[1] 5.890979"
      ]
     },
     "metadata": {},
     "output_type": "display_data"
    }
   ],
   "source": [
    "#d\n",
    "set.seed(9)\n",
    "fit.glm.1 <- glm(y ~ x)\n",
    "cv.glm(Data, fit.glm.1)$delta[1]"
   ]
  },
  {
   "cell_type": "code",
   "execution_count": 10,
   "id": "demanding-ribbon",
   "metadata": {},
   "outputs": [
    {
     "data": {
      "text/html": [
       "1.0865955642745"
      ],
      "text/latex": [
       "1.0865955642745"
      ],
      "text/markdown": [
       "1.0865955642745"
      ],
      "text/plain": [
       "[1] 1.086596"
      ]
     },
     "metadata": {},
     "output_type": "display_data"
    }
   ],
   "source": [
    "fit.glm.2 <- glm(y ~ poly(x, 2))\n",
    "cv.glm(Data, fit.glm.2)$delta[1]"
   ]
  },
  {
   "cell_type": "code",
   "execution_count": 11,
   "id": "incorporated-peeing",
   "metadata": {},
   "outputs": [
    {
     "data": {
      "text/html": [
       "1.10258509387339"
      ],
      "text/latex": [
       "1.10258509387339"
      ],
      "text/markdown": [
       "1.10258509387339"
      ],
      "text/plain": [
       "[1] 1.102585"
      ]
     },
     "metadata": {},
     "output_type": "display_data"
    }
   ],
   "source": [
    "fit.glm.3 <- glm(y ~ poly(x, 3))\n",
    "cv.glm(Data, fit.glm.3)$delta[1]"
   ]
  },
  {
   "cell_type": "code",
   "execution_count": 12,
   "id": "lonely-completion",
   "metadata": {},
   "outputs": [
    {
     "data": {
      "text/html": [
       "1.11477226814508"
      ],
      "text/latex": [
       "1.11477226814508"
      ],
      "text/markdown": [
       "1.11477226814508"
      ],
      "text/plain": [
       "[1] 1.114772"
      ]
     },
     "metadata": {},
     "output_type": "display_data"
    }
   ],
   "source": [
    "fit.glm.4 <- glm(y ~ poly(x, 4))\n",
    "cv.glm(Data, fit.glm.4)$delta[1]"
   ]
  },
  {
   "cell_type": "markdown",
   "id": "quiet-monroe",
   "metadata": {},
   "source": [
    "Equal results as LOOCV keeps en consideration n folds of a single observation."
   ]
  },
  {
   "cell_type": "markdown",
   "id": "permanent-fetish",
   "metadata": {},
   "source": [
    "## Exercise 1 (p.259, Chap.6) "
   ]
  },
  {
   "cell_type": "markdown",
   "id": "distant-reset",
   "metadata": {},
   "source": [
    "a) During subset selection, the model with k predictors is the model that has the lowest RSS among all the models with k predictors. With  forward stepwise selection the model with k predictors is the model that has the smallest RSS among the p−k models. During backward stepwise selection, the model with k predictors is the model with the smallest RSS among the k models which contains all but one of the predictors in Mk+1. So, the model which has the smallest training RSS is the one that we get from best subset selection as it is the one selected among all k predictors models.\n",
    "<br>\n",
    "b) The best subset selection can reach the smallest test RSS because it considers more models than the other methods. The other methods can lead to a model that has a smaller test RSS randomly tho. <br>\n",
    "c) <br>\n",
    "i. True. The model that has k+1 predictors is the result of the increase of predictors in the model with k predictors with one additional predictor.\n",
    "<br>\n",
    "ii. True. The model with k predictors is obtained by removing one predictor from the model with k+1 predictors. <br>\n",
    "iii. False. No connection between the models from forward and backward selection. <br>\n",
    "iv. False. There is no direct link between the models obtained from forward and backward selection. <br>\n",
    "v. False. The model with k+1 predictors is obtained by choosing among all possible models with k+1 predictors, so it doesn't necessarily contain all the predictors selected for the k-variable model."
   ]
  },
  {
   "cell_type": "markdown",
   "id": "unauthorized-deadline",
   "metadata": {},
   "source": [
    "## Exercise 9 (p.263, Chap.6)"
   ]
  },
  {
   "cell_type": "code",
   "execution_count": 13,
   "id": "flush-blond",
   "metadata": {},
   "outputs": [
    {
     "name": "stderr",
     "output_type": "stream",
     "text": [
      "Warning message:\n",
      "\"package 'ISLR' was built under R version 3.6.3\""
     ]
    }
   ],
   "source": [
    "#a)\n",
    "library(ISLR)\n",
    "data(College)\n",
    "set.seed(11)\n",
    "train = sample(1:dim(College)[1], dim(College)[1] / 2)\n",
    "test <- -train\n",
    "College.train <- College[train, ]\n",
    "College.test <- College[test, ]"
   ]
  },
  {
   "cell_type": "code",
   "execution_count": 14,
   "id": "biblical-leader",
   "metadata": {},
   "outputs": [
    {
     "data": {
      "text/html": [
       "1026095.92589411"
      ],
      "text/latex": [
       "1026095.92589411"
      ],
      "text/markdown": [
       "1026095.92589411"
      ],
      "text/plain": [
       "[1] 1026096"
      ]
     },
     "metadata": {},
     "output_type": "display_data"
    }
   ],
   "source": [
    "#b.\n",
    "fit.lm <- lm(Apps ~ ., data = College.train)\n",
    "pred.lm <- predict(fit.lm, College.test)\n",
    "mean((pred.lm - College.test$Apps)^2)"
   ]
  },
  {
   "cell_type": "code",
   "execution_count": 16,
   "id": "trained-petroleum",
   "metadata": {},
   "outputs": [
    {
     "name": "stderr",
     "output_type": "stream",
     "text": [
      "Loading required package: Matrix\n",
      "Loading required package: foreach\n",
      "Loaded glmnet 2.0-16\n",
      "\n"
     ]
    }
   ],
   "source": [
    "library(glmnet)"
   ]
  },
  {
   "cell_type": "code",
   "execution_count": 17,
   "id": "mental-kansas",
   "metadata": {},
   "outputs": [
    {
     "data": {
      "text/html": [
       "0.01"
      ],
      "text/latex": [
       "0.01"
      ],
      "text/markdown": [
       "0.01"
      ],
      "text/plain": [
       "[1] 0.01"
      ]
     },
     "metadata": {},
     "output_type": "display_data"
    }
   ],
   "source": [
    "#c.\n",
    "train.mat <- model.matrix(Apps ~ ., data = College.train)\n",
    "test.mat <- model.matrix(Apps ~ ., data = College.test)\n",
    "grid <- 10 ^ seq(4, -2, length = 100)\n",
    "fit.ridge <- glmnet(train.mat, College.train$Apps, alpha = 0, lambda = grid, thresh = 1e-12)\n",
    "cv.ridge <- cv.glmnet(train.mat, College.train$Apps, alpha = 0, lambda = grid, thresh = 1e-12)\n",
    "bestlam.ridge <- cv.ridge$lambda.min\n",
    "bestlam.ridge"
   ]
  },
  {
   "cell_type": "code",
   "execution_count": 18,
   "id": "unexpected-model",
   "metadata": {},
   "outputs": [
    {
     "data": {
      "text/html": [
       "1026068.65314469"
      ],
      "text/latex": [
       "1026068.65314469"
      ],
      "text/markdown": [
       "1026068.65314469"
      ],
      "text/plain": [
       "[1] 1026069"
      ]
     },
     "metadata": {},
     "output_type": "display_data"
    }
   ],
   "source": [
    "pred.ridge <- predict(fit.ridge, s = bestlam.ridge, newx = test.mat)\n",
    "mean((pred.ridge - College.test$Apps)^2)"
   ]
  },
  {
   "cell_type": "markdown",
   "id": "innocent-border",
   "metadata": {},
   "source": [
    "So the test is higher for Ridge."
   ]
  },
  {
   "cell_type": "code",
   "execution_count": 19,
   "id": "committed-solid",
   "metadata": {},
   "outputs": [
    {
     "data": {
      "text/html": [
       "0.01"
      ],
      "text/latex": [
       "0.01"
      ],
      "text/markdown": [
       "0.01"
      ],
      "text/plain": [
       "[1] 0.01"
      ]
     },
     "metadata": {},
     "output_type": "display_data"
    }
   ],
   "source": [
    "#d.\n",
    "fit.lasso <- glmnet(train.mat, College.train$Apps, alpha = 1, lambda = grid, thresh = 1e-12)\n",
    "cv.lasso <- cv.glmnet(train.mat, College.train$Apps, alpha = 1, lambda = grid, thresh = 1e-12)\n",
    "bestlam.lasso <- cv.lasso$lambda.min\n",
    "bestlam.lasso"
   ]
  },
  {
   "cell_type": "code",
   "execution_count": 20,
   "id": "genuine-roommate",
   "metadata": {},
   "outputs": [
    {
     "data": {
      "text/html": [
       "1026035.85789427"
      ],
      "text/latex": [
       "1026035.85789427"
      ],
      "text/markdown": [
       "1026035.85789427"
      ],
      "text/plain": [
       "[1] 1026036"
      ]
     },
     "metadata": {},
     "output_type": "display_data"
    }
   ],
   "source": [
    "pred.lasso <- predict(fit.lasso, s = bestlam.lasso, newx = test.mat)\n",
    "mean((pred.lasso - College.test$Apps)^2)"
   ]
  },
  {
   "cell_type": "code",
   "execution_count": 21,
   "id": "apparent-bracket",
   "metadata": {},
   "outputs": [
    {
     "data": {
      "text/plain": [
       "19 x 1 sparse Matrix of class \"dgCMatrix\"\n",
       "                        1\n",
       "(Intercept)   37.86520037\n",
       "(Intercept)    .         \n",
       "PrivateYes  -551.14946609\n",
       "Accept         1.74980812\n",
       "Enroll        -1.36005786\n",
       "Top10perc     65.55655577\n",
       "Top25perc    -22.52640339\n",
       "F.Undergrad    0.10181853\n",
       "P.Undergrad    0.01789131\n",
       "Outstate      -0.08706371\n",
       "Room.Board     0.15384585\n",
       "Books         -0.12227313\n",
       "Personal       0.16194591\n",
       "PhD          -14.29638634\n",
       "Terminal      -1.03118224\n",
       "S.F.Ratio      4.47956819\n",
       "perc.alumni   -0.45456280\n",
       "Expend         0.05618050\n",
       "Grad.Rate      9.07242834"
      ]
     },
     "metadata": {},
     "output_type": "display_data"
    }
   ],
   "source": [
    "predict(fit.lasso, s = bestlam.lasso, type = \"coefficients\")"
   ]
  },
  {
   "cell_type": "code",
   "execution_count": 24,
   "id": "numeric-offset",
   "metadata": {},
   "outputs": [
    {
     "name": "stdout",
     "output_type": "stream",
     "text": [
      "package 'pls' successfully unpacked and MD5 sums checked\n",
      "\n",
      "The downloaded binary packages are in\n",
      "\tC:\\Users\\avarnelli\\AppData\\Local\\Temp\\RtmpS0jGiw\\downloaded_packages\n"
     ]
    }
   ],
   "source": [
    "install.packages(\"pls\")"
   ]
  },
  {
   "cell_type": "code",
   "execution_count": 25,
   "id": "crude-physiology",
   "metadata": {},
   "outputs": [
    {
     "name": "stderr",
     "output_type": "stream",
     "text": [
      "Warning message:\n",
      "\"package 'pls' was built under R version 3.6.3\"\n",
      "Attaching package: 'pls'\n",
      "\n",
      "The following object is masked from 'package:stats':\n",
      "\n",
      "    loadings\n",
      "\n"
     ]
    }
   ],
   "source": [
    "library(pls)"
   ]
  },
  {
   "cell_type": "code",
   "execution_count": 26,
   "id": "south-karaoke",
   "metadata": {},
   "outputs": [
    {
     "data": {
      "image/png": "[encoded data removed]",
      "text/plain": [
       "Plot with title \"Apps\""
      ]
     },
     "metadata": {},
     "output_type": "display_data"
    }
   ],
   "source": [
    "#e.\n",
    "fit.pcr <- pcr(Apps ~ ., data = College.train, scale = TRUE, validation = \"CV\")\n",
    "validationplot(fit.pcr, val.type = \"MSEP\")"
   ]
  },
  {
   "cell_type": "code",
   "execution_count": 27,
   "id": "numerous-handy",
   "metadata": {},
   "outputs": [
    {
     "data": {
      "text/html": [
       "1867486.04890402"
      ],
      "text/latex": [
       "1867486.04890402"
      ],
      "text/markdown": [
       "1867486.04890402"
      ],
      "text/plain": [
       "[1] 1867486"
      ]
     },
     "metadata": {},
     "output_type": "display_data"
    }
   ],
   "source": [
    "pred.pcr <- predict(fit.pcr, College.test, ncomp = 10)\n",
    "mean((pred.pcr - College.test$Apps)^2)"
   ]
  },
  {
   "cell_type": "code",
   "execution_count": 28,
   "id": "extraordinary-cigarette",
   "metadata": {},
   "outputs": [
    {
     "data": {
      "image/png": "[encoded data removed]",
      "text/plain": [
       "Plot with title \"Apps\""
      ]
     },
     "metadata": {},
     "output_type": "display_data"
    }
   ],
   "source": [
    "#f.\n",
    "fit.pls <- plsr(Apps ~ ., data = College.train, scale = TRUE, validation = \"CV\")\n",
    "validationplot(fit.pls, val.type = \"MSEP\")"
   ]
  },
  {
   "cell_type": "code",
   "execution_count": 29,
   "id": "colored-notification",
   "metadata": {},
   "outputs": [
    {
     "data": {
      "text/html": [
       "1031287.46622274"
      ],
      "text/latex": [
       "1031287.46622274"
      ],
      "text/markdown": [
       "1031287.46622274"
      ],
      "text/plain": [
       "[1] 1031287"
      ]
     },
     "metadata": {},
     "output_type": "display_data"
    }
   ],
   "source": [
    "pred.pls <- predict(fit.pls, College.test, ncomp = 10)\n",
    "mean((pred.pls - College.test$Apps)^2)"
   ]
  },
  {
   "cell_type": "code",
   "execution_count": 30,
   "id": "voluntary-equivalent",
   "metadata": {},
   "outputs": [],
   "source": [
    "#g.\n",
    "test.avg <- mean(College.test$Apps)\n",
    "lm.r2 <- 1 - mean((pred.lm - College.test$Apps)^2) / mean((test.avg - College.test$Apps)^2)\n",
    "ridge.r2 <- 1 - mean((pred.ridge - College.test$Apps)^2) / mean((test.avg - College.test$Apps)^2)\n",
    "lasso.r2 <- 1 - mean((pred.lasso - College.test$Apps)^2) / mean((test.avg - College.test$Apps)^2)\n",
    "pcr.r2 <- 1 - mean((pred.pcr - College.test$Apps)^2) / mean((test.avg - College.test$Apps)^2)\n",
    "pls.r2 <- 1 - mean((pred.pls - College.test$Apps)^2) / mean((test.avg - College.test$Apps)^2)"
   ]
  },
  {
   "cell_type": "code",
   "execution_count": 31,
   "id": "advisory-campbell",
   "metadata": {},
   "outputs": [
    {
     "data": {
      "text/html": [
       "0.910422805412481"
      ],
      "text/latex": [
       "0.910422805412481"
      ],
      "text/markdown": [
       "0.910422805412481"
      ],
      "text/plain": [
       "[1] 0.9104228"
      ]
     },
     "metadata": {},
     "output_type": "display_data"
    }
   ],
   "source": [
    "lm.r2"
   ]
  },
  {
   "cell_type": "code",
   "execution_count": 32,
   "id": "increased-myrtle",
   "metadata": {},
   "outputs": [
    {
     "data": {
      "text/html": [
       "0.910425186297465"
      ],
      "text/latex": [
       "0.910425186297465"
      ],
      "text/markdown": [
       "0.910425186297465"
      ],
      "text/plain": [
       "[1] 0.9104252"
      ]
     },
     "metadata": {},
     "output_type": "display_data"
    }
   ],
   "source": [
    "ridge.r2"
   ]
  },
  {
   "cell_type": "code",
   "execution_count": 33,
   "id": "ancient-colony",
   "metadata": {},
   "outputs": [
    {
     "data": {
      "text/html": [
       "0.910428049291513"
      ],
      "text/latex": [
       "0.910428049291513"
      ],
      "text/markdown": [
       "0.910428049291513"
      ],
      "text/plain": [
       "[1] 0.910428"
      ]
     },
     "metadata": {},
     "output_type": "display_data"
    }
   ],
   "source": [
    "lasso.r2"
   ]
  },
  {
   "cell_type": "code",
   "execution_count": 34,
   "id": "toxic-snapshot",
   "metadata": {},
   "outputs": [
    {
     "data": {
      "text/html": [
       "0.836970251054856"
      ],
      "text/latex": [
       "0.836970251054856"
      ],
      "text/markdown": [
       "0.836970251054856"
      ],
      "text/plain": [
       "[1] 0.8369703"
      ]
     },
     "metadata": {},
     "output_type": "display_data"
    }
   ],
   "source": [
    "pcr.r2"
   ]
  },
  {
   "cell_type": "code",
   "execution_count": 35,
   "id": "incorporate-cambodia",
   "metadata": {},
   "outputs": [
    {
     "data": {
      "text/html": [
       "0.909969588898809"
      ],
      "text/latex": [
       "0.909969588898809"
      ],
      "text/markdown": [
       "0.909969588898809"
      ],
      "text/plain": [
       "[1] 0.9099696"
      ]
     },
     "metadata": {},
     "output_type": "display_data"
    }
   ],
   "source": [
    "pls.r2"
   ]
  },
  {
   "cell_type": "markdown",
   "id": "daily-knowing",
   "metadata": {},
   "source": [
    "So all the models are almost the same in terms of performance, but pcr."
   ]
  },
  {
   "cell_type": "markdown",
   "id": "minimal-trade",
   "metadata": {},
   "source": [
    "## Exercise 9 (p.299, Chap.7)"
   ]
  },
  {
   "cell_type": "code",
   "execution_count": 36,
   "id": "progressive-master",
   "metadata": {},
   "outputs": [
    {
     "name": "stderr",
     "output_type": "stream",
     "text": [
      "Warning message:\n",
      "\"package 'MASS' was built under R version 3.6.3\""
     ]
    },
    {
     "data": {
      "text/plain": [
       "\n",
       "Call:\n",
       "lm(formula = nox ~ poly(dis, 3), data = Boston)\n",
       "\n",
       "Residuals:\n",
       "      Min        1Q    Median        3Q       Max \n",
       "-0.121130 -0.040619 -0.009738  0.023385  0.194904 \n",
       "\n",
       "Coefficients:\n",
       "               Estimate Std. Error t value Pr(>|t|)    \n",
       "(Intercept)    0.554695   0.002759 201.021  < 2e-16 ***\n",
       "poly(dis, 3)1 -2.003096   0.062071 -32.271  < 2e-16 ***\n",
       "poly(dis, 3)2  0.856330   0.062071  13.796  < 2e-16 ***\n",
       "poly(dis, 3)3 -0.318049   0.062071  -5.124 4.27e-07 ***\n",
       "---\n",
       "Signif. codes:  0 '***' 0.001 '**' 0.01 '*' 0.05 '.' 0.1 ' ' 1\n",
       "\n",
       "Residual standard error: 0.06207 on 502 degrees of freedom\n",
       "Multiple R-squared:  0.7148,\tAdjusted R-squared:  0.7131 \n",
       "F-statistic: 419.3 on 3 and 502 DF,  p-value: < 2.2e-16\n"
      ]
     },
     "metadata": {},
     "output_type": "display_data"
    }
   ],
   "source": [
    "#a.\n",
    "library(MASS)\n",
    "fit <- lm(nox ~ poly(dis, 3), data = Boston)\n",
    "summary(fit)"
   ]
  },
  {
   "cell_type": "code",
   "execution_count": 39,
   "id": "liquid-graham",
   "metadata": {},
   "outputs": [
    {
     "data": {
      "image/png": "[encoded data removed]",
      "text/plain": [
       "plot without title"
      ]
     },
     "metadata": {},
     "output_type": "display_data"
    }
   ],
   "source": [
    "dis.grid <- seq(min(Boston$dis), max(Boston$dis), by = 0.1)\n",
    "preds <- predict(fit, list(dis = dis.grid), se = TRUE)\n",
    "se.bands <- cbind(preds$fit + 2* preds$se.fit, preds$fit - 2 * preds$se.fit)\n",
    "plot(nox ~ dis, data = Boston, col = \"darkgrey\")\n",
    "lines(dis.grid, preds$fit, lwd = 2, col = \"red\")\n",
    "matlines(dis.grid, se.bands, lwd = 1, col = \"red\", lty = 3)"
   ]
  },
  {
   "cell_type": "code",
   "execution_count": 40,
   "id": "residential-principle",
   "metadata": {},
   "outputs": [
    {
     "data": {
      "image/png": "[encoded data removed]",
      "text/plain": [
       "plot without title"
      ]
     },
     "metadata": {},
     "output_type": "display_data"
    }
   ],
   "source": [
    "#b.\n",
    "rss <- rep(NA, 10)\n",
    "for (i in 1:10) {\n",
    "  fit <- lm(nox ~ poly(dis, i), data = Boston)\n",
    "  rss[i] <- sum(fit$residuals ^ 2)\n",
    "}\n",
    "plot(1:10, rss, type = 'l', xlab = \"Degree\", ylab = \"RSS\")"
   ]
  },
  {
   "cell_type": "code",
   "execution_count": 41,
   "id": "subsequent-labor",
   "metadata": {},
   "outputs": [
    {
     "data": {
      "image/png": "[encoded data removed]",
      "text/plain": [
       "plot without title"
      ]
     },
     "metadata": {},
     "output_type": "display_data"
    }
   ],
   "source": [
    "#c.\n",
    "testMSE <- rep(NA, 10)\n",
    "for (i in 1:10) {\n",
    "  fit <- glm(nox ~ poly(dis, i), data = Boston)\n",
    "  testMSE[i] <- cv.glm(Boston, fit, K = 10)$delta[1]\n",
    "}\n",
    "plot(1:10, testMSE, type = 'l', xlab = \"Degree\", ylab = \"Test MSE\")\n",
    "points(which.min(testMSE), testMSE[which.min(testMSE)], col = 'red', pch = 19)"
   ]
  },
  {
   "cell_type": "code",
   "execution_count": 42,
   "id": "small-midnight",
   "metadata": {},
   "outputs": [
    {
     "data": {
      "text/html": [
       "<strong>50%:</strong> 3.20745"
      ],
      "text/latex": [
       "\\textbf{50\\textbackslash{}\\%:} 3.20745"
      ],
      "text/markdown": [
       "**50%:** 3.20745"
      ],
      "text/plain": [
       "    50% \n",
       "3.20745 "
      ]
     },
     "metadata": {},
     "output_type": "display_data"
    }
   ],
   "source": [
    "#d.\n",
    "library(splines)\n",
    "dof <- 4\n",
    "fit <- lm(nox ~ bs(dis, df = dof), data = Boston)\n",
    "attr(bs(Boston$dis, df = dof), \"knots\")"
   ]
  },
  {
   "cell_type": "code",
   "execution_count": 44,
   "id": "blessed-hierarchy",
   "metadata": {},
   "outputs": [
    {
     "data": {
      "image/png": "[encoded data removed]",
      "text/plain": [
       "plot without title"
      ]
     },
     "metadata": {},
     "output_type": "display_data"
    }
   ],
   "source": [
    "preds <- predict(fit, list(dis = dis.grid), se = TRUE)\n",
    "se.bands <- cbind(preds$fit + 2* preds$se.fit, preds$fit - 2 * preds$se.fit)\n",
    "plot(nox ~ dis, data = Boston, col = \"darkgrey\")\n",
    "lines(dis.grid, preds$fit, lwd = 2, col = \"red\")\n",
    "matlines(dis.grid, se.bands, lwd = 1, col = \"red\", lty = 3)"
   ]
  },
  {
   "cell_type": "code",
   "execution_count": 45,
   "id": "catholic-copper",
   "metadata": {},
   "outputs": [
    {
     "data": {
      "image/png": "[encoded data removed]",
      "text/plain": [
       "plot without title"
      ]
     },
     "metadata": {},
     "output_type": "display_data"
    }
   ],
   "source": [
    "#e.\n",
    "res <- c()\n",
    "df.range <- 3:16\n",
    "for (dof in df.range) {\n",
    "  fit <- lm(nox ~ bs(dis, df = dof), data = Boston)\n",
    "  res <- c(res, sum(fit$residuals ^ 2))\n",
    "}\n",
    "plot(df.range, res, type = 'l', xlab = 'degree of freedom', ylab = 'RSS')"
   ]
  },
  {
   "cell_type": "markdown",
   "id": "inappropriate-metallic",
   "metadata": {},
   "source": [
    "So 10 is good."
   ]
  },
  {
   "cell_type": "code",
   "execution_count": 46,
   "id": "voluntary-belize",
   "metadata": {},
   "outputs": [
    {
     "name": "stderr",
     "output_type": "stream",
     "text": [
      "Warning message in bs(dis, degree = 3L, knots = numeric(0), Boundary.knots = c(1.1691, :\n",
      "\"some 'x' values beyond boundary knots may cause ill-conditioned bases\"Warning message in bs(dis, degree = 3L, knots = numeric(0), Boundary.knots = c(1.1691, :\n",
      "\"some 'x' values beyond boundary knots may cause ill-conditioned bases\"Warning message in bs(dis, degree = 3L, knots = numeric(0), Boundary.knots = c(1.1296, :\n",
      "\"some 'x' values beyond boundary knots may cause ill-conditioned bases\"Warning message in bs(dis, degree = 3L, knots = numeric(0), Boundary.knots = c(1.1296, :\n",
      "\"some 'x' values beyond boundary knots may cause ill-conditioned bases\"Warning message in bs(dis, degree = 3L, knots = c(`50%` = 3.3175), Boundary.knots = c(1.1691, :\n",
      "\"some 'x' values beyond boundary knots may cause ill-conditioned bases\"Warning message in bs(dis, degree = 3L, knots = c(`50%` = 3.3175), Boundary.knots = c(1.1691, :\n",
      "\"some 'x' values beyond boundary knots may cause ill-conditioned bases\"Warning message in bs(dis, degree = 3L, knots = c(`50%` = 3.1323), Boundary.knots = c(1.1296, :\n",
      "\"some 'x' values beyond boundary knots may cause ill-conditioned bases\"Warning message in bs(dis, degree = 3L, knots = c(`50%` = 3.1323), Boundary.knots = c(1.1296, :\n",
      "\"some 'x' values beyond boundary knots may cause ill-conditioned bases\"Warning message in bs(dis, degree = 3L, knots = c(`33.33333%` = 2.35953333333333, :\n",
      "\"some 'x' values beyond boundary knots may cause ill-conditioned bases\"Warning message in bs(dis, degree = 3L, knots = c(`33.33333%` = 2.35953333333333, :\n",
      "\"some 'x' values beyond boundary knots may cause ill-conditioned bases\"Warning message in bs(dis, degree = 3L, knots = c(`33.33333%` = 2.32613333333333, :\n",
      "\"some 'x' values beyond boundary knots may cause ill-conditioned bases\"Warning message in bs(dis, degree = 3L, knots = c(`33.33333%` = 2.32613333333333, :\n",
      "\"some 'x' values beyond boundary knots may cause ill-conditioned bases\"Warning message in bs(dis, degree = 3L, knots = c(`25%` = 2.10035, `50%` = 3.2628, :\n",
      "\"some 'x' values beyond boundary knots may cause ill-conditioned bases\"Warning message in bs(dis, degree = 3L, knots = c(`25%` = 2.10035, `50%` = 3.2628, :\n",
      "\"some 'x' values beyond boundary knots may cause ill-conditioned bases\"Warning message in bs(dis, degree = 3L, knots = c(`25%` = 2.0941, `50%` = 3.1992, :\n",
      "\"some 'x' values beyond boundary knots may cause ill-conditioned bases\"Warning message in bs(dis, degree = 3L, knots = c(`25%` = 2.0941, `50%` = 3.1992, :\n",
      "\"some 'x' values beyond boundary knots may cause ill-conditioned bases\"Warning message in bs(dis, degree = 3L, knots = c(`20%` = 1.9796, `40%` = 2.70138, :\n",
      "\"some 'x' values beyond boundary knots may cause ill-conditioned bases\"Warning message in bs(dis, degree = 3L, knots = c(`20%` = 1.9796, `40%` = 2.70138, :\n",
      "\"some 'x' values beyond boundary knots may cause ill-conditioned bases\"Warning message in bs(dis, degree = 3L, knots = c(`20%` = 1.94264, `40%` = 2.5752, :\n",
      "\"some 'x' values beyond boundary knots may cause ill-conditioned bases\"Warning message in bs(dis, degree = 3L, knots = c(`20%` = 1.94264, `40%` = 2.5752, :\n",
      "\"some 'x' values beyond boundary knots may cause ill-conditioned bases\"Warning message in bs(dis, degree = 3L, knots = c(`16.66667%` = 1.85738333333333, :\n",
      "\"some 'x' values beyond boundary knots may cause ill-conditioned bases\"Warning message in bs(dis, degree = 3L, knots = c(`16.66667%` = 1.85738333333333, :\n",
      "\"some 'x' values beyond boundary knots may cause ill-conditioned bases\"Warning message in bs(dis, degree = 3L, knots = c(`16.66667%` = 1.86746666666667, :\n",
      "\"some 'x' values beyond boundary knots may cause ill-conditioned bases\"Warning message in bs(dis, degree = 3L, knots = c(`16.66667%` = 1.86746666666667, :\n",
      "\"some 'x' values beyond boundary knots may cause ill-conditioned bases\"Warning message in bs(dis, degree = 3L, knots = c(`14.28571%` = 1.80062857142857, :\n",
      "\"some 'x' values beyond boundary knots may cause ill-conditioned bases\"Warning message in bs(dis, degree = 3L, knots = c(`14.28571%` = 1.80062857142857, :\n",
      "\"some 'x' values beyond boundary knots may cause ill-conditioned bases\"Warning message in bs(dis, degree = 3L, knots = c(`12.5%` = 1.76375, `25%` = 2.1103, :\n",
      "\"some 'x' values beyond boundary knots may cause ill-conditioned bases\"Warning message in bs(dis, degree = 3L, knots = c(`12.5%` = 1.76375, `25%` = 2.1103, :\n",
      "\"some 'x' values beyond boundary knots may cause ill-conditioned bases\"Warning message in bs(dis, degree = 3L, knots = c(`12.5%` = 1.751575, `25%` = 2.10215, :\n",
      "\"some 'x' values beyond boundary knots may cause ill-conditioned bases\"Warning message in bs(dis, degree = 3L, knots = c(`12.5%` = 1.751575, `25%` = 2.10215, :\n",
      "\"some 'x' values beyond boundary knots may cause ill-conditioned bases\"Warning message in bs(dis, degree = 3L, knots = c(`11.11111%` = 1.66397777777778, :\n",
      "\"some 'x' values beyond boundary knots may cause ill-conditioned bases\"Warning message in bs(dis, degree = 3L, knots = c(`11.11111%` = 1.66397777777778, :\n",
      "\"some 'x' values beyond boundary knots may cause ill-conditioned bases\"Warning message in bs(dis, degree = 3L, knots = c(`11.11111%` = 1.68835555555556, :\n",
      "\"some 'x' values beyond boundary knots may cause ill-conditioned bases\"Warning message in bs(dis, degree = 3L, knots = c(`11.11111%` = 1.68835555555556, :\n",
      "\"some 'x' values beyond boundary knots may cause ill-conditioned bases\"Warning message in bs(dis, degree = 3L, knots = c(`10%` = 1.62008, `20%` = 1.96794, :\n",
      "\"some 'x' values beyond boundary knots may cause ill-conditioned bases\"Warning message in bs(dis, degree = 3L, knots = c(`10%` = 1.62008, `20%` = 1.96794, :\n",
      "\"some 'x' values beyond boundary knots may cause ill-conditioned bases\"Warning message in bs(dis, degree = 3L, knots = c(`10%` = 1.6362, `20%` = 1.9356, :\n",
      "\"some 'x' values beyond boundary knots may cause ill-conditioned bases\"Warning message in bs(dis, degree = 3L, knots = c(`10%` = 1.6362, `20%` = 1.9356, :\n",
      "\"some 'x' values beyond boundary knots may cause ill-conditioned bases\"Warning message in bs(dis, degree = 3L, knots = c(`9.090909%` = 1.61066363636364, :\n",
      "\"some 'x' values beyond boundary knots may cause ill-conditioned bases\"Warning message in bs(dis, degree = 3L, knots = c(`9.090909%` = 1.61066363636364, :\n",
      "\"some 'x' values beyond boundary knots may cause ill-conditioned bases\"Warning message in bs(dis, degree = 3L, knots = c(`9.090909%` = 1.61237272727273, :\n",
      "\"some 'x' values beyond boundary knots may cause ill-conditioned bases\"Warning message in bs(dis, degree = 3L, knots = c(`9.090909%` = 1.61237272727273, :\n",
      "\"some 'x' values beyond boundary knots may cause ill-conditioned bases\"Warning message in bs(dis, degree = 3L, knots = c(`8.333333%` = 1.60476666666667, :\n",
      "\"some 'x' values beyond boundary knots may cause ill-conditioned bases\"Warning message in bs(dis, degree = 3L, knots = c(`8.333333%` = 1.60476666666667, :\n",
      "\"some 'x' values beyond boundary knots may cause ill-conditioned bases\"Warning message in bs(dis, degree = 3L, knots = c(`7.692308%` = 1.5539, `15.38462%` = 1.8172, :\n",
      "\"some 'x' values beyond boundary knots may cause ill-conditioned bases\"Warning message in bs(dis, degree = 3L, knots = c(`7.692308%` = 1.5539, `15.38462%` = 1.8172, :\n",
      "\"some 'x' values beyond boundary knots may cause ill-conditioned bases\"Warning message in bs(dis, degree = 3L, knots = c(`7.692308%` = 1.5539, `15.38462%` = 1.7984, :\n",
      "\"some 'x' values beyond boundary knots may cause ill-conditioned bases\"Warning message in bs(dis, degree = 3L, knots = c(`7.692308%` = 1.5539, `15.38462%` = 1.7984, :\n",
      "\"some 'x' values beyond boundary knots may cause ill-conditioned bases\"Warning message in bs(dis, degree = 3L, knots = c(`7.142857%` = 1.5284, `14.28571%` = 1.78037142857143, :\n",
      "\"some 'x' values beyond boundary knots may cause ill-conditioned bases\"Warning message in bs(dis, degree = 3L, knots = c(`7.142857%` = 1.5284, `14.28571%` = 1.78037142857143, :\n",
      "\"some 'x' values beyond boundary knots may cause ill-conditioned bases\"Warning message in bs(dis, degree = 3L, knots = c(`7.142857%` = 1.52855, `14.28571%` = 1.7984, :\n",
      "\"some 'x' values beyond boundary knots may cause ill-conditioned bases\"Warning message in bs(dis, degree = 3L, knots = c(`7.142857%` = 1.52855, `14.28571%` = 1.7984, :\n",
      "\"some 'x' values beyond boundary knots may cause ill-conditioned bases\""
     ]
    }
   ],
   "source": [
    "#f.\n",
    "res <- c()\n",
    "for (dof in df.range) {\n",
    "  fit <- glm(nox ~ bs(dis, df = dof), data = Boston)\n",
    "  testMSE <- cv.glm(Boston, fit, K = 10)$delta[1]\n",
    "  res <- c(res, testMSE)\n",
    "}"
   ]
  },
  {
   "cell_type": "code",
   "execution_count": 47,
   "id": "pediatric-encoding",
   "metadata": {},
   "outputs": [
    {
     "data": {
      "image/png": "[encoded data removed]",
      "text/plain": [
       "plot without title"
      ]
     },
     "metadata": {},
     "output_type": "display_data"
    }
   ],
   "source": [
    "plot(df.range, res, type = 'l', xlab = 'degree of freedom', ylab = 'Test MSE')\n",
    "points(which.min(res) + 2, res[which.min(res)], col = 'red', pch = 19)"
   ]
  },
  {
   "cell_type": "markdown",
   "id": "offshore-lender",
   "metadata": {},
   "source": [
    "So 6 is good choice."
   ]
  },
  {
   "cell_type": "markdown",
   "id": "southwest-hospital",
   "metadata": {},
   "source": [
    "## Exercise 10 (p.300, Chap.7)"
   ]
  },
  {
   "cell_type": "code",
   "execution_count": 52,
   "id": "developed-phrase",
   "metadata": {},
   "outputs": [
    {
     "name": "stdout",
     "output_type": "stream",
     "text": [
      "package 'leaps' successfully unpacked and MD5 sums checked\n",
      "\n",
      "The downloaded binary packages are in\n",
      "\tC:\\Users\\avarnelli\\AppData\\Local\\Temp\\RtmpS0jGiw\\downloaded_packages\n"
     ]
    }
   ],
   "source": [
    "install.packages(\"leaps\")"
   ]
  },
  {
   "cell_type": "code",
   "execution_count": 53,
   "id": "exempt-treasurer",
   "metadata": {},
   "outputs": [
    {
     "name": "stderr",
     "output_type": "stream",
     "text": [
      "Warning message:\n",
      "\"package 'leaps' was built under R version 3.6.3\""
     ]
    }
   ],
   "source": [
    "library(leaps)"
   ]
  },
  {
   "cell_type": "code",
   "execution_count": 54,
   "id": "seven-product",
   "metadata": {},
   "outputs": [
    {
     "data": {
      "text/plain": [
       "Subset selection object\n",
       "Call: regsubsets.formula(Outstate ~ ., data = College, subset = train, \n",
       "    method = \"forward\")\n",
       "17 Variables  (and intercept)\n",
       "            Forced in Forced out\n",
       "PrivateYes      FALSE      FALSE\n",
       "Apps            FALSE      FALSE\n",
       "Accept          FALSE      FALSE\n",
       "Enroll          FALSE      FALSE\n",
       "Top10perc       FALSE      FALSE\n",
       "Top25perc       FALSE      FALSE\n",
       "F.Undergrad     FALSE      FALSE\n",
       "P.Undergrad     FALSE      FALSE\n",
       "Room.Board      FALSE      FALSE\n",
       "Books           FALSE      FALSE\n",
       "Personal        FALSE      FALSE\n",
       "PhD             FALSE      FALSE\n",
       "Terminal        FALSE      FALSE\n",
       "S.F.Ratio       FALSE      FALSE\n",
       "perc.alumni     FALSE      FALSE\n",
       "Expend          FALSE      FALSE\n",
       "Grad.Rate       FALSE      FALSE\n",
       "1 subsets of each size up to 8\n",
       "Selection Algorithm: forward\n",
       "         PrivateYes Apps Accept Enroll Top10perc Top25perc F.Undergrad\n",
       "1  ( 1 ) \" \"        \" \"  \" \"    \" \"    \" \"       \" \"       \" \"        \n",
       "2  ( 1 ) \"*\"        \" \"  \" \"    \" \"    \" \"       \" \"       \" \"        \n",
       "3  ( 1 ) \"*\"        \" \"  \" \"    \" \"    \" \"       \" \"       \" \"        \n",
       "4  ( 1 ) \"*\"        \" \"  \" \"    \" \"    \" \"       \" \"       \" \"        \n",
       "5  ( 1 ) \"*\"        \" \"  \" \"    \" \"    \" \"       \" \"       \" \"        \n",
       "6  ( 1 ) \"*\"        \" \"  \" \"    \" \"    \" \"       \" \"       \" \"        \n",
       "7  ( 1 ) \"*\"        \" \"  \" \"    \" \"    \" \"       \" \"       \" \"        \n",
       "8  ( 1 ) \"*\"        \" \"  \" \"    \" \"    \" \"       \" \"       \" \"        \n",
       "         P.Undergrad Room.Board Books Personal PhD Terminal S.F.Ratio\n",
       "1  ( 1 ) \" \"         \" \"        \" \"   \" \"      \" \" \" \"      \" \"      \n",
       "2  ( 1 ) \" \"         \" \"        \" \"   \" \"      \" \" \" \"      \" \"      \n",
       "3  ( 1 ) \" \"         \"*\"        \" \"   \" \"      \" \" \" \"      \" \"      \n",
       "4  ( 1 ) \" \"         \"*\"        \" \"   \" \"      \" \" \" \"      \" \"      \n",
       "5  ( 1 ) \" \"         \"*\"        \" \"   \" \"      \" \" \" \"      \" \"      \n",
       "6  ( 1 ) \" \"         \"*\"        \" \"   \" \"      \" \" \"*\"      \" \"      \n",
       "7  ( 1 ) \" \"         \"*\"        \" \"   \"*\"      \" \" \"*\"      \" \"      \n",
       "8  ( 1 ) \" \"         \"*\"        \" \"   \"*\"      \" \" \"*\"      \"*\"      \n",
       "         perc.alumni Expend Grad.Rate\n",
       "1  ( 1 ) \" \"         \"*\"    \" \"      \n",
       "2  ( 1 ) \" \"         \"*\"    \" \"      \n",
       "3  ( 1 ) \" \"         \"*\"    \" \"      \n",
       "4  ( 1 ) \" \"         \"*\"    \"*\"      \n",
       "5  ( 1 ) \"*\"         \"*\"    \"*\"      \n",
       "6  ( 1 ) \"*\"         \"*\"    \"*\"      \n",
       "7  ( 1 ) \"*\"         \"*\"    \"*\"      \n",
       "8  ( 1 ) \"*\"         \"*\"    \"*\"      "
      ]
     },
     "metadata": {},
     "output_type": "display_data"
    }
   ],
   "source": [
    "#a.\n",
    "library(ISLR)\n",
    "library(leaps)\n",
    "train <- sample(1: nrow(College), nrow(College)/2)\n",
    "test <- -train\n",
    "fit <- regsubsets(Outstate ~ ., data = College, subset = train, method = 'forward')\n",
    "fit.summary <- summary(fit)\n",
    "fit.summary"
   ]
  },
  {
   "cell_type": "code",
   "execution_count": 55,
   "id": "under-turkish",
   "metadata": {},
   "outputs": [
    {
     "data": {
      "text/html": [
       "<dl class=dl-horizontal>\n",
       "\t<dt>(Intercept)</dt>\n",
       "\t\t<dd>-4019.52479691023</dd>\n",
       "\t<dt>PrivateYes</dt>\n",
       "\t\t<dd>2658.58247007536</dd>\n",
       "\t<dt>Room.Board</dt>\n",
       "\t\t<dd>0.874152863391887</dd>\n",
       "\t<dt>Terminal</dt>\n",
       "\t\t<dd>35.9459473622277</dd>\n",
       "\t<dt>perc.alumni</dt>\n",
       "\t\t<dd>45.7752295940846</dd>\n",
       "\t<dt>Expend</dt>\n",
       "\t\t<dd>0.261648601344881</dd>\n",
       "\t<dt>Grad.Rate</dt>\n",
       "\t\t<dd>35.0230529086568</dd>\n",
       "</dl>\n"
      ],
      "text/latex": [
       "\\begin{description*}\n",
       "\\item[(Intercept)] -4019.52479691023\n",
       "\\item[PrivateYes] 2658.58247007536\n",
       "\\item[Room.Board] 0.874152863391887\n",
       "\\item[Terminal] 35.9459473622277\n",
       "\\item[perc.alumni] 45.7752295940846\n",
       "\\item[Expend] 0.261648601344881\n",
       "\\item[Grad.Rate] 35.0230529086568\n",
       "\\end{description*}\n"
      ],
      "text/markdown": [
       "(Intercept)\n",
       ":   -4019.52479691023PrivateYes\n",
       ":   2658.58247007536Room.Board\n",
       ":   0.874152863391887Terminal\n",
       ":   35.9459473622277perc.alumni\n",
       ":   45.7752295940846Expend\n",
       ":   0.261648601344881Grad.Rate\n",
       ":   35.0230529086568\n",
       "\n"
      ],
      "text/plain": [
       "  (Intercept)    PrivateYes    Room.Board      Terminal   perc.alumni \n",
       "-4019.5247969  2658.5824701     0.8741529    35.9459474    45.7752296 \n",
       "       Expend     Grad.Rate \n",
       "    0.2616486    35.0230529 "
      ]
     },
     "metadata": {},
     "output_type": "display_data"
    }
   ],
   "source": [
    "coef(fit, id = 6)"
   ]
  },
  {
   "cell_type": "code",
   "execution_count": 58,
   "id": "split-express",
   "metadata": {},
   "outputs": [
    {
     "name": "stdout",
     "output_type": "stream",
     "text": [
      "\n",
      "  There is a binary version available but the source version is later:\n",
      "    binary source needs_compilation\n",
      "gam 1.16.1   1.20              TRUE\n",
      "\n",
      "  Binaries will be installed\n",
      "package 'gam' successfully unpacked and MD5 sums checked\n",
      "\n",
      "The downloaded binary packages are in\n",
      "\tC:\\Users\\avarnelli\\AppData\\Local\\Temp\\RtmpS0jGiw\\downloaded_packages\n"
     ]
    }
   ],
   "source": [
    "install.packages(\"gam\")"
   ]
  },
  {
   "cell_type": "code",
   "execution_count": 59,
   "id": "affiliated-psychology",
   "metadata": {},
   "outputs": [
    {
     "name": "stderr",
     "output_type": "stream",
     "text": [
      "Warning message:\n",
      "\"package 'gam' was built under R version 3.6.3\"Loaded gam 1.16.1\n",
      "\n"
     ]
    }
   ],
   "source": [
    "library(gam)"
   ]
  },
  {
   "cell_type": "code",
   "execution_count": 60,
   "id": "failing-munich",
   "metadata": {},
   "outputs": [
    {
     "name": "stderr",
     "output_type": "stream",
     "text": [
      "Warning message in model.matrix.default(mt, mf, contrasts):\n",
      "\"non-list contrasts argument ignored\""
     ]
    },
    {
     "data": {
      "image/png": "[encoded data removed]",
      "text/plain": [
       "plot without title"
      ]
     },
     "metadata": {},
     "output_type": "display_data"
    }
   ],
   "source": [
    "#b.\n",
    "gam.mod <- gam(Outstate ~ Private + s(Room.Board, 5) + s(Terminal, 5) + s(perc.alumni, 5) + s(Expend, 5) + s(Grad.Rate, 5), data = College, subset = train)\n",
    "par(mfrow = c(2,3))\n",
    "plot(gam.mod, se = TRUE, col = 'blue')"
   ]
  },
  {
   "cell_type": "code",
   "execution_count": 61,
   "id": "electoral-convertible",
   "metadata": {},
   "outputs": [
    {
     "data": {
      "text/html": [
       "0.776970342799756"
      ],
      "text/latex": [
       "0.776970342799756"
      ],
      "text/markdown": [
       "0.776970342799756"
      ],
      "text/plain": [
       "[1] 0.7769703"
      ]
     },
     "metadata": {},
     "output_type": "display_data"
    }
   ],
   "source": [
    "#c.\n",
    "preds <- predict(gam.mod, College[test, ])\n",
    "RSS <- sum((College[test, ]$Outstate - preds)^2) # based on equation (3.16)\n",
    "TSS <- sum((College[test, ]$Outstate - mean(College[test, ]$Outstate)) ^ 2)\n",
    "1 - (RSS / TSS)   # based on equation"
   ]
  },
  {
   "cell_type": "markdown",
   "id": "religious-provincial",
   "metadata": {},
   "source": [
    "So R2 statistic for the test set is 0.77."
   ]
  },
  {
   "cell_type": "code",
   "execution_count": 62,
   "id": "nasty-acceptance",
   "metadata": {},
   "outputs": [
    {
     "data": {
      "text/plain": [
       "\n",
       "Call: gam(formula = Outstate ~ Private + s(Room.Board, 5) + s(Terminal, \n",
       "    5) + s(perc.alumni, 5) + s(Expend, 5) + s(Grad.Rate, 5), \n",
       "    data = College, subset = train)\n",
       "Deviance Residuals:\n",
       "     Min       1Q   Median       3Q      Max \n",
       "-7264.48 -1068.90    16.88  1258.34  7477.71 \n",
       "\n",
       "(Dispersion Parameter for gaussian family taken to be 3735617)\n",
       "\n",
       "    Null Deviance: 6373312289 on 387 degrees of freedom\n",
       "Residual Deviance: 1348555250 on 360.9994 degrees of freedom\n",
       "AIC: 7000.88 \n",
       "\n",
       "Number of Local Scoring Iterations: 2 \n",
       "\n",
       "Anova for Parametric Effects\n",
       "                   Df     Sum Sq    Mean Sq F value    Pr(>F)    \n",
       "Private             1 1716753181 1716753181 459.563 < 2.2e-16 ***\n",
       "s(Room.Board, 5)    1 1256652433 1256652433 336.398 < 2.2e-16 ***\n",
       "s(Terminal, 5)      1  425534617  425534617 113.913 < 2.2e-16 ***\n",
       "s(perc.alumni, 5)   1  269049398  269049398  72.023 5.578e-16 ***\n",
       "s(Expend, 5)        1  537919762  537919762 143.998 < 2.2e-16 ***\n",
       "s(Grad.Rate, 5)     1  122654026  122654026  32.834 2.119e-08 ***\n",
       "Residuals         361 1348555250    3735617                      \n",
       "---\n",
       "Signif. codes:  0 '***' 0.001 '**' 0.01 '*' 0.05 '.' 0.1 ' ' 1\n",
       "\n",
       "Anova for Nonparametric Effects\n",
       "                  Npar Df  Npar F     Pr(F)    \n",
       "(Intercept)                                    \n",
       "Private                                        \n",
       "s(Room.Board, 5)        4  2.9956   0.01874 *  \n",
       "s(Terminal, 5)          4  1.1506   0.33249    \n",
       "s(perc.alumni, 5)       4  1.3764   0.24156    \n",
       "s(Expend, 5)            4 14.7814 3.397e-11 ***\n",
       "s(Grad.Rate, 5)         4  2.1388   0.07554 .  \n",
       "---\n",
       "Signif. codes:  0 '***' 0.001 '**' 0.01 '*' 0.05 '.' 0.1 ' ' 1"
      ]
     },
     "metadata": {},
     "output_type": "display_data"
    }
   ],
   "source": [
    "#d.\n",
    "summary(gam.mod)"
   ]
  },
  {
   "cell_type": "markdown",
   "id": "brazilian-auction",
   "metadata": {},
   "source": [
    "Anova result for Nonparametric Effects shows that Expend has strong non-linear relationshop with the Outstate. Grad.Rate and PhD have moderate non-linear relationship with the Outstate, which matches the result of (b)."
   ]
  }
 ],
 "metadata": {
  "kernelspec": {
   "display_name": "R",
   "language": "R",
   "name": "ir"
  },
  "language_info": {
   "codemirror_mode": "r",
   "file_extension": ".r",
   "mimetype": "text/x-r-source",
   "name": "R",
   "pygments_lexer": "r",
   "version": "3.6.1"
  }
 },
 "nbformat": 4,
 "nbformat_minor": 5
}
