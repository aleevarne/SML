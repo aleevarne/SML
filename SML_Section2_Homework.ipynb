{
 "cells": [
  {
   "cell_type": "markdown",
   "metadata": {},
   "source": [
    "![ieseg logo](./img/ieseg.png)\n",
    "\n",
    "#### MBD 2020-2021\n",
    "# Statistical & Machine Learning Approaches for Marketing\n",
    "\n",
    "## Section 2: Classification"
   ]
  },
  {
   "cell_type": "markdown",
   "metadata": {},
   "source": [
    "### 1. Import all required libraries and datasets"
   ]
  },
  {
   "cell_type": "code",
   "execution_count": 13,
   "metadata": {},
   "outputs": [
    {
     "name": "stderr",
     "output_type": "stream",
     "text": [
      "Loading required package: lattice\n",
      "\n",
      "Loading required package: ggplot2\n",
      "\n",
      "\n",
      "Attaching package: 'caret'\n",
      "\n",
      "\n",
      "The following object is masked from 'package:kknn':\n",
      "\n",
      "    contr.dummy\n",
      "\n",
      "\n",
      "The following object is masked from 'package:mlr':\n",
      "\n",
      "    train\n",
      "\n",
      "\n",
      "Type 'citation(\"pROC\")' for a citation.\n",
      "\n",
      "\n",
      "Attaching package: 'pROC'\n",
      "\n",
      "\n",
      "The following objects are masked from 'package:stats':\n",
      "\n",
      "    cov, smooth, var\n",
      "\n",
      "\n",
      "\n",
      "Attaching package: 'e1071'\n",
      "\n",
      "\n",
      "The following object is masked from 'package:mlr':\n",
      "\n",
      "    impute\n",
      "\n",
      "\n"
     ]
    },
    {
     "data": {
      "text/html": [
       "'R version 4.0.3 (2020-10-10)'"
      ],
      "text/latex": [
       "'R version 4.0.3 (2020-10-10)'"
      ],
      "text/markdown": [
       "'R version 4.0.3 (2020-10-10)'"
      ],
      "text/plain": [
       "[1] \"R version 4.0.3 (2020-10-10)\""
      ]
     },
     "metadata": {},
     "output_type": "display_data"
    }
   ],
   "source": [
    "# Set environment params\n",
    "Sys.setenv(LANG='en')  # English\n",
    "\n",
    "# Import libraries\n",
    "library(data.table)  # Data manipulate\n",
    "library(mlr)         # ML toolkit\n",
    "library(caret)       # ML toolkit\n",
    "library(ggplot2)     # Visualization\n",
    "library(pROC)        # AUC, ROC\n",
    "library(e1071)       # Evaluation\n",
    "library(gridExtra)   # Visualization\n",
    "library(kknn)        # kNN model\n",
    "library(nnet)        # One-vs-All Logistic Regression\n",
    "library(dummies)     # Data processing\n",
    "\n",
    "# Import data\n",
    "library(ISLR)      # Data from the course book\n",
    "library(MASS)      # Boston housing dataset\n",
    "library(datasets)  # US crime dataset\n",
    "\n",
    "# Resize plot\n",
    "library(repr)  # String and binary representations\n",
    "#options(repr.plot.width=4, repr.plot.height=4)\n",
    "\n",
    "R.version.string"
   ]
  },
  {
   "cell_type": "code",
   "execution_count": 143,
   "metadata": {},
   "outputs": [],
   "source": [
    "# Install missing packages\n",
    "# install.packages(c(\"data.table\", \"mlr3\", \"caret\", \"ggplot2\", \"plotrix\", \"rgl\", \"ISLR\", \"MASS\", \"datasets\"))\n",
    "# install.packages(c(\"mlr\", pROC\", \"e1071\", \"gridExtra\", \"kknn\", \"nnet\", \"dummies\"))"
   ]
  },
  {
   "cell_type": "markdown",
   "metadata": {},
   "source": [
    "### 2. Why not Linear Regression?"
   ]
  },
  {
   "cell_type": "markdown",
   "metadata": {},
   "source": [
    "#### 2.1. The Credit Card Default Data"
   ]
  },
  {
   "cell_type": "markdown",
   "metadata": {},
   "source": [
    "**Example 1:**\n",
    "\n",
    "Q1: How many predictors? Types? Descriptive analysis?\n",
    "\n",
    "Q2: The response has how many classes? Size of each class?\n",
    "\n",
    "Q3: Make a quick analysis to see which predictor has the most predictability?"
   ]
  },
  {
   "cell_type": "code",
   "execution_count": null,
   "metadata": {},
   "outputs": [],
   "source": []
  },
  {
   "cell_type": "code",
   "execution_count": 1,
   "metadata": {},
   "outputs": [
    {
     "name": "stderr",
     "output_type": "stream",
     "text": [
      "Warning message:\n",
      "\"package 'ISLR' was built under R version 3.6.3\""
     ]
    }
   ],
   "source": [
    "# Read the data\n",
    "library(ISLR)\n",
    "df <- Default"
   ]
  },
  {
   "cell_type": "code",
   "execution_count": 2,
   "metadata": {},
   "outputs": [
    {
     "name": "stdout",
     "output_type": "stream",
     "text": [
      "'data.frame':\t10000 obs. of  4 variables:\n",
      " $ default: Factor w/ 2 levels \"No\",\"Yes\": 1 1 1 1 1 1 1 1 1 1 ...\n",
      " $ student: Factor w/ 2 levels \"No\",\"Yes\": 1 2 1 1 1 2 1 2 1 1 ...\n",
      " $ balance: num  730 817 1074 529 786 ...\n",
      " $ income : num  44362 12106 31767 35704 38463 ...\n"
     ]
    }
   ],
   "source": [
    "# Q1: How many predictors? Types? Descriptive analysis?\n",
    "str(df)"
   ]
  },
  {
   "cell_type": "code",
   "execution_count": 46,
   "metadata": {},
   "outputs": [
    {
     "data": {
      "text/plain": [
       " default    student       balance           income     \n",
       " No :9667   No :7056   Min.   :   0.0   Min.   :  772  \n",
       " Yes: 333   Yes:2944   1st Qu.: 481.7   1st Qu.:21340  \n",
       "                       Median : 823.6   Median :34553  \n",
       "                       Mean   : 835.4   Mean   :33517  \n",
       "                       3rd Qu.:1166.3   3rd Qu.:43808  \n",
       "                       Max.   :2654.3   Max.   :73554  "
      ]
     },
     "metadata": {},
     "output_type": "display_data"
    }
   ],
   "source": [
    "summary(df)"
   ]
  },
  {
   "cell_type": "code",
   "execution_count": 47,
   "metadata": {},
   "outputs": [
    {
     "data": {
      "text/plain": [
       "\n",
       "  No  Yes \n",
       "9667  333 "
      ]
     },
     "metadata": {},
     "output_type": "display_data"
    },
    {
     "data": {
      "text/plain": [
       "\n",
       "    No    Yes \n",
       "0.9667 0.0333 "
      ]
     },
     "metadata": {},
     "output_type": "display_data"
    }
   ],
   "source": [
    "# Q2: The response has how many classes? Size of each class?\n",
    "table(df$default)\n",
    "table(df$default)/nrow(df)"
   ]
  },
  {
   "cell_type": "code",
   "execution_count": 48,
   "metadata": {},
   "outputs": [
    {
     "data": {
      "image/png": "[encoded data removed]",
      "text/plain": [
       "plot without title"
      ]
     },
     "metadata": {
      "image/png": {
       "height": 480,
       "width": 480
      }
     },
     "output_type": "display_data"
    }
   ],
   "source": [
    "# Q3: Make a quick analysis to see which predictor has the most predictability?\n",
    "# options(repr.plot.width=5, repr.plot.height=5)\n",
    "cols <- rep('blue', nrow(df))  # Not default\n",
    "cols[df$default == 'Yes'] <- 'red'  # Default\n",
    "pairs(df, col=cols)"
   ]
  },
  {
   "cell_type": "markdown",
   "metadata": {},
   "source": [
    "#### 2.2. Using Simple Linear Regression for classification problem: Credit Card Default Data"
   ]
  },
  {
   "cell_type": "code",
   "execution_count": 49,
   "metadata": {},
   "outputs": [
    {
     "name": "stdout",
     "output_type": "stream",
     "text": [
      "'data.frame':\t10000 obs. of  2 variables:\n",
      " $ balance: num  730 817 1074 529 786 ...\n",
      " $ default: Factor w/ 2 levels \"No\",\"Yes\": 1 1 1 1 1 1 1 1 1 1 ...\n"
     ]
    },
    {
     "data": {
      "text/plain": [
       "\n",
       " FALSE   TRUE \n",
       "0.9667 0.0333 "
      ]
     },
     "metadata": {},
     "output_type": "display_data"
    }
   ],
   "source": [
    "# Import and select a subset of Default data\n",
    "library(ISLR)\n",
    "df <- Default[, c('balance', 'default')]\n",
    "str(df)\n",
    "\n",
    "# Convert the response to [0, 1]\n",
    "df$default <- df$default == 'Yes'\n",
    "\n",
    "# Print out the incident rate\n",
    "table(df$default)/nrow(df)"
   ]
  },
  {
   "cell_type": "code",
   "execution_count": 50,
   "metadata": {},
   "outputs": [
    {
     "data": {
      "image/png": "[encoded data removed]",
      "text/plain": [
       "plot without title"
      ]
     },
     "metadata": {
      "image/png": {
       "height": 480,
       "width": 480
      }
     },
     "output_type": "display_data"
    }
   ],
   "source": [
    "# Visualization the data\n",
    "# options(repr.plot.width=6, repr.plot.height=4)\n",
    "cols <- rep('blue', nrow(df))  # Not default\n",
    "cols[df$default == TRUE] <- 'red'  # Default\n",
    "\n",
    "plot(x=df$balance, y=df$default,  # Plot the data\n",
    "     xlab='Balance', ylab='Default',\n",
    "     pch='|', cex=0.5, col=cols)\n",
    "\n",
    "abline(lm(default ~ balance, data=df))  # Plot the regression model"
   ]
  },
  {
   "cell_type": "markdown",
   "metadata": {},
   "source": [
    "#### 2.3. Using Multilinear Regression for classification problem: Credit Card Default Data"
   ]
  },
  {
   "cell_type": "markdown",
   "metadata": {},
   "source": [
    "**Example 2:**\n",
    "\n",
    "Q1: Build a linear regression model to predict the default status  \n",
    "\n",
    "Q2: Try with multiple values of the threshold the decide the class of the results  \n",
    "\n",
    "Q3: Calculate the accuracy and AUC of each threshold value"
   ]
  },
  {
   "cell_type": "code",
   "execution_count": 51,
   "metadata": {},
   "outputs": [
    {
     "name": "stdout",
     "output_type": "stream",
     "text": [
      "'data.frame':\t10000 obs. of  4 variables:\n",
      " $ default: Factor w/ 2 levels \"No\",\"Yes\": 1 1 1 1 1 1 1 1 1 1 ...\n",
      " $ student: Factor w/ 2 levels \"No\",\"Yes\": 1 2 1 1 1 2 1 2 1 1 ...\n",
      " $ balance: num  730 817 1074 529 786 ...\n",
      " $ income : num  44362 12106 31767 35704 38463 ...\n"
     ]
    },
    {
     "data": {
      "text/plain": [
       "\n",
       "    No    Yes \n",
       "0.9667 0.0333 "
      ]
     },
     "metadata": {},
     "output_type": "display_data"
    }
   ],
   "source": [
    "# Import Default data\n",
    "library(ISLR)\n",
    "df <- Default\n",
    "str(df)\n",
    "\n",
    "# Print out the incident rate\n",
    "table(df$default)/nrow(df)"
   ]
  },
  {
   "cell_type": "code",
   "execution_count": 52,
   "metadata": {},
   "outputs": [],
   "source": [
    "# Train test separate with stratified\n",
    "set.seed(123)\n",
    "train_idx <- createDataPartition(df$default, p=.7, list=FALSE)\n",
    "train <- df[train_idx, ]\n",
    "test <- df[-train_idx, ]"
   ]
  },
  {
   "cell_type": "code",
   "execution_count": 53,
   "metadata": {},
   "outputs": [
    {
     "data": {
      "text/plain": [
       "\n",
       "Call:\n",
       "lm(formula = default ~ ., data = train_lr)\n",
       "\n",
       "Residuals:\n",
       "     Min       1Q   Median       3Q      Max \n",
       "-0.24435 -0.06973 -0.02670  0.01995  0.97897 \n",
       "\n",
       "Coefficients:\n",
       "              Estimate Std. Error t value Pr(>|t|)    \n",
       "(Intercept) -7.147e-02  1.005e-02  -7.113 1.25e-12 ***\n",
       "studentYes  -1.914e-02  6.766e-03  -2.829  0.00468 ** \n",
       "balance      1.318e-04  4.252e-06  30.995  < 2e-16 ***\n",
       "income       1.372e-08  2.290e-07   0.060  0.95222    \n",
       "---\n",
       "Signif. codes:  0 '***' 0.001 '**' 0.01 '*' 0.05 '.' 0.1 ' ' 1\n",
       "\n",
       "Residual standard error: 0.1686 on 6997 degrees of freedom\n",
       "Multiple R-squared:  0.121,\tAdjusted R-squared:  0.1206 \n",
       "F-statistic: 321.1 on 3 and 6997 DF,  p-value: < 2.2e-16\n"
      ]
     },
     "metadata": {},
     "output_type": "display_data"
    }
   ],
   "source": [
    "# Q1: Build a linear regression model to predict the default status\n",
    "\n",
    "# Encode the response before fiting to Linear Regression model\n",
    "train_lr <- train\n",
    "test_lr <- test\n",
    "train_lr$default <- as.numeric(train_lr$default) - 1\n",
    "test_lr$default <- as.numeric(test_lr$default) - 1\n",
    "\n",
    "# Fit Linear Regression model\n",
    "md_lr <- lm(default ~ ., data=train_lr)\n",
    "summary(md_lr)"
   ]
  },
  {
   "cell_type": "code",
   "execution_count": 54,
   "metadata": {},
   "outputs": [
    {
     "data": {
      "text/html": [
       "<style>\n",
       ".dl-inline {width: auto; margin:0; padding: 0}\n",
       ".dl-inline>dt, .dl-inline>dd {float: none; width: auto; display: inline-block}\n",
       ".dl-inline>dt::after {content: \":\\0020\"; padding-right: .5ex}\n",
       ".dl-inline>dt:not(:first-of-type) {padding-left: .5ex}\n",
       "</style><dl class=dl-inline><dt>6</dt><dd>0.0306905525636148</dd><dt>12</dt><dd>0.07043982738727</dd><dt>19</dt><dd>-0.00657983159991253</dd><dt>23</dt><dd>0.068405925175166</dd><dt>24</dt><dd>0.0135598600148866</dd><dt>26</dt><dd>0.0415635050999315</dd></dl>\n"
      ],
      "text/latex": [
       "\\begin{description*}\n",
       "\\item[6] 0.0306905525636148\n",
       "\\item[12] 0.07043982738727\n",
       "\\item[19] -0.00657983159991253\n",
       "\\item[23] 0.068405925175166\n",
       "\\item[24] 0.0135598600148866\n",
       "\\item[26] 0.0415635050999315\n",
       "\\end{description*}\n"
      ],
      "text/markdown": [
       "6\n",
       ":   0.030690552563614812\n",
       ":   0.0704398273872719\n",
       ":   -0.0065798315999125323\n",
       ":   0.06840592517516624\n",
       ":   0.013559860014886626\n",
       ":   0.0415635050999315\n",
       "\n"
      ],
      "text/plain": [
       "           6           12           19           23           24           26 \n",
       " 0.030690553  0.070439827 -0.006579832  0.068405925  0.013559860  0.041563505 "
      ]
     },
     "metadata": {},
     "output_type": "display_data"
    },
    {
     "data": {
      "text/plain": [
       "    Min.  1st Qu.   Median     Mean  3rd Qu.     Max. \n",
       "-0.09045 -0.01254  0.03111  0.03353  0.07574  0.23085 "
      ]
     },
     "metadata": {},
     "output_type": "display_data"
    },
    {
     "name": "stdout",
     "output_type": "stream",
     "text": [
      "[1] \"Decision threshold=0.0333\"\n"
     ]
    }
   ],
   "source": [
    "# Q2: Try with multiple values of the threshold the decide the class of the results\n",
    "\n",
    "# Predict and evaluate\n",
    "pred <- predict(md_lr, newdata=test_lr)\n",
    "head(pred)\n",
    "summary(pred)\n",
    "\n",
    "# Convert probability to class\n",
    "threshold <- (table(df$default) / nrow(df))[2]\n",
    "print(paste0('Decision threshold=', threshold))\n",
    "pred_lb <- as.numeric(pred >= threshold)"
   ]
  },
  {
   "cell_type": "code",
   "execution_count": 55,
   "metadata": {},
   "outputs": [
    {
     "data": {
      "text/plain": [
       "Confusion Matrix and Statistics\n",
       "\n",
       "          Reference\n",
       "Prediction    0    1\n",
       "         0 1544    1\n",
       "         1 1356   98\n",
       "                                          \n",
       "               Accuracy : 0.5475          \n",
       "                 95% CI : (0.5295, 0.5654)\n",
       "    No Information Rate : 0.967           \n",
       "    P-Value [Acc > NIR] : 1               \n",
       "                                          \n",
       "                  Kappa : 0.0686          \n",
       "                                          \n",
       " Mcnemar's Test P-Value : <2e-16          \n",
       "                                          \n",
       "            Sensitivity : 0.5324          \n",
       "            Specificity : 0.9899          \n",
       "         Pos Pred Value : 0.9994          \n",
       "         Neg Pred Value : 0.0674          \n",
       "             Prevalence : 0.9670          \n",
       "         Detection Rate : 0.5148          \n",
       "   Detection Prevalence : 0.5152          \n",
       "      Balanced Accuracy : 0.7612          \n",
       "                                          \n",
       "       'Positive' Class : 0               \n",
       "                                          "
      ]
     },
     "metadata": {},
     "output_type": "display_data"
    },
    {
     "name": "stderr",
     "output_type": "stream",
     "text": [
      "Setting levels: control = 0, case = 1\n",
      "\n",
      "Setting direction: controls < cases\n",
      "\n"
     ]
    },
    {
     "name": "stdout",
     "output_type": "stream",
     "text": [
      "[1] \"AUC=0.533376512956113\"\n"
     ]
    }
   ],
   "source": [
    "# Q3: Calculate the accuracy and AUC of each threshold value\n",
    "\n",
    "# Confusion matrix\n",
    "caret::confusionMatrix(as.factor(pred_lb), as.factor(test_lr$default))\n",
    "\n",
    "# AUC\n",
    "pred_roc <- roc(pred_lb, test_lr$default)\n",
    "pred_auc <- auc(pred_roc)\n",
    "print(paste0('AUC=', pred_auc))"
   ]
  },
  {
   "cell_type": "markdown",
   "metadata": {},
   "source": [
    "### 3. Logistic Regression"
   ]
  },
  {
   "cell_type": "markdown",
   "metadata": {},
   "source": [
    "#### 3.1. Sigmoid function"
   ]
  },
  {
   "cell_type": "code",
   "execution_count": 56,
   "metadata": {},
   "outputs": [],
   "source": [
    "# Defind the standard sigmoid function\n",
    "sigmoid <- function(x) {\n",
    "    1 / (1 + exp(-x))\n",
    "}"
   ]
  },
  {
   "cell_type": "code",
   "execution_count": 57,
   "metadata": {},
   "outputs": [
    {
     "data": {
      "image/png": "[encoded data removed]",
      "text/plain": [
       "plot without title"
      ]
     },
     "metadata": {
      "image/png": {
       "height": 480,
       "width": 480
      }
     },
     "output_type": "display_data"
    }
   ],
   "source": [
    "# Plot the sigmoid function\n",
    "x <- seq(-10, 10)\n",
    "y <- sigmoid(x)\n",
    "\n",
    "# options(repr.plot.width=6, repr.plot.height=4)\n",
    "plot(x, y, type='l')"
   ]
  },
  {
   "cell_type": "markdown",
   "metadata": {},
   "source": [
    "#### 3.2. Example of Gradient Descent optimization algorithm\n",
    "\n",
    "Ref: https://en.wikipedia.org/wiki/Gradient_descent"
   ]
  },
  {
   "cell_type": "code",
   "execution_count": 58,
   "metadata": {},
   "outputs": [
    {
     "data": {
      "image/png": "[encoded data removed]",
      "text/plain": [
       "plot without title"
      ]
     },
     "metadata": {
      "image/png": {
       "height": 480,
       "width": 480
      }
     },
     "output_type": "display_data"
    }
   ],
   "source": [
    "# Defind the objective function f(x) = x^2\n",
    "objfun <- function(x) { x^2 }\n",
    "\n",
    "# Generate value for x\n",
    "x <- seq(-10, 10)\n",
    "\n",
    "# Plot the function\n",
    "# options(repr.plot.width=6, repr.plot.height=4)\n",
    "plot(x, objfun(x), type='l',\n",
    "     ylab='f(x)')"
   ]
  },
  {
   "cell_type": "code",
   "execution_count": 59,
   "metadata": {},
   "outputs": [],
   "source": [
    "# Define the gradient of objective function\n",
    "gradient <- function(x) return( 2*x )\n",
    "\n",
    "# Set up a stepsize multiplier (learning rate)\n",
    "gamma <- 0.003\n",
    "\n",
    "# Set up a number of iterations\n",
    "iter <- 500\n",
    "\n",
    "# Randomly initialize a value to x\n",
    "set.seed(100)\n",
    "x <- floor(runif(1, 0, 10))\n",
    "x0 <- x\n",
    "\n",
    "# create a vector to contain all xs for all steps\n",
    "x.All <- numeric(iter)\n",
    "\n",
    "# Gradient descent method to find the minimum\n",
    "for(i in seq_len(iter)){\n",
    "        x <- x - gamma*gradient(x)\n",
    "        x.All[i] <- x\n",
    "}"
   ]
  },
  {
   "cell_type": "code",
   "execution_count": 60,
   "metadata": {},
   "outputs": [
    {
     "name": "stdout",
     "output_type": "stream",
     "text": [
      "[1] \"Round = 100\"\n",
      "[1] \"x = 1.64346210459692\"\n",
      "[1] \"Round = 200\"\n",
      "[1] \"x = 0.900322563082048\"\n",
      "[1] \"Round = 300\"\n",
      "[1] \"x = 0.493215338112973\"\n",
      "[1] \"Round = 400\"\n",
      "[1] \"x = 0.270193572531543\"\n",
      "[1] \"Round = 500\"\n",
      "[1] \"x = 0.14801763245375\"\n"
     ]
    },
    {
     "data": {
      "image/png": "[encoded data removed]",
      "text/plain": [
       "plot without title"
      ]
     },
     "metadata": {
      "image/png": {
       "height": 480,
       "width": 480
      }
     },
     "output_type": "display_data"
    }
   ],
   "source": [
    "# Visualize the gradient descent\n",
    "# options(repr.plot.width=6, repr.plot.height=4)\n",
    "\n",
    "# Generate value for x\n",
    "x <- seq(-10, 10)\n",
    "\n",
    "# Initial the function plot\n",
    "plot(x, objfun(x), type='l', ylab='f(x)')  # f(x)\n",
    "points(x0, objfun(x0), col='red', bg='red')  # Initial the first random x point\n",
    "\n",
    "# Plot the process of gradient descent\n",
    "for(i in seq_len(iter)) {\n",
    "    if (i %% 100 == 0) {\n",
    "        points(x.All[i], objfun(x.All[i]), col='red', bg='red')  # Plot the new x and f(x)\n",
    "        print(paste('Round =', i))  # Print the iteration\n",
    "        print(paste('x =', x.All[i]))  # Print the new x value \n",
    "        Sys.sleep(1)  # 1s\n",
    "    }\n",
    "}"
   ]
  },
  {
   "cell_type": "markdown",
   "metadata": {},
   "source": [
    "#### 3.3. Credit Card Default Data"
   ]
  },
  {
   "cell_type": "markdown",
   "metadata": {},
   "source": [
    "**Single variable (p = 1)**"
   ]
  },
  {
   "cell_type": "code",
   "execution_count": 61,
   "metadata": {},
   "outputs": [
    {
     "name": "stdout",
     "output_type": "stream",
     "text": [
      "'data.frame':\t10000 obs. of  4 variables:\n",
      " $ default: Factor w/ 2 levels \"No\",\"Yes\": 1 1 1 1 1 1 1 1 1 1 ...\n",
      " $ student: Factor w/ 2 levels \"No\",\"Yes\": 1 2 1 1 1 2 1 2 1 1 ...\n",
      " $ balance: num  730 817 1074 529 786 ...\n",
      " $ income : num  44362 12106 31767 35704 38463 ...\n"
     ]
    }
   ],
   "source": [
    "# Input data\n",
    "library(ISLR)\n",
    "df <- Default\n",
    "str(df)"
   ]
  },
  {
   "cell_type": "code",
   "execution_count": 62,
   "metadata": {},
   "outputs": [],
   "source": [
    "# Convert the response to [0, 1]\n",
    "df$default <- df$default == 'Yes'"
   ]
  },
  {
   "cell_type": "code",
   "execution_count": 63,
   "metadata": {},
   "outputs": [
    {
     "data": {
      "image/png": "[encoded data removed]",
      "text/plain": [
       "plot without title"
      ]
     },
     "metadata": {
      "image/png": {
       "height": 480,
       "width": 720
      }
     },
     "output_type": "display_data"
    }
   ],
   "source": [
    "# Relationship between balance and default\n",
    "options(repr.plot.width=12, repr.plot.height=8)\n",
    "cols <- rep('blue', nrow(df))  # Not default\n",
    "cols[df$default == TRUE] <- 'red'  # Default\n",
    "\n",
    "par(mfrow=c(1, 2))\n",
    "\n",
    "plot(x=df$balance, y=df$default,  # Plot the data\n",
    "     xlab='Balance', ylab='Default',\n",
    "     pch='|', cex=0.5, col=cols)\n",
    "\n",
    "boxplot(balance ~ default, data=df,\n",
    "        col=c('blue', 'red'),\n",
    "        xlab='Default', ylab='Balance')"
   ]
  },
  {
   "cell_type": "code",
   "execution_count": 64,
   "metadata": {},
   "outputs": [
    {
     "data": {
      "text/plain": [
       "\n",
       "Call:\n",
       "glm(formula = default ~ balance, family = \"binomial\", data = df)\n",
       "\n",
       "Deviance Residuals: \n",
       "    Min       1Q   Median       3Q      Max  \n",
       "-2.2697  -0.1465  -0.0589  -0.0221   3.7589  \n",
       "\n",
       "Coefficients:\n",
       "              Estimate Std. Error z value Pr(>|z|)    \n",
       "(Intercept) -1.065e+01  3.612e-01  -29.49   <2e-16 ***\n",
       "balance      5.499e-03  2.204e-04   24.95   <2e-16 ***\n",
       "---\n",
       "Signif. codes:  0 '***' 0.001 '**' 0.01 '*' 0.05 '.' 0.1 ' ' 1\n",
       "\n",
       "(Dispersion parameter for binomial family taken to be 1)\n",
       "\n",
       "    Null deviance: 2920.6  on 9999  degrees of freedom\n",
       "Residual deviance: 1596.5  on 9998  degrees of freedom\n",
       "AIC: 1600.5\n",
       "\n",
       "Number of Fisher Scoring iterations: 8\n"
      ]
     },
     "metadata": {},
     "output_type": "display_data"
    }
   ],
   "source": [
    "# Fit Logistic Regression model between balance and default\n",
    "md_logreg <- glm(default ~ balance, data=df, family='binomial')\n",
    "summary(md_logreg)"
   ]
  },
  {
   "cell_type": "code",
   "execution_count": 65,
   "metadata": {},
   "outputs": [
    {
     "data": {
      "image/png": "[encoded data removed]",
      "text/plain": [
       "plot without title"
      ]
     },
     "metadata": {
      "image/png": {
       "height": 480,
       "width": 480
      }
     },
     "output_type": "display_data"
    }
   ],
   "source": [
    "# Relationship between balance and default\n",
    "options(repr.plot.width=8, repr.plot.height=8)\n",
    "cols <- rep('blue', nrow(df))  # Not default\n",
    "cols[df$default == TRUE] <- 'red'  # Default\n",
    "\n",
    "plot(x=df$balance, y=df$default,  # Plot the data\n",
    "     xlab='Balance', ylab='Default',\n",
    "     pch='|', cex=0.5, col=cols)\n",
    "\n",
    "# Prepare data for the Logistic Regression plot\n",
    "df_sort <- df[order(df$balance), ]  # Sort the data\n",
    "xweight <- df_sort$balance\n",
    "yweight <- predict(md_logreg, df_sort, type=\"response\")\n",
    "\n",
    "lines(xweight, yweight)  # Plot the LR"
   ]
  },
  {
   "cell_type": "code",
   "execution_count": 66,
   "metadata": {},
   "outputs": [
    {
     "data": {
      "text/plain": [
       "\n",
       "Call:\n",
       "glm(formula = default ~ student, family = \"binomial\", data = df)\n",
       "\n",
       "Deviance Residuals: \n",
       "    Min       1Q   Median       3Q      Max  \n",
       "-0.2970  -0.2970  -0.2434  -0.2434   2.6585  \n",
       "\n",
       "Coefficients:\n",
       "            Estimate Std. Error z value Pr(>|z|)    \n",
       "(Intercept) -3.50413    0.07071  -49.55  < 2e-16 ***\n",
       "studentYes   0.40489    0.11502    3.52 0.000431 ***\n",
       "---\n",
       "Signif. codes:  0 '***' 0.001 '**' 0.01 '*' 0.05 '.' 0.1 ' ' 1\n",
       "\n",
       "(Dispersion parameter for binomial family taken to be 1)\n",
       "\n",
       "    Null deviance: 2920.6  on 9999  degrees of freedom\n",
       "Residual deviance: 2908.7  on 9998  degrees of freedom\n",
       "AIC: 2912.7\n",
       "\n",
       "Number of Fisher Scoring iterations: 6\n"
      ]
     },
     "metadata": {},
     "output_type": "display_data"
    }
   ],
   "source": [
    "# Fit Logistic Regression model between student and default\n",
    "md_logreg <- glm(default ~ student, data=df, family='binomial')\n",
    "summary(md_logreg)"
   ]
  },
  {
   "cell_type": "markdown",
   "metadata": {},
   "source": [
    "**Multiple variables (p > 1)**"
   ]
  },
  {
   "cell_type": "code",
   "execution_count": 67,
   "metadata": {},
   "outputs": [
    {
     "data": {
      "text/plain": [
       "\n",
       "Call:\n",
       "glm(formula = default ~ balance + income + student, family = \"binomial\", \n",
       "    data = df)\n",
       "\n",
       "Deviance Residuals: \n",
       "    Min       1Q   Median       3Q      Max  \n",
       "-2.4691  -0.1418  -0.0557  -0.0203   3.7383  \n",
       "\n",
       "Coefficients:\n",
       "              Estimate Std. Error z value Pr(>|z|)    \n",
       "(Intercept) -1.087e+01  4.923e-01 -22.080  < 2e-16 ***\n",
       "balance      5.737e-03  2.319e-04  24.738  < 2e-16 ***\n",
       "income       3.033e-06  8.203e-06   0.370  0.71152    \n",
       "studentYes  -6.468e-01  2.363e-01  -2.738  0.00619 ** \n",
       "---\n",
       "Signif. codes:  0 '***' 0.001 '**' 0.01 '*' 0.05 '.' 0.1 ' ' 1\n",
       "\n",
       "(Dispersion parameter for binomial family taken to be 1)\n",
       "\n",
       "    Null deviance: 2920.6  on 9999  degrees of freedom\n",
       "Residual deviance: 1571.5  on 9996  degrees of freedom\n",
       "AIC: 1579.5\n",
       "\n",
       "Number of Fisher Scoring iterations: 8\n"
      ]
     },
     "metadata": {},
     "output_type": "display_data"
    }
   ],
   "source": [
    "# Fit Logistic Regression model between student and default\n",
    "md_logreg <- glm(default ~ balance + income + student, data=df, family='binomial')\n",
    "summary(md_logreg)"
   ]
  },
  {
   "cell_type": "code",
   "execution_count": 68,
   "metadata": {},
   "outputs": [
    {
     "data": {
      "image/png": "[encoded data removed]",
      "text/plain": [
       "Plot with title \"Student = No\""
      ]
     },
     "metadata": {
      "image/png": {
       "height": 480,
       "width": 480
      }
     },
     "output_type": "display_data"
    }
   ],
   "source": [
    "# Explain the negative coefficient of student\n",
    "options(repr.plot.width=8, repr.plot.height=8)\n",
    "par(mfrow=c(1, 2))\n",
    "hist(df[df$student == 'Yes', 'balance'], breaks=20,\n",
    "     xlim=c(0, max(df$balance)), ylim=c(0, 800),\n",
    "     main='Student = Yes', xlab='Balance')\n",
    "hist(df[df$student == 'No', 'balance'], breaks=20,\n",
    "     xlim=c(0, max(df$balance)), ylim=c(0, 800),\n",
    "     main='Student = No', xlab='Balance')"
   ]
  },
  {
   "cell_type": "markdown",
   "metadata": {},
   "source": [
    "#### 3.4. South African Heart Disease Data"
   ]
  },
  {
   "cell_type": "code",
   "execution_count": 69,
   "metadata": {},
   "outputs": [
    {
     "name": "stdout",
     "output_type": "stream",
     "text": [
      "'data.frame':\t462 obs. of  10 variables:\n",
      " $ sbp      : int  160 144 118 170 134 132 142 114 114 132 ...\n",
      " $ tobacco  : num  12 0.01 0.08 7.5 13.6 6.2 4.05 4.08 0 0 ...\n",
      " $ ldl      : num  5.73 4.41 3.48 6.41 3.5 6.47 3.38 4.59 3.83 5.8 ...\n",
      " $ adiposity: num  23.1 28.6 32.3 38 27.8 ...\n",
      " $ famhist  : chr  \"Present\" \"Absent\" \"Present\" \"Present\" ...\n",
      " $ typea    : int  49 55 52 51 60 62 59 62 49 69 ...\n",
      " $ obesity  : num  25.3 28.9 29.1 32 26 ...\n",
      " $ alcohol  : num  97.2 2.06 3.81 24.26 57.34 ...\n",
      " $ age      : int  52 63 46 58 49 45 38 58 29 53 ...\n",
      " $ chd      : int  1 1 0 1 1 0 0 1 0 1 ...\n"
     ]
    }
   ],
   "source": [
    "# Input data\n",
    "# Source: https://web.stanford.edu/~hastie/ElemStatLearn/datasets/SAheart.info.txt\n",
    "# sbp       : systolic blood pressure\n",
    "# tobacco   : cumulative tobacco (kg)\n",
    "# ldl       : low densiity lipoprotein cholesterol\n",
    "# adiposity : severely overweight status\n",
    "# famhist   : family history of heart disease (Present, Absent)\n",
    "# typea     : type-A behavior\n",
    "# obesity   : obesity status\n",
    "# alcohol   : current alcohol consumption\n",
    "# age       : age at onset\n",
    "# chd       : response, coronary heart disease\n",
    "heart <- read.csv('./data/SAheart.csv', row.names=1)\n",
    "str(heart)"
   ]
  },
  {
   "cell_type": "code",
   "execution_count": 70,
   "metadata": {},
   "outputs": [
    {
     "data": {
      "text/plain": [
       "\n",
       "  0   1 \n",
       "302 160 "
      ]
     },
     "metadata": {},
     "output_type": "display_data"
    }
   ],
   "source": [
    "# Cases and controls\n",
    "table(heart$chd)"
   ]
  },
  {
   "cell_type": "code",
   "execution_count": 71,
   "metadata": {},
   "outputs": [
    {
     "data": {
      "text/html": [
       "<table class=\"dataframe\">\n",
       "<caption>A data.frame: 6 × 10</caption>\n",
       "<thead>\n",
       "\t<tr><th></th><th scope=col>sbp</th><th scope=col>tobacco</th><th scope=col>ldl</th><th scope=col>adiposity</th><th scope=col>famhist</th><th scope=col>typea</th><th scope=col>obesity</th><th scope=col>alcohol</th><th scope=col>age</th><th scope=col>chd</th></tr>\n",
       "\t<tr><th></th><th scope=col>&lt;int&gt;</th><th scope=col>&lt;dbl&gt;</th><th scope=col>&lt;dbl&gt;</th><th scope=col>&lt;dbl&gt;</th><th scope=col>&lt;chr&gt;</th><th scope=col>&lt;int&gt;</th><th scope=col>&lt;dbl&gt;</th><th scope=col>&lt;dbl&gt;</th><th scope=col>&lt;int&gt;</th><th scope=col>&lt;int&gt;</th></tr>\n",
       "</thead>\n",
       "<tbody>\n",
       "\t<tr><th scope=row>1</th><td>160</td><td>12.00</td><td>5.73</td><td>23.11</td><td>Present</td><td>49</td><td>25.30</td><td>97.20</td><td>52</td><td>1</td></tr>\n",
       "\t<tr><th scope=row>2</th><td>144</td><td> 0.01</td><td>4.41</td><td>28.61</td><td>Absent </td><td>55</td><td>28.87</td><td> 2.06</td><td>63</td><td>1</td></tr>\n",
       "\t<tr><th scope=row>3</th><td>118</td><td> 0.08</td><td>3.48</td><td>32.28</td><td>Present</td><td>52</td><td>29.14</td><td> 3.81</td><td>46</td><td>0</td></tr>\n",
       "\t<tr><th scope=row>4</th><td>170</td><td> 7.50</td><td>6.41</td><td>38.03</td><td>Present</td><td>51</td><td>31.99</td><td>24.26</td><td>58</td><td>1</td></tr>\n",
       "\t<tr><th scope=row>5</th><td>134</td><td>13.60</td><td>3.50</td><td>27.78</td><td>Present</td><td>60</td><td>25.99</td><td>57.34</td><td>49</td><td>1</td></tr>\n",
       "\t<tr><th scope=row>6</th><td>132</td><td> 6.20</td><td>6.47</td><td>36.21</td><td>Present</td><td>62</td><td>30.77</td><td>14.14</td><td>45</td><td>0</td></tr>\n",
       "</tbody>\n",
       "</table>\n"
      ],
      "text/latex": [
       "A data.frame: 6 × 10\n",
       "\\begin{tabular}{r|llllllllll}\n",
       "  & sbp & tobacco & ldl & adiposity & famhist & typea & obesity & alcohol & age & chd\\\\\n",
       "  & <int> & <dbl> & <dbl> & <dbl> & <chr> & <int> & <dbl> & <dbl> & <int> & <int>\\\\\n",
       "\\hline\n",
       "\t1 & 160 & 12.00 & 5.73 & 23.11 & Present & 49 & 25.30 & 97.20 & 52 & 1\\\\\n",
       "\t2 & 144 &  0.01 & 4.41 & 28.61 & Absent  & 55 & 28.87 &  2.06 & 63 & 1\\\\\n",
       "\t3 & 118 &  0.08 & 3.48 & 32.28 & Present & 52 & 29.14 &  3.81 & 46 & 0\\\\\n",
       "\t4 & 170 &  7.50 & 6.41 & 38.03 & Present & 51 & 31.99 & 24.26 & 58 & 1\\\\\n",
       "\t5 & 134 & 13.60 & 3.50 & 27.78 & Present & 60 & 25.99 & 57.34 & 49 & 1\\\\\n",
       "\t6 & 132 &  6.20 & 6.47 & 36.21 & Present & 62 & 30.77 & 14.14 & 45 & 0\\\\\n",
       "\\end{tabular}\n"
      ],
      "text/markdown": [
       "\n",
       "A data.frame: 6 × 10\n",
       "\n",
       "| <!--/--> | sbp &lt;int&gt; | tobacco &lt;dbl&gt; | ldl &lt;dbl&gt; | adiposity &lt;dbl&gt; | famhist &lt;chr&gt; | typea &lt;int&gt; | obesity &lt;dbl&gt; | alcohol &lt;dbl&gt; | age &lt;int&gt; | chd &lt;int&gt; |\n",
       "|---|---|---|---|---|---|---|---|---|---|---|\n",
       "| 1 | 160 | 12.00 | 5.73 | 23.11 | Present | 49 | 25.30 | 97.20 | 52 | 1 |\n",
       "| 2 | 144 |  0.01 | 4.41 | 28.61 | Absent  | 55 | 28.87 |  2.06 | 63 | 1 |\n",
       "| 3 | 118 |  0.08 | 3.48 | 32.28 | Present | 52 | 29.14 |  3.81 | 46 | 0 |\n",
       "| 4 | 170 |  7.50 | 6.41 | 38.03 | Present | 51 | 31.99 | 24.26 | 58 | 1 |\n",
       "| 5 | 134 | 13.60 | 3.50 | 27.78 | Present | 60 | 25.99 | 57.34 | 49 | 1 |\n",
       "| 6 | 132 |  6.20 | 6.47 | 36.21 | Present | 62 | 30.77 | 14.14 | 45 | 0 |\n",
       "\n"
      ],
      "text/plain": [
       "  sbp tobacco ldl  adiposity famhist typea obesity alcohol age chd\n",
       "1 160 12.00   5.73 23.11     Present 49    25.30   97.20   52  1  \n",
       "2 144  0.01   4.41 28.61     Absent  55    28.87    2.06   63  1  \n",
       "3 118  0.08   3.48 32.28     Present 52    29.14    3.81   46  0  \n",
       "4 170  7.50   6.41 38.03     Present 51    31.99   24.26   58  1  \n",
       "5 134 13.60   3.50 27.78     Present 60    25.99   57.34   49  1  \n",
       "6 132  6.20   6.47 36.21     Present 62    30.77   14.14   45  0  "
      ]
     },
     "metadata": {},
     "output_type": "display_data"
    }
   ],
   "source": [
    "head(heart)"
   ]
  },
  {
   "cell_type": "code",
   "execution_count": 73,
   "metadata": {},
   "outputs": [
    {
     "data": {
      "image/png": "[encoded data removed]",
      "text/plain": [
       "plot without title"
      ]
     },
     "metadata": {
      "image/png": {
       "height": 600,
       "width": 600
      }
     },
     "output_type": "display_data"
    }
   ],
   "source": [
    "# Pair plot\n",
    "options(repr.plot.width=10, repr.plot.height=10)\n",
    "cols <- rep('red', nrow(heart))  # With heart disease\n",
    "cols[heart$chd == 0] <- 'blue'  # No heart disease\n",
    "pairs(chd ~ sbp + tobacco + ldl + adiposity + typea + obesity + alcohol + age, data=heart, col=cols)"
   ]
  },
  {
   "cell_type": "markdown",
   "metadata": {},
   "source": [
    "**Example 6:** Build and interprete a logistic regression model to predict the heart disease (chd)."
   ]
  },
  {
   "cell_type": "code",
   "execution_count": 74,
   "metadata": {},
   "outputs": [
    {
     "data": {
      "text/plain": [
       "\n",
       "Call:\n",
       "glm(formula = chd ~ ., family = \"binomial\", data = heart)\n",
       "\n",
       "Deviance Residuals: \n",
       "    Min       1Q   Median       3Q      Max  \n",
       "-1.7781  -0.8213  -0.4387   0.8889   2.5435  \n",
       "\n",
       "Coefficients:\n",
       "                 Estimate Std. Error z value Pr(>|z|)    \n",
       "(Intercept)    -6.1507209  1.3082600  -4.701 2.58e-06 ***\n",
       "sbp             0.0065040  0.0057304   1.135 0.256374    \n",
       "tobacco         0.0793764  0.0266028   2.984 0.002847 ** \n",
       "ldl             0.1739239  0.0596617   2.915 0.003555 ** \n",
       "adiposity       0.0185866  0.0292894   0.635 0.525700    \n",
       "famhistPresent  0.9253704  0.2278940   4.061 4.90e-05 ***\n",
       "typea           0.0395950  0.0123202   3.214 0.001310 ** \n",
       "obesity        -0.0629099  0.0442477  -1.422 0.155095    \n",
       "alcohol         0.0001217  0.0044832   0.027 0.978350    \n",
       "age             0.0452253  0.0121298   3.728 0.000193 ***\n",
       "---\n",
       "Signif. codes:  0 '***' 0.001 '**' 0.01 '*' 0.05 '.' 0.1 ' ' 1\n",
       "\n",
       "(Dispersion parameter for binomial family taken to be 1)\n",
       "\n",
       "    Null deviance: 596.11  on 461  degrees of freedom\n",
       "Residual deviance: 472.14  on 452  degrees of freedom\n",
       "AIC: 492.14\n",
       "\n",
       "Number of Fisher Scoring iterations: 5\n"
      ]
     },
     "metadata": {},
     "output_type": "display_data"
    }
   ],
   "source": [
    "# Fit logistic regression model\n",
    "md_logreg <- glm(chd ~ ., data=heart, family='binomial')\n",
    "summary(md_logreg)"
   ]
  },
  {
   "cell_type": "code",
   "execution_count": 75,
   "metadata": {},
   "outputs": [
    {
     "data": {
      "text/plain": [
       "\n",
       "Call:\n",
       "glm(formula = chd ~ tobacco + ldl + famhist + typea + age, family = \"binomial\", \n",
       "    data = heart)\n",
       "\n",
       "Deviance Residuals: \n",
       "    Min       1Q   Median       3Q      Max  \n",
       "-1.9165  -0.8054  -0.4430   0.9329   2.6139  \n",
       "\n",
       "Coefficients:\n",
       "               Estimate Std. Error z value Pr(>|z|)    \n",
       "(Intercept)    -6.44644    0.92087  -7.000 2.55e-12 ***\n",
       "tobacco         0.08038    0.02588   3.106  0.00190 ** \n",
       "ldl             0.16199    0.05497   2.947  0.00321 ** \n",
       "famhistPresent  0.90818    0.22576   4.023 5.75e-05 ***\n",
       "typea           0.03712    0.01217   3.051  0.00228 ** \n",
       "age             0.05046    0.01021   4.944 7.65e-07 ***\n",
       "---\n",
       "Signif. codes:  0 '***' 0.001 '**' 0.01 '*' 0.05 '.' 0.1 ' ' 1\n",
       "\n",
       "(Dispersion parameter for binomial family taken to be 1)\n",
       "\n",
       "    Null deviance: 596.11  on 461  degrees of freedom\n",
       "Residual deviance: 475.69  on 456  degrees of freedom\n",
       "AIC: 487.69\n",
       "\n",
       "Number of Fisher Scoring iterations: 5\n"
      ]
     },
     "metadata": {},
     "output_type": "display_data"
    }
   ],
   "source": [
    "# Fit logistic regression model with only signiificant variables\n",
    "md_logreg <- glm(chd ~ tobacco + ldl + famhist + typea + age , data=heart, family='binomial')\n",
    "summary(md_logreg)"
   ]
  },
  {
   "cell_type": "markdown",
   "metadata": {},
   "source": [
    "### 4. Discriminant Analysis"
   ]
  },
  {
   "cell_type": "markdown",
   "metadata": {},
   "source": [
    "#### 4.1. Linear Discriminant Analysis (LDA)"
   ]
  },
  {
   "cell_type": "code",
   "execution_count": 76,
   "metadata": {},
   "outputs": [
    {
     "name": "stdout",
     "output_type": "stream",
     "text": [
      "'data.frame':\t150 obs. of  5 variables:\n",
      " $ Sepal.Length: num  5.1 4.9 4.7 4.6 5 5.4 4.6 5 4.4 4.9 ...\n",
      " $ Sepal.Width : num  3.5 3 3.2 3.1 3.6 3.9 3.4 3.4 2.9 3.1 ...\n",
      " $ Petal.Length: num  1.4 1.4 1.3 1.5 1.4 1.7 1.4 1.5 1.4 1.5 ...\n",
      " $ Petal.Width : num  0.2 0.2 0.2 0.2 0.2 0.4 0.3 0.2 0.2 0.1 ...\n",
      " $ Species     : Factor w/ 3 levels \"setosa\",\"versicolor\",..: 1 1 1 1 1 1 1 1 1 1 ...\n"
     ]
    }
   ],
   "source": [
    "# Load data\n",
    "data(iris)\n",
    "str(iris)"
   ]
  },
  {
   "cell_type": "code",
   "execution_count": 77,
   "metadata": {},
   "outputs": [
    {
     "data": {
      "text/plain": [
       "\n",
       "    setosa versicolor  virginica \n",
       "        50         50         50 "
      ]
     },
     "metadata": {},
     "output_type": "display_data"
    }
   ],
   "source": [
    "# Print out the class\n",
    "table(iris$Species)"
   ]
  },
  {
   "cell_type": "code",
   "execution_count": 79,
   "metadata": {},
   "outputs": [
    {
     "data": {
      "image/png": "[encoded data removed]",
      "text/plain": [
       "plot without title"
      ]
     },
     "metadata": {
      "image/png": {
       "height": 480,
       "width": 480
      }
     },
     "output_type": "display_data"
    }
   ],
   "source": [
    "# Pair plot\n",
    "options(repr.plot.width=8, repr.plot.height=8)\n",
    "cols <- character(nrow(iris))\n",
    "cols[] <- \"black\"\n",
    "cols[iris$Species == \"setosa\"] <- \"red\"\n",
    "cols[iris$Species == \"versicolor\"] <- \"green\"\n",
    "cols[iris$Species == \"virginica\"] <- \"blue\"\n",
    "pairs(iris[, -5], col=cols)"
   ]
  },
  {
   "cell_type": "code",
   "execution_count": 80,
   "metadata": {},
   "outputs": [
    {
     "data": {
      "text/plain": [
       "Call:\n",
       "lda(Species ~ ., data = iris)\n",
       "\n",
       "Prior probabilities of groups:\n",
       "    setosa versicolor  virginica \n",
       " 0.3333333  0.3333333  0.3333333 \n",
       "\n",
       "Group means:\n",
       "           Sepal.Length Sepal.Width Petal.Length Petal.Width\n",
       "setosa            5.006       3.428        1.462       0.246\n",
       "versicolor        5.936       2.770        4.260       1.326\n",
       "virginica         6.588       2.974        5.552       2.026\n",
       "\n",
       "Coefficients of linear discriminants:\n",
       "                    LD1         LD2\n",
       "Sepal.Length  0.8293776  0.02410215\n",
       "Sepal.Width   1.5344731  2.16452123\n",
       "Petal.Length -2.2012117 -0.93192121\n",
       "Petal.Width  -2.8104603  2.83918785\n",
       "\n",
       "Proportion of trace:\n",
       "   LD1    LD2 \n",
       "0.9912 0.0088 "
      ]
     },
     "metadata": {},
     "output_type": "display_data"
    }
   ],
   "source": [
    "# Fit LDA model\n",
    "library(MASS)\n",
    "md_lda <- lda(Species ~ ., data=iris)\n",
    "md_lda"
   ]
  },
  {
   "cell_type": "code",
   "execution_count": 82,
   "metadata": {},
   "outputs": [
    {
     "data": {
      "image/png": "[encoded data removed]",
      "text/plain": [
       "plot without title"
      ]
     },
     "metadata": {
      "image/png": {
       "height": 480,
       "width": 480
      }
     },
     "output_type": "display_data"
    }
   ],
   "source": [
    "# Visualize the transformed data\n",
    "options(repr.plot.width=8, repr.plot.height=8)\n",
    "plot(md_lda, col=as.integer(iris$Species), pch=20)"
   ]
  },
  {
   "cell_type": "code",
   "execution_count": 83,
   "metadata": {},
   "outputs": [
    {
     "name": "stderr",
     "output_type": "stream",
     "text": [
      "`stat_bin()` using `bins = 30`. Pick better value with `binwidth`.\n",
      "\n",
      "`stat_bin()` using `bins = 30`. Pick better value with `binwidth`.\n",
      "\n"
     ]
    },
    {
     "data": {
      "image/png": "[encoded data removed]",
      "text/plain": [
       "plot without title"
      ]
     },
     "metadata": {
      "image/png": {
       "height": 240,
       "width": 480
      }
     },
     "output_type": "display_data"
    },
    {
     "data": {
      "image/png": "[encoded data removed]",
      "text/plain": [
       "plot without title"
      ]
     },
     "metadata": {
      "image/png": {
       "height": 240,
       "width": 480
      }
     },
     "output_type": "display_data"
    }
   ],
   "source": [
    "# Convert data points to new coordinate\n",
    "ld1 <- as.matrix(iris[, -5]) %*% md_lda$scaling[, 1]  # 1st axis\n",
    "ld2 <- as.matrix(iris[, -5]) %*% md_lda$scaling[, 2]  # 2nd axis\n",
    "\n",
    "# Plot\n",
    "iris_lda <- data.frame(LD1=ld1, LD2=ld2, Species=iris$Species)\n",
    "\n",
    "options(repr.plot.width=8, repr.plot.height=4)\n",
    "ggplot(data=iris_lda, aes(x=LD1, fill=Species)) + \n",
    "  geom_histogram(colour='white')\n",
    "\n",
    "ggplot(data=iris_lda, aes(x=LD2, fill=Species)) + \n",
    "  geom_histogram(colour='white') "
   ]
  },
  {
   "cell_type": "code",
   "execution_count": 84,
   "metadata": {},
   "outputs": [
    {
     "data": {
      "text/html": [
       "<table class=\"dataframe\">\n",
       "<caption>A matrix: 6 × 3 of type dbl</caption>\n",
       "<thead>\n",
       "\t<tr><th></th><th scope=col>setosa</th><th scope=col>versicolor</th><th scope=col>virginica</th></tr>\n",
       "</thead>\n",
       "<tbody>\n",
       "\t<tr><th scope=row>1</th><td>1</td><td>3.896358e-22</td><td>2.611168e-42</td></tr>\n",
       "\t<tr><th scope=row>2</th><td>1</td><td>7.217970e-18</td><td>5.042143e-37</td></tr>\n",
       "\t<tr><th scope=row>3</th><td>1</td><td>1.463849e-19</td><td>4.675932e-39</td></tr>\n",
       "\t<tr><th scope=row>4</th><td>1</td><td>1.268536e-16</td><td>3.566610e-35</td></tr>\n",
       "\t<tr><th scope=row>5</th><td>1</td><td>1.637387e-22</td><td>1.082605e-42</td></tr>\n",
       "\t<tr><th scope=row>6</th><td>1</td><td>3.883282e-21</td><td>4.566540e-40</td></tr>\n",
       "</tbody>\n",
       "</table>\n"
      ],
      "text/latex": [
       "A matrix: 6 × 3 of type dbl\n",
       "\\begin{tabular}{r|lll}\n",
       "  & setosa & versicolor & virginica\\\\\n",
       "\\hline\n",
       "\t1 & 1 & 3.896358e-22 & 2.611168e-42\\\\\n",
       "\t2 & 1 & 7.217970e-18 & 5.042143e-37\\\\\n",
       "\t3 & 1 & 1.463849e-19 & 4.675932e-39\\\\\n",
       "\t4 & 1 & 1.268536e-16 & 3.566610e-35\\\\\n",
       "\t5 & 1 & 1.637387e-22 & 1.082605e-42\\\\\n",
       "\t6 & 1 & 3.883282e-21 & 4.566540e-40\\\\\n",
       "\\end{tabular}\n"
      ],
      "text/markdown": [
       "\n",
       "A matrix: 6 × 3 of type dbl\n",
       "\n",
       "| <!--/--> | setosa | versicolor | virginica |\n",
       "|---|---|---|---|\n",
       "| 1 | 1 | 3.896358e-22 | 2.611168e-42 |\n",
       "| 2 | 1 | 7.217970e-18 | 5.042143e-37 |\n",
       "| 3 | 1 | 1.463849e-19 | 4.675932e-39 |\n",
       "| 4 | 1 | 1.268536e-16 | 3.566610e-35 |\n",
       "| 5 | 1 | 1.637387e-22 | 1.082605e-42 |\n",
       "| 6 | 1 | 3.883282e-21 | 4.566540e-40 |\n",
       "\n"
      ],
      "text/plain": [
       "  setosa versicolor   virginica   \n",
       "1 1      3.896358e-22 2.611168e-42\n",
       "2 1      7.217970e-18 5.042143e-37\n",
       "3 1      1.463849e-19 4.675932e-39\n",
       "4 1      1.268536e-16 3.566610e-35\n",
       "5 1      1.637387e-22 1.082605e-42\n",
       "6 1      3.883282e-21 4.566540e-40"
      ]
     },
     "metadata": {},
     "output_type": "display_data"
    }
   ],
   "source": [
    "# Make some prediction\n",
    "lda_pred <- predict(md_lda)\n",
    "head(lda_pred$posterior)"
   ]
  },
  {
   "cell_type": "markdown",
   "metadata": {},
   "source": [
    "#### 4.2. Quadratic Discriminant Analysis (QDA)"
   ]
  },
  {
   "cell_type": "code",
   "execution_count": 86,
   "metadata": {},
   "outputs": [
    {
     "data": {
      "text/plain": [
       "Call:\n",
       "qda(Species ~ ., data = iris)\n",
       "\n",
       "Prior probabilities of groups:\n",
       "    setosa versicolor  virginica \n",
       " 0.3333333  0.3333333  0.3333333 \n",
       "\n",
       "Group means:\n",
       "           Sepal.Length Sepal.Width Petal.Length Petal.Width\n",
       "setosa            5.006       3.428        1.462       0.246\n",
       "versicolor        5.936       2.770        4.260       1.326\n",
       "virginica         6.588       2.974        5.552       2.026"
      ]
     },
     "metadata": {},
     "output_type": "display_data"
    }
   ],
   "source": [
    "# Fit QDA model\n",
    "library(MASS)\n",
    "md_qda <- qda(Species ~ ., data=iris)\n",
    "md_qda"
   ]
  },
  {
   "cell_type": "code",
   "execution_count": 87,
   "metadata": {},
   "outputs": [
    {
     "data": {
      "text/html": [
       "<table class=\"dataframe\">\n",
       "<caption>A matrix: 6 × 3 of type dbl</caption>\n",
       "<thead>\n",
       "\t<tr><th></th><th scope=col>setosa</th><th scope=col>versicolor</th><th scope=col>virginica</th></tr>\n",
       "</thead>\n",
       "<tbody>\n",
       "\t<tr><th scope=row>1</th><td>1</td><td>4.918517e-26</td><td>2.981541e-41</td></tr>\n",
       "\t<tr><th scope=row>2</th><td>1</td><td>7.655808e-19</td><td>1.311032e-34</td></tr>\n",
       "\t<tr><th scope=row>3</th><td>1</td><td>1.552279e-21</td><td>3.380440e-36</td></tr>\n",
       "\t<tr><th scope=row>4</th><td>1</td><td>8.300396e-19</td><td>8.541858e-32</td></tr>\n",
       "\t<tr><th scope=row>5</th><td>1</td><td>3.365614e-27</td><td>2.010147e-41</td></tr>\n",
       "\t<tr><th scope=row>6</th><td>1</td><td>1.472533e-26</td><td>1.271928e-40</td></tr>\n",
       "</tbody>\n",
       "</table>\n"
      ],
      "text/latex": [
       "A matrix: 6 × 3 of type dbl\n",
       "\\begin{tabular}{r|lll}\n",
       "  & setosa & versicolor & virginica\\\\\n",
       "\\hline\n",
       "\t1 & 1 & 4.918517e-26 & 2.981541e-41\\\\\n",
       "\t2 & 1 & 7.655808e-19 & 1.311032e-34\\\\\n",
       "\t3 & 1 & 1.552279e-21 & 3.380440e-36\\\\\n",
       "\t4 & 1 & 8.300396e-19 & 8.541858e-32\\\\\n",
       "\t5 & 1 & 3.365614e-27 & 2.010147e-41\\\\\n",
       "\t6 & 1 & 1.472533e-26 & 1.271928e-40\\\\\n",
       "\\end{tabular}\n"
      ],
      "text/markdown": [
       "\n",
       "A matrix: 6 × 3 of type dbl\n",
       "\n",
       "| <!--/--> | setosa | versicolor | virginica |\n",
       "|---|---|---|---|\n",
       "| 1 | 1 | 4.918517e-26 | 2.981541e-41 |\n",
       "| 2 | 1 | 7.655808e-19 | 1.311032e-34 |\n",
       "| 3 | 1 | 1.552279e-21 | 3.380440e-36 |\n",
       "| 4 | 1 | 8.300396e-19 | 8.541858e-32 |\n",
       "| 5 | 1 | 3.365614e-27 | 2.010147e-41 |\n",
       "| 6 | 1 | 1.472533e-26 | 1.271928e-40 |\n",
       "\n"
      ],
      "text/plain": [
       "  setosa versicolor   virginica   \n",
       "1 1      4.918517e-26 2.981541e-41\n",
       "2 1      7.655808e-19 1.311032e-34\n",
       "3 1      1.552279e-21 3.380440e-36\n",
       "4 1      8.300396e-19 8.541858e-32\n",
       "5 1      3.365614e-27 2.010147e-41\n",
       "6 1      1.472533e-26 1.271928e-40"
      ]
     },
     "metadata": {},
     "output_type": "display_data"
    }
   ],
   "source": [
    "# Make some prediction\n",
    "qda_pred <- predict(md_qda)\n",
    "head(qda_pred$posterior)"
   ]
  },
  {
   "cell_type": "markdown",
   "metadata": {},
   "source": [
    "## Lab: Logistic Regression, LDA, QDA and KNN\n",
    "\n",
    "1. The Stock Market Data 2001-2005\n",
    "2. Caravan Insurance Data\n",
    "3. Student Performance Data\n",
    "\n",
    "**Other multinomial datasets to practice:**\n",
    "1. Soybean (Large) Data Set: http://archive.ics.uci.edu/ml/datasets/Soybean+%28Large%29\n",
    "2. Glass Identification Data Set: https://archive.ics.uci.edu/ml/datasets/Glass+Identification\n",
    "3. Car Evaluation Data Set: https://archive.ics.uci.edu/ml/datasets/Car+Evaluation"
   ]
  },
  {
   "cell_type": "markdown",
   "metadata": {},
   "source": [
    "### Lab 1: The S&P Index Data 2001-2005"
   ]
  },
  {
   "cell_type": "markdown",
   "metadata": {},
   "source": [
    "#### 1.1. Load and explore the stock market data"
   ]
  },
  {
   "cell_type": "code",
   "execution_count": 88,
   "metadata": {},
   "outputs": [
    {
     "name": "stdout",
     "output_type": "stream",
     "text": [
      "'data.frame':\t1250 obs. of  9 variables:\n",
      " $ Year     : num  2001 2001 2001 2001 2001 ...\n",
      " $ Lag1     : num  0.381 0.959 1.032 -0.623 0.614 ...\n",
      " $ Lag2     : num  -0.192 0.381 0.959 1.032 -0.623 ...\n",
      " $ Lag3     : num  -2.624 -0.192 0.381 0.959 1.032 ...\n",
      " $ Lag4     : num  -1.055 -2.624 -0.192 0.381 0.959 ...\n",
      " $ Lag5     : num  5.01 -1.055 -2.624 -0.192 0.381 ...\n",
      " $ Volume   : num  1.19 1.3 1.41 1.28 1.21 ...\n",
      " $ Today    : num  0.959 1.032 -0.623 0.614 0.213 ...\n",
      " $ Direction: Factor w/ 2 levels \"Down\",\"Up\": 2 2 1 2 2 2 1 2 2 2 ...\n"
     ]
    }
   ],
   "source": [
    "# Require libraries\n",
    "require(ISLR)  # Stock data sets\n",
    "require(gridExtra)  # Arrange plot\n",
    "\n",
    "# Load and explore the stock market data\n",
    "# Year      : The year of stock data\n",
    "# Lag1-5    : Percentage return for 1-5 days previous\n",
    "# Volume    : Volume of shares traded (number of daily shares traded in billions)\n",
    "# Today     : Percentage return for today\n",
    "# Direction : A factor with levels Down and Up indicating whether the market had a positive or negative return on a given day\n",
    "str(Smarket)"
   ]
  },
  {
   "cell_type": "code",
   "execution_count": 89,
   "metadata": {},
   "outputs": [],
   "source": [
    "# Show variables description\n",
    "help(Smarket)"
   ]
  },
  {
   "cell_type": "code",
   "execution_count": 90,
   "metadata": {},
   "outputs": [
    {
     "data": {
      "text/plain": [
       "      Year           Lag1                Lag2                Lag3          \n",
       " Min.   :2001   Min.   :-4.922000   Min.   :-4.922000   Min.   :-4.922000  \n",
       " 1st Qu.:2002   1st Qu.:-0.639500   1st Qu.:-0.639500   1st Qu.:-0.640000  \n",
       " Median :2003   Median : 0.039000   Median : 0.039000   Median : 0.038500  \n",
       " Mean   :2003   Mean   : 0.003834   Mean   : 0.003919   Mean   : 0.001716  \n",
       " 3rd Qu.:2004   3rd Qu.: 0.596750   3rd Qu.: 0.596750   3rd Qu.: 0.596750  \n",
       " Max.   :2005   Max.   : 5.733000   Max.   : 5.733000   Max.   : 5.733000  \n",
       "      Lag4                Lag5              Volume           Today          \n",
       " Min.   :-4.922000   Min.   :-4.92200   Min.   :0.3561   Min.   :-4.922000  \n",
       " 1st Qu.:-0.640000   1st Qu.:-0.64000   1st Qu.:1.2574   1st Qu.:-0.639500  \n",
       " Median : 0.038500   Median : 0.03850   Median :1.4229   Median : 0.038500  \n",
       " Mean   : 0.001636   Mean   : 0.00561   Mean   :1.4783   Mean   : 0.003138  \n",
       " 3rd Qu.: 0.596750   3rd Qu.: 0.59700   3rd Qu.:1.6417   3rd Qu.: 0.596750  \n",
       " Max.   : 5.733000   Max.   : 5.73300   Max.   :3.1525   Max.   : 5.733000  \n",
       " Direction \n",
       " Down:602  \n",
       " Up  :648  \n",
       "           \n",
       "           \n",
       "           \n",
       "           "
      ]
     },
     "metadata": {},
     "output_type": "display_data"
    }
   ],
   "source": [
    "summary(Smarket)"
   ]
  },
  {
   "cell_type": "code",
   "execution_count": 93,
   "metadata": {},
   "outputs": [
    {
     "data": {
      "image/png": "[encoded data removed]",
      "text/plain": [
       "plot without title"
      ]
     },
     "metadata": {
      "image/png": {
       "height": 480,
       "width": 720
      }
     },
     "output_type": "display_data"
    }
   ],
   "source": [
    "# Visualize the data\n",
    "options(repr.plot.width=12, repr.plot.height=8)\n",
    "\n",
    "p1 <- ggplot(Smarket[, c('Lag1', 'Lag2', 'Lag3', 'Direction')], aes(x=Direction, y=Lag1, fill=Direction)) +\n",
    "  geom_boxplot() +\n",
    "  scale_fill_manual(values = c(\"red\", \"green\"))\n",
    "p2 <- ggplot(Smarket[, c('Lag1', 'Lag2', 'Lag3', 'Direction')], aes(x=Direction, y=Lag2, fill=Direction)) +\n",
    "  geom_boxplot() +\n",
    "  scale_fill_manual(values = c(\"red\", \"green\"))\n",
    "p3 <- ggplot(Smarket[, c('Lag1', 'Lag2', 'Lag3', 'Direction')], aes(x=Direction, y=Lag3, fill=Direction)) +\n",
    "  geom_boxplot() +\n",
    "  scale_fill_manual(values = c(\"red\", \"green\"))\n",
    "\n",
    "grid.arrange(p1, p2, p3, nrow=1)"
   ]
  },
  {
   "cell_type": "code",
   "execution_count": 94,
   "metadata": {},
   "outputs": [
    {
     "data": {
      "image/png": "[encoded data removed]",
      "text/plain": [
       "plot without title"
      ]
     },
     "metadata": {
      "image/png": {
       "height": 720,
       "width": 720
      }
     },
     "output_type": "display_data"
    }
   ],
   "source": [
    "# Pair plot\n",
    "options(repr.plot.width=12, repr.plot.height=12)\n",
    "cols <- rep('green', nrow(Smarket))  # Up\n",
    "cols[Smarket$Direction == 'Down'] <- 'red'  # Down\n",
    "pairs(Smarket, col=cols)"
   ]
  },
  {
   "cell_type": "code",
   "execution_count": 95,
   "metadata": {},
   "outputs": [
    {
     "data": {
      "text/html": [
       "<table class=\"dataframe\">\n",
       "<caption>A matrix: 8 × 8 of type dbl</caption>\n",
       "<thead>\n",
       "\t<tr><th></th><th scope=col>Year</th><th scope=col>Lag1</th><th scope=col>Lag2</th><th scope=col>Lag3</th><th scope=col>Lag4</th><th scope=col>Lag5</th><th scope=col>Volume</th><th scope=col>Today</th></tr>\n",
       "</thead>\n",
       "<tbody>\n",
       "\t<tr><th scope=row>Year</th><td>1.00000000</td><td> 0.029699649</td><td> 0.030596422</td><td> 0.033194581</td><td> 0.035688718</td><td> 0.029787995</td><td> 0.53900647</td><td> 0.030095229</td></tr>\n",
       "\t<tr><th scope=row>Lag1</th><td>0.02969965</td><td> 1.000000000</td><td>-0.026294328</td><td>-0.010803402</td><td>-0.002985911</td><td>-0.005674606</td><td> 0.04090991</td><td>-0.026155045</td></tr>\n",
       "\t<tr><th scope=row>Lag2</th><td>0.03059642</td><td>-0.026294328</td><td> 1.000000000</td><td>-0.025896670</td><td>-0.010853533</td><td>-0.003557949</td><td>-0.04338321</td><td>-0.010250033</td></tr>\n",
       "\t<tr><th scope=row>Lag3</th><td>0.03319458</td><td>-0.010803402</td><td>-0.025896670</td><td> 1.000000000</td><td>-0.024051036</td><td>-0.018808338</td><td>-0.04182369</td><td>-0.002447647</td></tr>\n",
       "\t<tr><th scope=row>Lag4</th><td>0.03568872</td><td>-0.002985911</td><td>-0.010853533</td><td>-0.024051036</td><td> 1.000000000</td><td>-0.027083641</td><td>-0.04841425</td><td>-0.006899527</td></tr>\n",
       "\t<tr><th scope=row>Lag5</th><td>0.02978799</td><td>-0.005674606</td><td>-0.003557949</td><td>-0.018808338</td><td>-0.027083641</td><td> 1.000000000</td><td>-0.02200231</td><td>-0.034860083</td></tr>\n",
       "\t<tr><th scope=row>Volume</th><td>0.53900647</td><td> 0.040909908</td><td>-0.043383215</td><td>-0.041823686</td><td>-0.048414246</td><td>-0.022002315</td><td> 1.00000000</td><td> 0.014591823</td></tr>\n",
       "\t<tr><th scope=row>Today</th><td>0.03009523</td><td>-0.026155045</td><td>-0.010250033</td><td>-0.002447647</td><td>-0.006899527</td><td>-0.034860083</td><td> 0.01459182</td><td> 1.000000000</td></tr>\n",
       "</tbody>\n",
       "</table>\n"
      ],
      "text/latex": [
       "A matrix: 8 × 8 of type dbl\n",
       "\\begin{tabular}{r|llllllll}\n",
       "  & Year & Lag1 & Lag2 & Lag3 & Lag4 & Lag5 & Volume & Today\\\\\n",
       "\\hline\n",
       "\tYear & 1.00000000 &  0.029699649 &  0.030596422 &  0.033194581 &  0.035688718 &  0.029787995 &  0.53900647 &  0.030095229\\\\\n",
       "\tLag1 & 0.02969965 &  1.000000000 & -0.026294328 & -0.010803402 & -0.002985911 & -0.005674606 &  0.04090991 & -0.026155045\\\\\n",
       "\tLag2 & 0.03059642 & -0.026294328 &  1.000000000 & -0.025896670 & -0.010853533 & -0.003557949 & -0.04338321 & -0.010250033\\\\\n",
       "\tLag3 & 0.03319458 & -0.010803402 & -0.025896670 &  1.000000000 & -0.024051036 & -0.018808338 & -0.04182369 & -0.002447647\\\\\n",
       "\tLag4 & 0.03568872 & -0.002985911 & -0.010853533 & -0.024051036 &  1.000000000 & -0.027083641 & -0.04841425 & -0.006899527\\\\\n",
       "\tLag5 & 0.02978799 & -0.005674606 & -0.003557949 & -0.018808338 & -0.027083641 &  1.000000000 & -0.02200231 & -0.034860083\\\\\n",
       "\tVolume & 0.53900647 &  0.040909908 & -0.043383215 & -0.041823686 & -0.048414246 & -0.022002315 &  1.00000000 &  0.014591823\\\\\n",
       "\tToday & 0.03009523 & -0.026155045 & -0.010250033 & -0.002447647 & -0.006899527 & -0.034860083 &  0.01459182 &  1.000000000\\\\\n",
       "\\end{tabular}\n"
      ],
      "text/markdown": [
       "\n",
       "A matrix: 8 × 8 of type dbl\n",
       "\n",
       "| <!--/--> | Year | Lag1 | Lag2 | Lag3 | Lag4 | Lag5 | Volume | Today |\n",
       "|---|---|---|---|---|---|---|---|---|\n",
       "| Year | 1.00000000 |  0.029699649 |  0.030596422 |  0.033194581 |  0.035688718 |  0.029787995 |  0.53900647 |  0.030095229 |\n",
       "| Lag1 | 0.02969965 |  1.000000000 | -0.026294328 | -0.010803402 | -0.002985911 | -0.005674606 |  0.04090991 | -0.026155045 |\n",
       "| Lag2 | 0.03059642 | -0.026294328 |  1.000000000 | -0.025896670 | -0.010853533 | -0.003557949 | -0.04338321 | -0.010250033 |\n",
       "| Lag3 | 0.03319458 | -0.010803402 | -0.025896670 |  1.000000000 | -0.024051036 | -0.018808338 | -0.04182369 | -0.002447647 |\n",
       "| Lag4 | 0.03568872 | -0.002985911 | -0.010853533 | -0.024051036 |  1.000000000 | -0.027083641 | -0.04841425 | -0.006899527 |\n",
       "| Lag5 | 0.02978799 | -0.005674606 | -0.003557949 | -0.018808338 | -0.027083641 |  1.000000000 | -0.02200231 | -0.034860083 |\n",
       "| Volume | 0.53900647 |  0.040909908 | -0.043383215 | -0.041823686 | -0.048414246 | -0.022002315 |  1.00000000 |  0.014591823 |\n",
       "| Today | 0.03009523 | -0.026155045 | -0.010250033 | -0.002447647 | -0.006899527 | -0.034860083 |  0.01459182 |  1.000000000 |\n",
       "\n"
      ],
      "text/plain": [
       "       Year       Lag1         Lag2         Lag3         Lag4        \n",
       "Year   1.00000000  0.029699649  0.030596422  0.033194581  0.035688718\n",
       "Lag1   0.02969965  1.000000000 -0.026294328 -0.010803402 -0.002985911\n",
       "Lag2   0.03059642 -0.026294328  1.000000000 -0.025896670 -0.010853533\n",
       "Lag3   0.03319458 -0.010803402 -0.025896670  1.000000000 -0.024051036\n",
       "Lag4   0.03568872 -0.002985911 -0.010853533 -0.024051036  1.000000000\n",
       "Lag5   0.02978799 -0.005674606 -0.003557949 -0.018808338 -0.027083641\n",
       "Volume 0.53900647  0.040909908 -0.043383215 -0.041823686 -0.048414246\n",
       "Today  0.03009523 -0.026155045 -0.010250033 -0.002447647 -0.006899527\n",
       "       Lag5         Volume      Today       \n",
       "Year    0.029787995  0.53900647  0.030095229\n",
       "Lag1   -0.005674606  0.04090991 -0.026155045\n",
       "Lag2   -0.003557949 -0.04338321 -0.010250033\n",
       "Lag3   -0.018808338 -0.04182369 -0.002447647\n",
       "Lag4   -0.027083641 -0.04841425 -0.006899527\n",
       "Lag5    1.000000000 -0.02200231 -0.034860083\n",
       "Volume -0.022002315  1.00000000  0.014591823\n",
       "Today  -0.034860083  0.01459182  1.000000000"
      ]
     },
     "metadata": {},
     "output_type": "display_data"
    }
   ],
   "source": [
    "# Correlation matrix\n",
    "cor(Smarket[, -9])"
   ]
  },
  {
   "cell_type": "code",
   "execution_count": 96,
   "metadata": {},
   "outputs": [
    {
     "data": {
      "image/png": "[encoded data removed]",
      "text/plain": [
       "plot without title"
      ]
     },
     "metadata": {
      "image/png": {
       "height": 480,
       "width": 480
      }
     },
     "output_type": "display_data"
    }
   ],
   "source": [
    "# Stock trading volume from 2001 to 2005\n",
    "options(repr.plot.width=8, repr.plot.height=8)\n",
    "plot(Smarket$Volume,\n",
    "     xlab='2001 - 2005', ylab='Volume')"
   ]
  },
  {
   "cell_type": "markdown",
   "metadata": {},
   "source": [
    "#### 1.2. Logistic Regression"
   ]
  },
  {
   "cell_type": "code",
   "execution_count": 98,
   "metadata": {},
   "outputs": [],
   "source": [
    "# Separate data to train and test\n",
    "stock_train <- Smarket[Smarket$Year < 2005, ]\n",
    "stock_test <- Smarket[Smarket$Year == 2005, ]"
   ]
  },
  {
   "cell_type": "code",
   "execution_count": 99,
   "metadata": {},
   "outputs": [
    {
     "data": {
      "text/plain": [
       "\n",
       "Call:\n",
       "glm(formula = Direction ~ Lag1 + Lag2 + Lag3 + Lag4 + Lag5 + \n",
       "    Volume, family = binomial, data = stock_train)\n",
       "\n",
       "Deviance Residuals: \n",
       "   Min      1Q  Median      3Q     Max  \n",
       "-1.302  -1.190   1.079   1.160   1.350  \n",
       "\n",
       "Coefficients:\n",
       "             Estimate Std. Error z value Pr(>|z|)\n",
       "(Intercept)  0.191213   0.333690   0.573    0.567\n",
       "Lag1        -0.054178   0.051785  -1.046    0.295\n",
       "Lag2        -0.045805   0.051797  -0.884    0.377\n",
       "Lag3         0.007200   0.051644   0.139    0.889\n",
       "Lag4         0.006441   0.051706   0.125    0.901\n",
       "Lag5        -0.004223   0.051138  -0.083    0.934\n",
       "Volume      -0.116257   0.239618  -0.485    0.628\n",
       "\n",
       "(Dispersion parameter for binomial family taken to be 1)\n",
       "\n",
       "    Null deviance: 1383.3  on 997  degrees of freedom\n",
       "Residual deviance: 1381.1  on 991  degrees of freedom\n",
       "AIC: 1395.1\n",
       "\n",
       "Number of Fisher Scoring iterations: 3\n"
      ]
     },
     "metadata": {},
     "output_type": "display_data"
    }
   ],
   "source": [
    "# Fit Logistic Regression model\n",
    "md_logreg <- glm(Direction ∼ Lag1 + Lag2 + Lag3 + Lag4 + Lag5 + Volume,\n",
    "                 data=stock_train, family=binomial)\n",
    "summary(md_logreg)"
   ]
  },
  {
   "cell_type": "code",
   "execution_count": 100,
   "metadata": {},
   "outputs": [
    {
     "data": {
      "text/plain": [
       "\n",
       "Call:\n",
       "glm(formula = Direction ~ Lag1 + Lag2, family = binomial, data = stock_train)\n",
       "\n",
       "Deviance Residuals: \n",
       "   Min      1Q  Median      3Q     Max  \n",
       "-1.345  -1.188   1.074   1.164   1.326  \n",
       "\n",
       "Coefficients:\n",
       "            Estimate Std. Error z value Pr(>|z|)\n",
       "(Intercept)  0.03222    0.06338   0.508    0.611\n",
       "Lag1        -0.05562    0.05171  -1.076    0.282\n",
       "Lag2        -0.04449    0.05166  -0.861    0.389\n",
       "\n",
       "(Dispersion parameter for binomial family taken to be 1)\n",
       "\n",
       "    Null deviance: 1383.3  on 997  degrees of freedom\n",
       "Residual deviance: 1381.4  on 995  degrees of freedom\n",
       "AIC: 1387.4\n",
       "\n",
       "Number of Fisher Scoring iterations: 3\n"
      ]
     },
     "metadata": {},
     "output_type": "display_data"
    }
   ],
   "source": [
    "# Re-fit Logistic Regression model with 2 best predictors\n",
    "md_logreg <- glm(Direction ∼ Lag1 + Lag2,\n",
    "                 data=stock_train, family=binomial)\n",
    "summary(md_logreg)"
   ]
  },
  {
   "cell_type": "code",
   "execution_count": 101,
   "metadata": {},
   "outputs": [
    {
     "data": {
      "text/html": [
       "<style>\n",
       ".dl-inline {width: auto; margin:0; padding: 0}\n",
       ".dl-inline>dt, .dl-inline>dd {float: none; width: auto; display: inline-block}\n",
       ".dl-inline>dt::after {content: \":\\0020\"; padding-right: .5ex}\n",
       ".dl-inline>dt:not(:first-of-type) {padding-left: .5ex}\n",
       "</style><dl class=dl-inline><dt>1</dt><dd>0.504891672881952</dd><dt>2</dt><dd>0.490482972507798</dd><dt>3</dt><dd>0.483044890415288</dd><dt>4</dt><dd>0.505239588926045</dd><dt>5</dt><dd>0.506444993327076</dd><dt>6</dt><dd>0.498263828343909</dd></dl>\n"
      ],
      "text/latex": [
       "\\begin{description*}\n",
       "\\item[1] 0.504891672881952\n",
       "\\item[2] 0.490482972507798\n",
       "\\item[3] 0.483044890415288\n",
       "\\item[4] 0.505239588926045\n",
       "\\item[5] 0.506444993327076\n",
       "\\item[6] 0.498263828343909\n",
       "\\end{description*}\n"
      ],
      "text/markdown": [
       "1\n",
       ":   0.5048916728819522\n",
       ":   0.4904829725077983\n",
       ":   0.4830448904152884\n",
       ":   0.5052395889260455\n",
       ":   0.5064449933270766\n",
       ":   0.498263828343909\n",
       "\n"
      ],
      "text/plain": [
       "        1         2         3         4         5         6 \n",
       "0.5048917 0.4904830 0.4830449 0.5052396 0.5064450 0.4982638 "
      ]
     },
     "metadata": {},
     "output_type": "display_data"
    },
    {
     "data": {
      "text/html": [
       "<style>\n",
       ".dl-inline {width: auto; margin:0; padding: 0}\n",
       ".dl-inline>dt, .dl-inline>dd {float: none; width: auto; display: inline-block}\n",
       ".dl-inline>dt::after {content: \":\\0020\"; padding-right: .5ex}\n",
       ".dl-inline>dt:not(:first-of-type) {padding-left: .5ex}\n",
       "</style><dl class=dl-inline><dt>999</dt><dd>0.509827452758475</dd><dt>1000</dt><dd>0.520823745517242</dd><dt>1001</dt><dd>0.533263496822405</dd><dt>1002</dt><dd>0.526057414362912</dd><dt>1003</dt><dd>0.507210300726553</dd><dt>1004</dt><dd>0.506138811084313</dd></dl>\n"
      ],
      "text/latex": [
       "\\begin{description*}\n",
       "\\item[999] 0.509827452758475\n",
       "\\item[1000] 0.520823745517242\n",
       "\\item[1001] 0.533263496822405\n",
       "\\item[1002] 0.526057414362912\n",
       "\\item[1003] 0.507210300726553\n",
       "\\item[1004] 0.506138811084313\n",
       "\\end{description*}\n"
      ],
      "text/markdown": [
       "999\n",
       ":   0.5098274527584751000\n",
       ":   0.5208237455172421001\n",
       ":   0.5332634968224051002\n",
       ":   0.5260574143629121003\n",
       ":   0.5072103007265531004\n",
       ":   0.506138811084313\n",
       "\n"
      ],
      "text/plain": [
       "      999      1000      1001      1002      1003      1004 \n",
       "0.5098275 0.5208237 0.5332635 0.5260574 0.5072103 0.5061388 "
      ]
     },
     "metadata": {},
     "output_type": "display_data"
    }
   ],
   "source": [
    "# Make prediction on both train and test data\n",
    "pred_train_prob <- predict(md_logreg, newdata=stock_train, type='response')\n",
    "head(pred_train_prob)\n",
    "\n",
    "pred_test_prob <- predict(md_logreg, newdata=stock_test, type='response')\n",
    "head(pred_test_prob)"
   ]
  },
  {
   "cell_type": "code",
   "execution_count": 102,
   "metadata": {},
   "outputs": [
    {
     "name": "stdout",
     "output_type": "stream",
     "text": [
      "[1] \"Confusion matrix:\"\n"
     ]
    },
    {
     "data": {
      "text/plain": [
       "          \n",
       "pred_train Down  Up\n",
       "      Down  168 160\n",
       "      Up    323 347"
      ]
     },
     "metadata": {},
     "output_type": "display_data"
    },
    {
     "name": "stdout",
     "output_type": "stream",
     "text": [
      "[1] \"Accuracy = 0.52 %\"\n",
      "[1] \"Error = 0.48 %\"\n"
     ]
    },
    {
     "name": "stderr",
     "output_type": "stream",
     "text": [
      "Warning message in roc.default(as.numeric(pred_train_prob), as.numeric(stock_train$Direction == :\n",
      "\"'response' has more than two levels. Consider setting 'levels' explicitly or using 'multiclass.roc' instead\"\n",
      "Setting levels: control = 0.414916857071351, case = 0.415661445486411\n",
      "\n",
      "Setting direction: controls < cases\n",
      "\n"
     ]
    },
    {
     "name": "stdout",
     "output_type": "stream",
     "text": [
      "[1] \"AUC = 0.5\"\n"
     ]
    }
   ],
   "source": [
    "# Evaluation model on train\n",
    "threshold <- 0.5  # Decision threshold\n",
    "pred_train <- rep('Down', length(pred_train_prob))\n",
    "pred_train[pred_train_prob > threshold] <- 'Up'\n",
    "\n",
    "# Confusion matrix\n",
    "print('Confusion matrix:')\n",
    "table(pred_train, stock_train$Direction)\n",
    "\n",
    "# Accuracy and error rate\n",
    "acc <- mean(pred_train == stock_train$Direction)\n",
    "err_rate <- 1 - acc\n",
    "print(paste('Accuracy =', round(acc, 2), '%'))\n",
    "print(paste('Error =', round(err_rate, 2), '%'))\n",
    "\n",
    "# AUC\n",
    "pred_roc <- pROC::roc(as.numeric(pred_train_prob), as.numeric(stock_train$Direction == \"Up\"))\n",
    "pred_auc <- pROC::auc(pred_roc)\n",
    "print(paste('AUC =', pred_auc))"
   ]
  },
  {
   "cell_type": "code",
   "execution_count": 103,
   "metadata": {},
   "outputs": [
    {
     "name": "stdout",
     "output_type": "stream",
     "text": [
      "[1] \"Confusion matrix:\"\n"
     ]
    },
    {
     "data": {
      "text/plain": [
       "         \n",
       "pred_test Down  Up\n",
       "     Down   35  35\n",
       "     Up     76 106"
      ]
     },
     "metadata": {},
     "output_type": "display_data"
    },
    {
     "name": "stdout",
     "output_type": "stream",
     "text": [
      "[1] \"Accuracy = 0.56 %\"\n",
      "[1] \"Error = 0.44 %\"\n"
     ]
    },
    {
     "name": "stderr",
     "output_type": "stream",
     "text": [
      "Warning message in roc.default(as.numeric(pred_test_prob), as.numeric(stock_test$Direction == :\n",
      "\"'response' has more than two levels. Consider setting 'levels' explicitly or using 'multiclass.roc' instead\"\n",
      "Setting levels: control = 0.479675148042168, case = 0.483037293021864\n",
      "\n",
      "Setting direction: controls < cases\n",
      "\n"
     ]
    },
    {
     "name": "stdout",
     "output_type": "stream",
     "text": [
      "[1] \"AUC = 0.5\"\n"
     ]
    }
   ],
   "source": [
    "# Evaluation model on test\n",
    "threshold <- 0.5  # Decision threshold\n",
    "pred_test <- rep('Down', length(pred_test_prob))\n",
    "pred_test[pred_test_prob > threshold] <- 'Up'\n",
    "\n",
    "# Confusion matrix\n",
    "print('Confusion matrix:')\n",
    "table(pred_test, stock_test$Direction)\n",
    "\n",
    "# Accuracy and error rate\n",
    "acc <- mean(pred_test == stock_test$Direction)\n",
    "err_rate <- 1 - acc\n",
    "print(paste('Accuracy =', round(acc, 2), '%'))\n",
    "print(paste('Error =', round(err_rate, 2), '%'))\n",
    "\n",
    "# AUC\n",
    "pred_roc <- pROC::roc(as.numeric(pred_test_prob), as.numeric(stock_test$Direction == \"Up\"))\n",
    "pred_auc <- pROC::auc(pred_roc)\n",
    "print(paste('AUC =', pred_auc))"
   ]
  },
  {
   "cell_type": "markdown",
   "metadata": {},
   "source": [
    "#### 1.3. Linear Discriminant Analysis (LDA)"
   ]
  },
  {
   "cell_type": "code",
   "execution_count": 104,
   "metadata": {},
   "outputs": [
    {
     "data": {
      "text/plain": [
       "Call:\n",
       "lda(Direction ~ Lag1 + Lag2, data = stock_train)\n",
       "\n",
       "Prior probabilities of groups:\n",
       "    Down       Up \n",
       "0.491984 0.508016 \n",
       "\n",
       "Group means:\n",
       "            Lag1        Lag2\n",
       "Down  0.04279022  0.03389409\n",
       "Up   -0.03954635 -0.03132544\n",
       "\n",
       "Coefficients of linear discriminants:\n",
       "            LD1\n",
       "Lag1 -0.6420190\n",
       "Lag2 -0.5135293"
      ]
     },
     "metadata": {},
     "output_type": "display_data"
    }
   ],
   "source": [
    "# Fit the LDA model with 2 best predictors from LogRes model\n",
    "library(MASS)\n",
    "md_lda <- lda(Direction ~ Lag1 + Lag2, data=stock_train)\n",
    "md_lda"
   ]
  },
  {
   "cell_type": "code",
   "execution_count": 66,
   "metadata": {},
   "outputs": [],
   "source": [
    "# options(repr.plot.width=4, repr.plot.height=8)\n",
    "# plot(md_lda)"
   ]
  },
  {
   "cell_type": "code",
   "execution_count": 105,
   "metadata": {},
   "outputs": [
    {
     "data": {
      "text/html": [
       "<style>\n",
       ".list-inline {list-style: none; margin:0; padding: 0}\n",
       ".list-inline>li {display: inline-block}\n",
       ".list-inline>li:not(:last-child)::after {content: \"\\00b7\"; padding: 0 .5ex}\n",
       "</style>\n",
       "<ol class=list-inline><li>Up</li><li>Up</li><li>Up</li><li>Up</li><li>Up</li><li>Up</li></ol>\n",
       "\n",
       "<details>\n",
       "\t<summary style=display:list-item;cursor:pointer>\n",
       "\t\t<strong>Levels</strong>:\n",
       "\t</summary>\n",
       "\t<style>\n",
       "\t.list-inline {list-style: none; margin:0; padding: 0}\n",
       "\t.list-inline>li {display: inline-block}\n",
       "\t.list-inline>li:not(:last-child)::after {content: \"\\00b7\"; padding: 0 .5ex}\n",
       "\t</style>\n",
       "\t<ol class=list-inline><li>'Down'</li><li>'Up'</li></ol>\n",
       "</details>"
      ],
      "text/latex": [
       "\\begin{enumerate*}\n",
       "\\item Up\n",
       "\\item Up\n",
       "\\item Up\n",
       "\\item Up\n",
       "\\item Up\n",
       "\\item Up\n",
       "\\end{enumerate*}\n",
       "\n",
       "\\emph{Levels}: \\begin{enumerate*}\n",
       "\\item 'Down'\n",
       "\\item 'Up'\n",
       "\\end{enumerate*}\n"
      ],
      "text/markdown": [
       "1. Up\n",
       "2. Up\n",
       "3. Up\n",
       "4. Up\n",
       "5. Up\n",
       "6. Up\n",
       "\n",
       "\n",
       "\n",
       "**Levels**: 1. 'Down'\n",
       "2. 'Up'\n",
       "\n",
       "\n"
      ],
      "text/plain": [
       "[1] Up Up Up Up Up Up\n",
       "Levels: Down Up"
      ]
     },
     "metadata": {},
     "output_type": "display_data"
    },
    {
     "data": {
      "text/html": [
       "<table class=\"dataframe\">\n",
       "<caption>A matrix: 6 × 2 of type dbl</caption>\n",
       "<thead>\n",
       "\t<tr><th></th><th scope=col>Down</th><th scope=col>Up</th></tr>\n",
       "</thead>\n",
       "<tbody>\n",
       "\t<tr><th scope=row>999</th><td>0.4901792</td><td>0.5098208</td></tr>\n",
       "\t<tr><th scope=row>1000</th><td>0.4792185</td><td>0.5207815</td></tr>\n",
       "\t<tr><th scope=row>1001</th><td>0.4668185</td><td>0.5331815</td></tr>\n",
       "\t<tr><th scope=row>1002</th><td>0.4740011</td><td>0.5259989</td></tr>\n",
       "\t<tr><th scope=row>1003</th><td>0.4927877</td><td>0.5072123</td></tr>\n",
       "\t<tr><th scope=row>1004</th><td>0.4938562</td><td>0.5061438</td></tr>\n",
       "</tbody>\n",
       "</table>\n"
      ],
      "text/latex": [
       "A matrix: 6 × 2 of type dbl\n",
       "\\begin{tabular}{r|ll}\n",
       "  & Down & Up\\\\\n",
       "\\hline\n",
       "\t999 & 0.4901792 & 0.5098208\\\\\n",
       "\t1000 & 0.4792185 & 0.5207815\\\\\n",
       "\t1001 & 0.4668185 & 0.5331815\\\\\n",
       "\t1002 & 0.4740011 & 0.5259989\\\\\n",
       "\t1003 & 0.4927877 & 0.5072123\\\\\n",
       "\t1004 & 0.4938562 & 0.5061438\\\\\n",
       "\\end{tabular}\n"
      ],
      "text/markdown": [
       "\n",
       "A matrix: 6 × 2 of type dbl\n",
       "\n",
       "| <!--/--> | Down | Up |\n",
       "|---|---|---|\n",
       "| 999 | 0.4901792 | 0.5098208 |\n",
       "| 1000 | 0.4792185 | 0.5207815 |\n",
       "| 1001 | 0.4668185 | 0.5331815 |\n",
       "| 1002 | 0.4740011 | 0.5259989 |\n",
       "| 1003 | 0.4927877 | 0.5072123 |\n",
       "| 1004 | 0.4938562 | 0.5061438 |\n",
       "\n"
      ],
      "text/plain": [
       "     Down      Up       \n",
       "999  0.4901792 0.5098208\n",
       "1000 0.4792185 0.5207815\n",
       "1001 0.4668185 0.5331815\n",
       "1002 0.4740011 0.5259989\n",
       "1003 0.4927877 0.5072123\n",
       "1004 0.4938562 0.5061438"
      ]
     },
     "metadata": {},
     "output_type": "display_data"
    },
    {
     "name": "stdout",
     "output_type": "stream",
     "text": [
      "[1] \"Confusion matrix:\"\n"
     ]
    },
    {
     "data": {
      "text/plain": [
       "      \n",
       "       Down  Up\n",
       "  Down   35  35\n",
       "  Up     76 106"
      ]
     },
     "metadata": {},
     "output_type": "display_data"
    },
    {
     "name": "stdout",
     "output_type": "stream",
     "text": [
      "[1] \"Accuracy = 0.56 %\"\n"
     ]
    }
   ],
   "source": [
    "# Predict and evaluate on test data\n",
    "lda_pred <- predict(md_lda, newdata=stock_test)\n",
    "head(lda_pred$class)\n",
    "head(lda_pred$posterior)\n",
    "\n",
    "# Confusion matrix\n",
    "print('Confusion matrix:')\n",
    "table(lda_pred$class, stock_test$Direction)\n",
    "\n",
    "# Accuracy\n",
    "acc <- mean(lda_pred$class == stock_test$Direction)\n",
    "print(paste('Accuracy =', round(acc, 2), '%'))"
   ]
  },
  {
   "cell_type": "markdown",
   "metadata": {},
   "source": [
    "#### 1.4. Quadratic Discriminant Analysis (QDA)"
   ]
  },
  {
   "cell_type": "code",
   "execution_count": 106,
   "metadata": {},
   "outputs": [
    {
     "data": {
      "text/plain": [
       "Call:\n",
       "qda(Direction ~ Lag1 + Lag2, data = stock_train)\n",
       "\n",
       "Prior probabilities of groups:\n",
       "    Down       Up \n",
       "0.491984 0.508016 \n",
       "\n",
       "Group means:\n",
       "            Lag1        Lag2\n",
       "Down  0.04279022  0.03389409\n",
       "Up   -0.03954635 -0.03132544"
      ]
     },
     "metadata": {},
     "output_type": "display_data"
    }
   ],
   "source": [
    "# Fit the QDA model on train set with 2 best predictors\n",
    "md_qda <- qda(Direction ~ Lag1 + Lag2, data=stock_train)\n",
    "md_qda"
   ]
  },
  {
   "cell_type": "code",
   "execution_count": 107,
   "metadata": {},
   "outputs": [
    {
     "data": {
      "text/html": [
       "<style>\n",
       ".list-inline {list-style: none; margin:0; padding: 0}\n",
       ".list-inline>li {display: inline-block}\n",
       ".list-inline>li:not(:last-child)::after {content: \"\\00b7\"; padding: 0 .5ex}\n",
       "</style>\n",
       "<ol class=list-inline><li>Up</li><li>Up</li><li>Up</li><li>Up</li><li>Up</li><li>Up</li></ol>\n",
       "\n",
       "<details>\n",
       "\t<summary style=display:list-item;cursor:pointer>\n",
       "\t\t<strong>Levels</strong>:\n",
       "\t</summary>\n",
       "\t<style>\n",
       "\t.list-inline {list-style: none; margin:0; padding: 0}\n",
       "\t.list-inline>li {display: inline-block}\n",
       "\t.list-inline>li:not(:last-child)::after {content: \"\\00b7\"; padding: 0 .5ex}\n",
       "\t</style>\n",
       "\t<ol class=list-inline><li>'Down'</li><li>'Up'</li></ol>\n",
       "</details>"
      ],
      "text/latex": [
       "\\begin{enumerate*}\n",
       "\\item Up\n",
       "\\item Up\n",
       "\\item Up\n",
       "\\item Up\n",
       "\\item Up\n",
       "\\item Up\n",
       "\\end{enumerate*}\n",
       "\n",
       "\\emph{Levels}: \\begin{enumerate*}\n",
       "\\item 'Down'\n",
       "\\item 'Up'\n",
       "\\end{enumerate*}\n"
      ],
      "text/markdown": [
       "1. Up\n",
       "2. Up\n",
       "3. Up\n",
       "4. Up\n",
       "5. Up\n",
       "6. Up\n",
       "\n",
       "\n",
       "\n",
       "**Levels**: 1. 'Down'\n",
       "2. 'Up'\n",
       "\n",
       "\n"
      ],
      "text/plain": [
       "[1] Up Up Up Up Up Up\n",
       "Levels: Down Up"
      ]
     },
     "metadata": {},
     "output_type": "display_data"
    },
    {
     "data": {
      "text/html": [
       "<table class=\"dataframe\">\n",
       "<caption>A matrix: 6 × 2 of type dbl</caption>\n",
       "<thead>\n",
       "\t<tr><th></th><th scope=col>Down</th><th scope=col>Up</th></tr>\n",
       "</thead>\n",
       "<tbody>\n",
       "\t<tr><th scope=row>999</th><td>0.4873243</td><td>0.5126757</td></tr>\n",
       "\t<tr><th scope=row>1000</th><td>0.4759011</td><td>0.5240989</td></tr>\n",
       "\t<tr><th scope=row>1001</th><td>0.4636911</td><td>0.5363089</td></tr>\n",
       "\t<tr><th scope=row>1002</th><td>0.4739253</td><td>0.5260747</td></tr>\n",
       "\t<tr><th scope=row>1003</th><td>0.4903426</td><td>0.5096574</td></tr>\n",
       "\t<tr><th scope=row>1004</th><td>0.4913561</td><td>0.5086439</td></tr>\n",
       "</tbody>\n",
       "</table>\n"
      ],
      "text/latex": [
       "A matrix: 6 × 2 of type dbl\n",
       "\\begin{tabular}{r|ll}\n",
       "  & Down & Up\\\\\n",
       "\\hline\n",
       "\t999 & 0.4873243 & 0.5126757\\\\\n",
       "\t1000 & 0.4759011 & 0.5240989\\\\\n",
       "\t1001 & 0.4636911 & 0.5363089\\\\\n",
       "\t1002 & 0.4739253 & 0.5260747\\\\\n",
       "\t1003 & 0.4903426 & 0.5096574\\\\\n",
       "\t1004 & 0.4913561 & 0.5086439\\\\\n",
       "\\end{tabular}\n"
      ],
      "text/markdown": [
       "\n",
       "A matrix: 6 × 2 of type dbl\n",
       "\n",
       "| <!--/--> | Down | Up |\n",
       "|---|---|---|\n",
       "| 999 | 0.4873243 | 0.5126757 |\n",
       "| 1000 | 0.4759011 | 0.5240989 |\n",
       "| 1001 | 0.4636911 | 0.5363089 |\n",
       "| 1002 | 0.4739253 | 0.5260747 |\n",
       "| 1003 | 0.4903426 | 0.5096574 |\n",
       "| 1004 | 0.4913561 | 0.5086439 |\n",
       "\n"
      ],
      "text/plain": [
       "     Down      Up       \n",
       "999  0.4873243 0.5126757\n",
       "1000 0.4759011 0.5240989\n",
       "1001 0.4636911 0.5363089\n",
       "1002 0.4739253 0.5260747\n",
       "1003 0.4903426 0.5096574\n",
       "1004 0.4913561 0.5086439"
      ]
     },
     "metadata": {},
     "output_type": "display_data"
    },
    {
     "name": "stdout",
     "output_type": "stream",
     "text": [
      "[1] \"Confusion matrix:\"\n"
     ]
    },
    {
     "data": {
      "text/plain": [
       "      \n",
       "       Down  Up\n",
       "  Down   30  20\n",
       "  Up     81 121"
      ]
     },
     "metadata": {},
     "output_type": "display_data"
    },
    {
     "name": "stdout",
     "output_type": "stream",
     "text": [
      "[1] \"Accuracy = 0.6 %\"\n"
     ]
    }
   ],
   "source": [
    "# Predict and evaluate on test data\n",
    "qda_pred <- predict(md_qda, newdata=stock_test)\n",
    "head(qda_pred$class)\n",
    "head(qda_pred$posterior)\n",
    "\n",
    "# Confusion matrix\n",
    "print('Confusion matrix:')\n",
    "table(qda_pred$class, stock_test$Direction)\n",
    "\n",
    "# Accuracy\n",
    "acc <- mean(qda_pred$class == stock_test$Direction)\n",
    "print(paste('Accuracy =', round(acc, 2), '%'))"
   ]
  },
  {
   "cell_type": "markdown",
   "metadata": {},
   "source": [
    "#### 1.5. K-Nearest Neighbors (KNN)"
   ]
  },
  {
   "cell_type": "code",
   "execution_count": 108,
   "metadata": {},
   "outputs": [
    {
     "name": "stdout",
     "output_type": "stream",
     "text": [
      "[1] \"Confusion matrix:\"\n"
     ]
    },
    {
     "data": {
      "text/plain": [
       "         \n",
       "knn1_pred Down Up\n",
       "     Down   43 58\n",
       "     Up     68 83"
      ]
     },
     "metadata": {},
     "output_type": "display_data"
    },
    {
     "name": "stdout",
     "output_type": "stream",
     "text": [
      "[1] \"Accuracy = 0.5 %\"\n"
     ]
    }
   ],
   "source": [
    "# Fit the KNN model with the train set using 2 best predictors\n",
    "library(class)\n",
    "\n",
    "# k = 1\n",
    "set.seed(123)\n",
    "knn1_pred <- knn(train=stock_train[, c('Lag1', 'Lag2')],\n",
    "                 test=stock_test[, c('Lag1', 'Lag2')],\n",
    "                 cl=stock_train$Direction,\n",
    "                 k=1)\n",
    "\n",
    "# Confusion matrix\n",
    "print('Confusion matrix:')\n",
    "table(knn1_pred, stock_test$Direction)\n",
    "\n",
    "# Accuracy\n",
    "acc <- mean(knn1_pred == stock_test$Direction)\n",
    "print(paste('Accuracy =', round(acc, 2), '%'))"
   ]
  },
  {
   "cell_type": "code",
   "execution_count": 109,
   "metadata": {},
   "outputs": [
    {
     "name": "stdout",
     "output_type": "stream",
     "text": [
      "[1] \"Confusion matrix:\"\n"
     ]
    },
    {
     "data": {
      "text/plain": [
       "         \n",
       "knn3_pred Down Up\n",
       "     Down   48 55\n",
       "     Up     63 86"
      ]
     },
     "metadata": {},
     "output_type": "display_data"
    },
    {
     "name": "stdout",
     "output_type": "stream",
     "text": [
      "[1] \"Accuracy = 0.53 %\"\n"
     ]
    }
   ],
   "source": [
    "# k = 3\n",
    "set.seed(123)\n",
    "knn3_pred <- knn(train=stock_train[, c('Lag1', 'Lag2')],\n",
    "                 test=stock_test[, c('Lag1', 'Lag2')],\n",
    "                 cl=stock_train$Direction,\n",
    "                 k=3)\n",
    "\n",
    "# Confusion matrix\n",
    "print('Confusion matrix:')\n",
    "table(knn3_pred, stock_test$Direction)\n",
    "\n",
    "# Accuracy\n",
    "acc <- mean(knn3_pred == stock_test$Direction)\n",
    "print(paste('Accuracy =', round(acc, 2), '%'))"
   ]
  },
  {
   "cell_type": "markdown",
   "metadata": {},
   "source": [
    "### Lab 2: Caravan Insurance Data"
   ]
  },
  {
   "cell_type": "code",
   "execution_count": 110,
   "metadata": {},
   "outputs": [
    {
     "name": "stdout",
     "output_type": "stream",
     "text": [
      "'data.frame':\t5822 obs. of  86 variables:\n",
      " $ MOSTYPE : num  33 37 37 9 40 23 39 33 33 11 ...\n",
      " $ MAANTHUI: num  1 1 1 1 1 1 2 1 1 2 ...\n",
      " $ MGEMOMV : num  3 2 2 3 4 2 3 2 2 3 ...\n",
      " $ MGEMLEEF: num  2 2 2 3 2 1 2 3 4 3 ...\n",
      " $ MOSHOOFD: num  8 8 8 3 10 5 9 8 8 3 ...\n",
      " $ MGODRK  : num  0 1 0 2 1 0 2 0 0 3 ...\n",
      " $ MGODPR  : num  5 4 4 3 4 5 2 7 1 5 ...\n",
      " $ MGODOV  : num  1 1 2 2 1 0 0 0 3 0 ...\n",
      " $ MGODGE  : num  3 4 4 4 4 5 5 2 6 2 ...\n",
      " $ MRELGE  : num  7 6 3 5 7 0 7 7 6 7 ...\n",
      " $ MRELSA  : num  0 2 2 2 1 6 2 2 0 0 ...\n",
      " $ MRELOV  : num  2 2 4 2 2 3 0 0 3 2 ...\n",
      " $ MFALLEEN: num  1 0 4 2 2 3 0 0 3 2 ...\n",
      " $ MFGEKIND: num  2 4 4 3 4 5 3 5 3 2 ...\n",
      " $ MFWEKIND: num  6 5 2 4 4 2 6 4 3 6 ...\n",
      " $ MOPLHOOG: num  1 0 0 3 5 0 0 0 0 0 ...\n",
      " $ MOPLMIDD: num  2 5 5 4 4 5 4 3 1 4 ...\n",
      " $ MOPLLAAG: num  7 4 4 2 0 4 5 6 8 5 ...\n",
      " $ MBERHOOG: num  1 0 0 4 0 2 0 2 1 2 ...\n",
      " $ MBERZELF: num  0 0 0 0 5 0 0 0 1 0 ...\n",
      " $ MBERBOER: num  1 0 0 0 4 0 0 0 0 0 ...\n",
      " $ MBERMIDD: num  2 5 7 3 0 4 4 2 1 3 ...\n",
      " $ MBERARBG: num  5 0 0 1 0 2 1 5 8 3 ...\n",
      " $ MBERARBO: num  2 4 2 2 0 2 5 2 1 3 ...\n",
      " $ MSKA    : num  1 0 0 3 9 2 0 2 1 1 ...\n",
      " $ MSKB1   : num  1 2 5 2 0 2 1 1 1 2 ...\n",
      " $ MSKB2   : num  2 3 0 1 0 2 4 2 0 1 ...\n",
      " $ MSKC    : num  6 5 4 4 0 4 5 5 8 4 ...\n",
      " $ MSKD    : num  1 0 0 0 0 2 0 2 1 2 ...\n",
      " $ MHHUUR  : num  1 2 7 5 4 9 6 0 9 0 ...\n",
      " $ MHKOOP  : num  8 7 2 4 5 0 3 9 0 9 ...\n",
      " $ MAUT1   : num  8 7 7 9 6 5 8 4 5 6 ...\n",
      " $ MAUT2   : num  0 1 0 0 2 3 0 4 2 1 ...\n",
      " $ MAUT0   : num  1 2 2 0 1 3 1 2 3 2 ...\n",
      " $ MZFONDS : num  8 6 9 7 5 9 9 6 7 6 ...\n",
      " $ MZPART  : num  1 3 0 2 4 0 0 3 2 3 ...\n",
      " $ MINKM30 : num  0 2 4 1 0 5 4 2 7 2 ...\n",
      " $ MINK3045: num  4 0 5 5 0 2 3 5 2 3 ...\n",
      " $ MINK4575: num  5 5 0 3 9 3 3 3 1 3 ...\n",
      " $ MINK7512: num  0 2 0 0 0 0 0 0 0 1 ...\n",
      " $ MINK123M: num  0 0 0 0 0 0 0 0 0 0 ...\n",
      " $ MINKGEM : num  4 5 3 4 6 3 3 3 2 4 ...\n",
      " $ MKOOPKLA: num  3 4 4 4 3 3 5 3 3 7 ...\n",
      " $ PWAPART : num  0 2 2 0 0 0 0 0 0 2 ...\n",
      " $ PWABEDR : num  0 0 0 0 0 0 0 0 0 0 ...\n",
      " $ PWALAND : num  0 0 0 0 0 0 0 0 0 0 ...\n",
      " $ PPERSAUT: num  6 0 6 6 0 6 6 0 5 0 ...\n",
      " $ PBESAUT : num  0 0 0 0 0 0 0 0 0 0 ...\n",
      " $ PMOTSCO : num  0 0 0 0 0 0 0 0 0 0 ...\n",
      " $ PVRAAUT : num  0 0 0 0 0 0 0 0 0 0 ...\n",
      " $ PAANHANG: num  0 0 0 0 0 0 0 0 0 0 ...\n",
      " $ PTRACTOR: num  0 0 0 0 0 0 0 0 0 0 ...\n",
      " $ PWERKT  : num  0 0 0 0 0 0 0 0 0 0 ...\n",
      " $ PBROM   : num  0 0 0 0 0 0 0 3 0 0 ...\n",
      " $ PLEVEN  : num  0 0 0 0 0 0 0 0 0 0 ...\n",
      " $ PPERSONG: num  0 0 0 0 0 0 0 0 0 0 ...\n",
      " $ PGEZONG : num  0 0 0 0 0 0 0 0 0 0 ...\n",
      " $ PWAOREG : num  0 0 0 0 0 0 0 0 0 0 ...\n",
      " $ PBRAND  : num  5 2 2 2 6 0 0 0 0 3 ...\n",
      " $ PZEILPL : num  0 0 0 0 0 0 0 0 0 0 ...\n",
      " $ PPLEZIER: num  0 0 0 0 0 0 0 0 0 0 ...\n",
      " $ PFIETS  : num  0 0 0 0 0 0 0 0 0 0 ...\n",
      " $ PINBOED : num  0 0 0 0 0 0 0 0 0 0 ...\n",
      " $ PBYSTAND: num  0 0 0 0 0 0 0 0 0 0 ...\n",
      " $ AWAPART : num  0 2 1 0 0 0 0 0 0 1 ...\n",
      " $ AWABEDR : num  0 0 0 0 0 0 0 0 0 0 ...\n",
      " $ AWALAND : num  0 0 0 0 0 0 0 0 0 0 ...\n",
      " $ APERSAUT: num  1 0 1 1 0 1 1 0 1 0 ...\n",
      " $ ABESAUT : num  0 0 0 0 0 0 0 0 0 0 ...\n",
      " $ AMOTSCO : num  0 0 0 0 0 0 0 0 0 0 ...\n",
      " $ AVRAAUT : num  0 0 0 0 0 0 0 0 0 0 ...\n",
      " $ AAANHANG: num  0 0 0 0 0 0 0 0 0 0 ...\n",
      " $ ATRACTOR: num  0 0 0 0 0 0 0 0 0 0 ...\n",
      " $ AWERKT  : num  0 0 0 0 0 0 0 0 0 0 ...\n",
      " $ ABROM   : num  0 0 0 0 0 0 0 1 0 0 ...\n",
      " $ ALEVEN  : num  0 0 0 0 0 0 0 0 0 0 ...\n",
      " $ APERSONG: num  0 0 0 0 0 0 0 0 0 0 ...\n",
      " $ AGEZONG : num  0 0 0 0 0 0 0 0 0 0 ...\n",
      " $ AWAOREG : num  0 0 0 0 0 0 0 0 0 0 ...\n",
      " $ ABRAND  : num  1 1 1 1 1 0 0 0 0 1 ...\n",
      " $ AZEILPL : num  0 0 0 0 0 0 0 0 0 0 ...\n",
      " $ APLEZIER: num  0 0 0 0 0 0 0 0 0 0 ...\n",
      " $ AFIETS  : num  0 0 0 0 0 0 0 0 0 0 ...\n",
      " $ AINBOED : num  0 0 0 0 0 0 0 0 0 0 ...\n",
      " $ ABYSTAND: num  0 0 0 0 0 0 0 0 0 0 ...\n",
      " $ Purchase: Factor w/ 2 levels \"No\",\"Yes\": 1 1 1 1 1 1 1 1 1 1 ...\n"
     ]
    }
   ],
   "source": [
    "# Load data, 58 predictors, demographics characters\n",
    "library(ISLR)\n",
    "\n",
    "# The Insurance Company (TIC) Benchmark\n",
    "# Variables 1-43         : sociodemographic data\n",
    "# Variables 44-86        : product ownership\n",
    "# Variable 86 (Purchase) : whether the customer purchased a caravan insurance policy\n",
    "str(Caravan)"
   ]
  },
  {
   "cell_type": "code",
   "execution_count": 111,
   "metadata": {},
   "outputs": [],
   "source": [
    "help(Caravan)"
   ]
  },
  {
   "cell_type": "code",
   "execution_count": 112,
   "metadata": {},
   "outputs": [
    {
     "data": {
      "text/plain": [
       "\n",
       "        No        Yes \n",
       "0.94022673 0.05977327 "
      ]
     },
     "metadata": {},
     "output_type": "display_data"
    }
   ],
   "source": [
    "# Response ratio\n",
    "table(Caravan$Purchase)/nrow(Caravan)"
   ]
  },
  {
   "cell_type": "code",
   "execution_count": 113,
   "metadata": {
    "scrolled": true
   },
   "outputs": [
    {
     "data": {
      "text/html": [
       "-7.02557607244499e-17"
      ],
      "text/latex": [
       "-7.02557607244499e-17"
      ],
      "text/markdown": [
       "-7.02557607244499e-17"
      ],
      "text/plain": [
       "[1] -7.025576e-17"
      ]
     },
     "metadata": {},
     "output_type": "display_data"
    },
    {
     "data": {
      "text/html": [
       "1"
      ],
      "text/latex": [
       "1"
      ],
      "text/markdown": [
       "1"
      ],
      "text/plain": [
       "[1] 1"
      ]
     },
     "metadata": {},
     "output_type": "display_data"
    },
    {
     "data": {
      "text/html": [
       "<table class=\"dataframe\">\n",
       "<caption>A data.frame: 6 × 86</caption>\n",
       "<thead>\n",
       "\t<tr><th></th><th scope=col>MOSTYPE</th><th scope=col>MAANTHUI</th><th scope=col>MGEMOMV</th><th scope=col>MGEMLEEF</th><th scope=col>MOSHOOFD</th><th scope=col>MGODRK</th><th scope=col>MGODPR</th><th scope=col>MGODOV</th><th scope=col>MGODGE</th><th scope=col>MRELGE</th><th scope=col>⋯</th><th scope=col>APERSONG</th><th scope=col>AGEZONG</th><th scope=col>AWAOREG</th><th scope=col>ABRAND</th><th scope=col>AZEILPL</th><th scope=col>APLEZIER</th><th scope=col>AFIETS</th><th scope=col>AINBOED</th><th scope=col>ABYSTAND</th><th scope=col>Purchase</th></tr>\n",
       "\t<tr><th></th><th scope=col>&lt;dbl&gt;</th><th scope=col>&lt;dbl&gt;</th><th scope=col>&lt;dbl&gt;</th><th scope=col>&lt;dbl&gt;</th><th scope=col>&lt;dbl&gt;</th><th scope=col>&lt;dbl&gt;</th><th scope=col>&lt;dbl&gt;</th><th scope=col>&lt;dbl&gt;</th><th scope=col>&lt;dbl&gt;</th><th scope=col>&lt;dbl&gt;</th><th scope=col>⋯</th><th scope=col>&lt;dbl&gt;</th><th scope=col>&lt;dbl&gt;</th><th scope=col>&lt;dbl&gt;</th><th scope=col>&lt;dbl&gt;</th><th scope=col>&lt;dbl&gt;</th><th scope=col>&lt;dbl&gt;</th><th scope=col>&lt;dbl&gt;</th><th scope=col>&lt;dbl&gt;</th><th scope=col>&lt;dbl&gt;</th><th scope=col>&lt;fct&gt;</th></tr>\n",
       "</thead>\n",
       "<tbody>\n",
       "\t<tr><th scope=row>1</th><td> 0.68084775</td><td>-0.2725565</td><td> 0.4066617</td><td>-1.21685949</td><td> 0.7793384</td><td>-0.6942510</td><td> 0.2174254</td><td>-0.06870474</td><td>-0.1618019</td><td> 0.42763309</td><td>⋯</td><td>-0.07315883</td><td>-0.08104764</td><td>-0.05991487</td><td> 0.764905</td><td>-0.02270383</td><td>-0.07364394</td><td>-0.1506075</td><td>-0.08734022</td><td>-0.1188063</td><td>No</td></tr>\n",
       "\t<tr><th scope=row>2</th><td> 0.99221162</td><td>-0.2725565</td><td>-0.8594262</td><td>-1.21685949</td><td> 0.7793384</td><td> 0.3025256</td><td>-0.3653787</td><td>-0.06870474</td><td> 0.4641188</td><td>-0.09606902</td><td>⋯</td><td>-0.07315883</td><td>-0.08104764</td><td>-0.05991487</td><td> 0.764905</td><td>-0.02270383</td><td>-0.07364394</td><td>-0.1506075</td><td>-0.08734022</td><td>-0.1188063</td><td>No</td></tr>\n",
       "\t<tr><th scope=row>3</th><td> 0.99221162</td><td>-0.2725565</td><td>-0.8594262</td><td>-1.21685949</td><td> 0.7793384</td><td>-0.6942510</td><td>-0.3653787</td><td> 0.91409379</td><td> 0.4641188</td><td>-1.66717535</td><td>⋯</td><td>-0.07315883</td><td>-0.08104764</td><td>-0.05991487</td><td> 0.764905</td><td>-0.02270383</td><td>-0.07364394</td><td>-0.1506075</td><td>-0.08734022</td><td>-0.1188063</td><td>No</td></tr>\n",
       "\t<tr><th scope=row>4</th><td>-1.18733547</td><td>-0.2725565</td><td> 0.4066617</td><td> 0.01075374</td><td>-0.9708962</td><td> 1.2993023</td><td>-0.9481828</td><td> 0.91409379</td><td> 0.4641188</td><td>-0.61977113</td><td>⋯</td><td>-0.07315883</td><td>-0.08104764</td><td>-0.05991487</td><td> 0.764905</td><td>-0.02270383</td><td>-0.07364394</td><td>-0.1506075</td><td>-0.08734022</td><td>-0.1188063</td><td>No</td></tr>\n",
       "\t<tr><th scope=row>5</th><td> 1.22573452</td><td>-0.2725565</td><td> 1.6727497</td><td>-1.21685949</td><td> 1.4794323</td><td> 0.3025256</td><td>-0.3653787</td><td>-0.06870474</td><td> 0.4641188</td><td> 0.42763309</td><td>⋯</td><td>-0.07315883</td><td>-0.08104764</td><td>-0.05991487</td><td> 0.764905</td><td>-0.02270383</td><td>-0.07364394</td><td>-0.1506075</td><td>-0.08734022</td><td>-0.1188063</td><td>No</td></tr>\n",
       "\t<tr><th scope=row>6</th><td>-0.09756193</td><td>-0.2725565</td><td>-0.8594262</td><td>-2.44447272</td><td>-0.2708024</td><td>-0.6942510</td><td> 0.2174254</td><td>-1.05150327</td><td> 1.0900394</td><td>-3.23828168</td><td>⋯</td><td>-0.07315883</td><td>-0.08104764</td><td>-0.05991487</td><td>-1.014271</td><td>-0.02270383</td><td>-0.07364394</td><td>-0.1506075</td><td>-0.08734022</td><td>-0.1188063</td><td>No</td></tr>\n",
       "</tbody>\n",
       "</table>\n"
      ],
      "text/latex": [
       "A data.frame: 6 × 86\n",
       "\\begin{tabular}{r|lllllllllllllllllllll}\n",
       "  & MOSTYPE & MAANTHUI & MGEMOMV & MGEMLEEF & MOSHOOFD & MGODRK & MGODPR & MGODOV & MGODGE & MRELGE & ⋯ & APERSONG & AGEZONG & AWAOREG & ABRAND & AZEILPL & APLEZIER & AFIETS & AINBOED & ABYSTAND & Purchase\\\\\n",
       "  & <dbl> & <dbl> & <dbl> & <dbl> & <dbl> & <dbl> & <dbl> & <dbl> & <dbl> & <dbl> & ⋯ & <dbl> & <dbl> & <dbl> & <dbl> & <dbl> & <dbl> & <dbl> & <dbl> & <dbl> & <fct>\\\\\n",
       "\\hline\n",
       "\t1 &  0.68084775 & -0.2725565 &  0.4066617 & -1.21685949 &  0.7793384 & -0.6942510 &  0.2174254 & -0.06870474 & -0.1618019 &  0.42763309 & ⋯ & -0.07315883 & -0.08104764 & -0.05991487 &  0.764905 & -0.02270383 & -0.07364394 & -0.1506075 & -0.08734022 & -0.1188063 & No\\\\\n",
       "\t2 &  0.99221162 & -0.2725565 & -0.8594262 & -1.21685949 &  0.7793384 &  0.3025256 & -0.3653787 & -0.06870474 &  0.4641188 & -0.09606902 & ⋯ & -0.07315883 & -0.08104764 & -0.05991487 &  0.764905 & -0.02270383 & -0.07364394 & -0.1506075 & -0.08734022 & -0.1188063 & No\\\\\n",
       "\t3 &  0.99221162 & -0.2725565 & -0.8594262 & -1.21685949 &  0.7793384 & -0.6942510 & -0.3653787 &  0.91409379 &  0.4641188 & -1.66717535 & ⋯ & -0.07315883 & -0.08104764 & -0.05991487 &  0.764905 & -0.02270383 & -0.07364394 & -0.1506075 & -0.08734022 & -0.1188063 & No\\\\\n",
       "\t4 & -1.18733547 & -0.2725565 &  0.4066617 &  0.01075374 & -0.9708962 &  1.2993023 & -0.9481828 &  0.91409379 &  0.4641188 & -0.61977113 & ⋯ & -0.07315883 & -0.08104764 & -0.05991487 &  0.764905 & -0.02270383 & -0.07364394 & -0.1506075 & -0.08734022 & -0.1188063 & No\\\\\n",
       "\t5 &  1.22573452 & -0.2725565 &  1.6727497 & -1.21685949 &  1.4794323 &  0.3025256 & -0.3653787 & -0.06870474 &  0.4641188 &  0.42763309 & ⋯ & -0.07315883 & -0.08104764 & -0.05991487 &  0.764905 & -0.02270383 & -0.07364394 & -0.1506075 & -0.08734022 & -0.1188063 & No\\\\\n",
       "\t6 & -0.09756193 & -0.2725565 & -0.8594262 & -2.44447272 & -0.2708024 & -0.6942510 &  0.2174254 & -1.05150327 &  1.0900394 & -3.23828168 & ⋯ & -0.07315883 & -0.08104764 & -0.05991487 & -1.014271 & -0.02270383 & -0.07364394 & -0.1506075 & -0.08734022 & -0.1188063 & No\\\\\n",
       "\\end{tabular}\n"
      ],
      "text/markdown": [
       "\n",
       "A data.frame: 6 × 86\n",
       "\n",
       "| <!--/--> | MOSTYPE &lt;dbl&gt; | MAANTHUI &lt;dbl&gt; | MGEMOMV &lt;dbl&gt; | MGEMLEEF &lt;dbl&gt; | MOSHOOFD &lt;dbl&gt; | MGODRK &lt;dbl&gt; | MGODPR &lt;dbl&gt; | MGODOV &lt;dbl&gt; | MGODGE &lt;dbl&gt; | MRELGE &lt;dbl&gt; | ⋯ ⋯ | APERSONG &lt;dbl&gt; | AGEZONG &lt;dbl&gt; | AWAOREG &lt;dbl&gt; | ABRAND &lt;dbl&gt; | AZEILPL &lt;dbl&gt; | APLEZIER &lt;dbl&gt; | AFIETS &lt;dbl&gt; | AINBOED &lt;dbl&gt; | ABYSTAND &lt;dbl&gt; | Purchase &lt;fct&gt; |\n",
       "|---|---|---|---|---|---|---|---|---|---|---|---|---|---|---|---|---|---|---|---|---|---|\n",
       "| 1 |  0.68084775 | -0.2725565 |  0.4066617 | -1.21685949 |  0.7793384 | -0.6942510 |  0.2174254 | -0.06870474 | -0.1618019 |  0.42763309 | ⋯ | -0.07315883 | -0.08104764 | -0.05991487 |  0.764905 | -0.02270383 | -0.07364394 | -0.1506075 | -0.08734022 | -0.1188063 | No |\n",
       "| 2 |  0.99221162 | -0.2725565 | -0.8594262 | -1.21685949 |  0.7793384 |  0.3025256 | -0.3653787 | -0.06870474 |  0.4641188 | -0.09606902 | ⋯ | -0.07315883 | -0.08104764 | -0.05991487 |  0.764905 | -0.02270383 | -0.07364394 | -0.1506075 | -0.08734022 | -0.1188063 | No |\n",
       "| 3 |  0.99221162 | -0.2725565 | -0.8594262 | -1.21685949 |  0.7793384 | -0.6942510 | -0.3653787 |  0.91409379 |  0.4641188 | -1.66717535 | ⋯ | -0.07315883 | -0.08104764 | -0.05991487 |  0.764905 | -0.02270383 | -0.07364394 | -0.1506075 | -0.08734022 | -0.1188063 | No |\n",
       "| 4 | -1.18733547 | -0.2725565 |  0.4066617 |  0.01075374 | -0.9708962 |  1.2993023 | -0.9481828 |  0.91409379 |  0.4641188 | -0.61977113 | ⋯ | -0.07315883 | -0.08104764 | -0.05991487 |  0.764905 | -0.02270383 | -0.07364394 | -0.1506075 | -0.08734022 | -0.1188063 | No |\n",
       "| 5 |  1.22573452 | -0.2725565 |  1.6727497 | -1.21685949 |  1.4794323 |  0.3025256 | -0.3653787 | -0.06870474 |  0.4641188 |  0.42763309 | ⋯ | -0.07315883 | -0.08104764 | -0.05991487 |  0.764905 | -0.02270383 | -0.07364394 | -0.1506075 | -0.08734022 | -0.1188063 | No |\n",
       "| 6 | -0.09756193 | -0.2725565 | -0.8594262 | -2.44447272 | -0.2708024 | -0.6942510 |  0.2174254 | -1.05150327 |  1.0900394 | -3.23828168 | ⋯ | -0.07315883 | -0.08104764 | -0.05991487 | -1.014271 | -0.02270383 | -0.07364394 | -0.1506075 | -0.08734022 | -0.1188063 | No |\n",
       "\n"
      ],
      "text/plain": [
       "  MOSTYPE     MAANTHUI   MGEMOMV    MGEMLEEF    MOSHOOFD   MGODRK    \n",
       "1  0.68084775 -0.2725565  0.4066617 -1.21685949  0.7793384 -0.6942510\n",
       "2  0.99221162 -0.2725565 -0.8594262 -1.21685949  0.7793384  0.3025256\n",
       "3  0.99221162 -0.2725565 -0.8594262 -1.21685949  0.7793384 -0.6942510\n",
       "4 -1.18733547 -0.2725565  0.4066617  0.01075374 -0.9708962  1.2993023\n",
       "5  1.22573452 -0.2725565  1.6727497 -1.21685949  1.4794323  0.3025256\n",
       "6 -0.09756193 -0.2725565 -0.8594262 -2.44447272 -0.2708024 -0.6942510\n",
       "  MGODPR     MGODOV      MGODGE     MRELGE      <U+22EF>        APERSONG   \n",
       "1  0.2174254 -0.06870474 -0.1618019  0.42763309 <U+22EF> -0.07315883\n",
       "2 -0.3653787 -0.06870474  0.4641188 -0.09606902 <U+22EF> -0.07315883\n",
       "3 -0.3653787  0.91409379  0.4641188 -1.66717535 <U+22EF> -0.07315883\n",
       "4 -0.9481828  0.91409379  0.4641188 -0.61977113 <U+22EF> -0.07315883\n",
       "5 -0.3653787 -0.06870474  0.4641188  0.42763309 <U+22EF> -0.07315883\n",
       "6  0.2174254 -1.05150327  1.0900394 -3.23828168 <U+22EF> -0.07315883\n",
       "  AGEZONG     AWAOREG     ABRAND    AZEILPL     APLEZIER    AFIETS    \n",
       "1 -0.08104764 -0.05991487  0.764905 -0.02270383 -0.07364394 -0.1506075\n",
       "2 -0.08104764 -0.05991487  0.764905 -0.02270383 -0.07364394 -0.1506075\n",
       "3 -0.08104764 -0.05991487  0.764905 -0.02270383 -0.07364394 -0.1506075\n",
       "4 -0.08104764 -0.05991487  0.764905 -0.02270383 -0.07364394 -0.1506075\n",
       "5 -0.08104764 -0.05991487  0.764905 -0.02270383 -0.07364394 -0.1506075\n",
       "6 -0.08104764 -0.05991487 -1.014271 -0.02270383 -0.07364394 -0.1506075\n",
       "  AINBOED     ABYSTAND   Purchase\n",
       "1 -0.08734022 -0.1188063 No      \n",
       "2 -0.08734022 -0.1188063 No      \n",
       "3 -0.08734022 -0.1188063 No      \n",
       "4 -0.08734022 -0.1188063 No      \n",
       "5 -0.08734022 -0.1188063 No      \n",
       "6 -0.08734022 -0.1188063 No      "
      ]
     },
     "metadata": {},
     "output_type": "display_data"
    }
   ],
   "source": [
    "# Data processing, scale data for KNN\n",
    "Caravan_scaled <- data.frame(scale(Caravan[, -86]))  # Standardize\n",
    "Caravan_scaled['Purchase'] <- Caravan[, 'Purchase']  # Add target variable\n",
    "\n",
    "mean(Caravan_scaled[, 1])  # Mean = 0\n",
    "var(Caravan_scaled[, 1])  # Variance = Standard deviation = 1\n",
    "head(Caravan_scaled)"
   ]
  },
  {
   "cell_type": "code",
   "execution_count": 114,
   "metadata": {},
   "outputs": [],
   "source": [
    "# Train test spliting\n",
    "set.seed(123)\n",
    "train_idx <- createDataPartition(Caravan[, 'Purchase'], p=.7, list=FALSE)\n",
    "\n",
    "# Train dataset\n",
    "train <- Caravan[train_idx, ]\n",
    "train_scaled <- Caravan_scaled[train_idx, ]\n",
    "\n",
    "# Test dataset\n",
    "test <- Caravan[-train_idx, ]\n",
    "test_scaled <- Caravan_scaled[-train_idx, ]"
   ]
  },
  {
   "cell_type": "code",
   "execution_count": 115,
   "metadata": {},
   "outputs": [
    {
     "data": {
      "text/plain": [
       "        \n",
       "pred_knn   No  Yes\n",
       "     No  1548   90\n",
       "     Yes   94   14"
      ]
     },
     "metadata": {},
     "output_type": "display_data"
    },
    {
     "name": "stdout",
     "output_type": "stream",
     "text": [
      "[1] \"Accuracy = 0.89\"\n",
      "[1] \"Precision = 0.13\"\n",
      "[1] \"Sensitivity (TPR) = 0.13\"\n",
      "[1] \"Specificity (TNR) = 0.94\"\n"
     ]
    }
   ],
   "source": [
    "# Fit KNN model k=1\n",
    "pred_knn <- knn(train=train_scaled[, -86], test=test_scaled[, -86], cl=train_scaled[, 86], k=1)\n",
    "\n",
    "# Evaluation\n",
    "table(pred_knn, test$Purchase)\n",
    "acc <- mean(pred_knn == test_scaled$Purchase)\n",
    "TP <- table(pred_knn, test_scaled$Purchase)[2, 2]\n",
    "TN <- table(pred_knn, test_scaled$Purchase)[1, 1]\n",
    "FP <- table(pred_knn, test_scaled$Purchase)[2, 1]\n",
    "FN <- table(pred_knn, test_scaled$Purchase)[1, 2]\n",
    "\n",
    "print(paste('Accuracy =', round(acc, 2)))\n",
    "print(paste('Precision =', round(TP / (TP + FP), 2)))\n",
    "print(paste('Sensitivity (TPR) =', round(TP / (TP + FN), 2)))\n",
    "print(paste('Specificity (TNR) =', round(TN / (TN + FP), 2)))"
   ]
  },
  {
   "cell_type": "code",
   "execution_count": 116,
   "metadata": {},
   "outputs": [
    {
     "data": {
      "text/plain": [
       "        \n",
       "pred_knn   No  Yes\n",
       "     No  1536   90\n",
       "     Yes  106   14"
      ]
     },
     "metadata": {},
     "output_type": "display_data"
    },
    {
     "name": "stdout",
     "output_type": "stream",
     "text": [
      "[1] \"Accuracy = 0.89\"\n",
      "[1] \"Precision = 0.12\"\n",
      "[1] \"Sensitivity (TPR) = 0.13\"\n",
      "[1] \"Specificity (TNR) = 0.94\"\n"
     ]
    }
   ],
   "source": [
    "# Fit KNN model k=2\n",
    "pred_knn <- knn(train=train_scaled[, -86], test=test_scaled[, -86], cl=train_scaled[, 86], k=2)\n",
    "\n",
    "# Evaluation\n",
    "table(pred_knn, test_scaled$Purchase)\n",
    "acc <- mean(pred_knn == test$Purchase)\n",
    "TP <- table(pred_knn, test_scaled$Purchase)[2, 2]\n",
    "TN <- table(pred_knn, test_scaled$Purchase)[1, 1]\n",
    "FP <- table(pred_knn, test_scaled$Purchase)[2, 1]\n",
    "FN <- table(pred_knn, test_scaled$Purchase)[1, 2]\n",
    "\n",
    "print(paste('Accuracy =', round(acc, 2)))\n",
    "print(paste('Precision =', round(TP / (TP + FP), 2)))\n",
    "print(paste('Sensitivity (TPR) =', round(TP / (TP + FN), 2)))\n",
    "print(paste('Specificity (TNR) =', round(TN / (TN + FP), 2)))"
   ]
  },
  {
   "cell_type": "code",
   "execution_count": 117,
   "metadata": {},
   "outputs": [
    {
     "name": "stderr",
     "output_type": "stream",
     "text": [
      "Warning message:\n",
      "\"glm.fit: fitted probabilities numerically 0 or 1 occurred\"\n"
     ]
    },
    {
     "data": {
      "text/html": [
       "<style>\n",
       ".dl-inline {width: auto; margin:0; padding: 0}\n",
       ".dl-inline>dt, .dl-inline>dd {float: none; width: auto; display: inline-block}\n",
       ".dl-inline>dt::after {content: \":\\0020\"; padding-right: .5ex}\n",
       ".dl-inline>dt:not(:first-of-type) {padding-left: .5ex}\n",
       "</style><dl class=dl-inline><dt>3</dt><dd>0.0581763725392955</dd><dt>4</dt><dd>0.0563752929959957</dd><dt>6</dt><dd>0.0112723480216795</dd><dt>8</dt><dd>0.00946856373281105</dd><dt>9</dt><dd>0.0271847315885975</dd><dt>11</dt><dd>0.115928522561019</dd></dl>\n"
      ],
      "text/latex": [
       "\\begin{description*}\n",
       "\\item[3] 0.0581763725392955\n",
       "\\item[4] 0.0563752929959957\n",
       "\\item[6] 0.0112723480216795\n",
       "\\item[8] 0.00946856373281105\n",
       "\\item[9] 0.0271847315885975\n",
       "\\item[11] 0.115928522561019\n",
       "\\end{description*}\n"
      ],
      "text/markdown": [
       "3\n",
       ":   0.05817637253929554\n",
       ":   0.05637529299599576\n",
       ":   0.01127234802167958\n",
       ":   0.009468563732811059\n",
       ":   0.027184731588597511\n",
       ":   0.115928522561019\n",
       "\n"
      ],
      "text/plain": [
       "          3           4           6           8           9          11 \n",
       "0.058176373 0.056375293 0.011272348 0.009468564 0.027184732 0.115928523 "
      ]
     },
     "metadata": {},
     "output_type": "display_data"
    },
    {
     "data": {
      "text/plain": [
       "     \n",
       "pred    No  Yes\n",
       "  No  1632  101\n",
       "  Yes   10    3"
      ]
     },
     "metadata": {},
     "output_type": "display_data"
    },
    {
     "name": "stdout",
     "output_type": "stream",
     "text": [
      "[1] \"Accuracy = 0.94\"\n",
      "[1] \"Precision = 0.23\"\n",
      "[1] \"Sensitivity (TPR) = 0.03\"\n",
      "[1] \"Specificity (TNR) = 0.99\"\n"
     ]
    }
   ],
   "source": [
    "# Fit Logistic Regression model\n",
    "md_logreg <- glm(Purchase ~ ., data=train, family=binomial)\n",
    "\n",
    "# Make prediction\n",
    "pred_logreg <- predict(md_logreg, newdata=test, type='response')\n",
    "head(pred_logreg)\n",
    "\n",
    "# Decision threshold = 0.5\n",
    "threshold <- 0.5\n",
    "pred <- rep('No', nrow(test))\n",
    "pred[pred_logreg > threshold] <- 'Yes'\n",
    "\n",
    "# Evaluation\n",
    "table(pred, test$Purchase)\n",
    "acc <- mean(pred == test$Purchase)\n",
    "TP <- table(pred, test$Purchase)[2, 2]\n",
    "TN <- table(pred, test$Purchase)[1, 1]\n",
    "FP <- table(pred, test$Purchase)[2, 1]\n",
    "FN <- table(pred, test$Purchase)[1, 2]\n",
    "\n",
    "print(paste('Accuracy =', round(acc, 2)))\n",
    "print(paste('Precision =', round(TP / (TP + FP), 2)))\n",
    "print(paste('Sensitivity (TPR) =', round(TP / (TP + FN), 2)))\n",
    "print(paste('Specificity (TNR) =', round(TN / (TN + FP), 2)))"
   ]
  },
  {
   "cell_type": "code",
   "execution_count": 118,
   "metadata": {},
   "outputs": [
    {
     "data": {
      "text/plain": [
       "     \n",
       "pred    No  Yes\n",
       "  No  1579   88\n",
       "  Yes   63   16"
      ]
     },
     "metadata": {},
     "output_type": "display_data"
    },
    {
     "name": "stdout",
     "output_type": "stream",
     "text": [
      "[1] \"Accuracy = 0.91\"\n",
      "[1] \"Precision = 0.2\"\n",
      "[1] \"Sensitivity (TPR) = 0.15\"\n",
      "[1] \"Specificity (TNR) = 0.96\"\n"
     ]
    }
   ],
   "source": [
    "# Decision threshold = 0.25\n",
    "threshold <- 0.25\n",
    "pred <- rep('No', nrow(test))\n",
    "pred[pred_logreg > threshold] <- 'Yes'\n",
    "\n",
    "# Evaluation\n",
    "table(pred, test$Purchase)\n",
    "acc <- mean(pred == test$Purchase)\n",
    "TP <- table(pred, test$Purchase)[2, 2]\n",
    "TN <- table(pred, test$Purchase)[1, 1]\n",
    "FP <- table(pred, test$Purchase)[2, 1]\n",
    "FN <- table(pred, test$Purchase)[1, 2]\n",
    "\n",
    "print(paste('Accuracy =', round(acc, 2)))\n",
    "print(paste('Precision =', round(TP / (TP + FP), 2)))\n",
    "print(paste('Sensitivity (TPR) =', round(TP / (TP + FN), 2)))\n",
    "print(paste('Specificity (TNR) =', round(TN / (TN + FP), 2)))"
   ]
  },
  {
   "cell_type": "markdown",
   "metadata": {},
   "source": [
    "### Lab 3: Student Performance Data"
   ]
  },
  {
   "cell_type": "markdown",
   "metadata": {},
   "source": [
    "#### 3.1. Data exploration"
   ]
  },
  {
   "cell_type": "code",
   "execution_count": 1,
   "metadata": {},
   "outputs": [
    {
     "name": "stderr",
     "output_type": "stream",
     "text": [
      "Loading required package: ParamHelpers\n",
      "\n",
      "'mlr' is in maintenance mode since July 2019. Future development\n",
      "efforts will go into its successor 'mlr3' (<https://mlr3.mlr-org.com>).\n",
      "\n",
      "Loading required package: kknn\n",
      "\n",
      "Loading required package: MASS\n",
      "\n",
      "Loading required package: nnet\n",
      "\n"
     ]
    }
   ],
   "source": [
    "# Required library\n",
    "library(mlr)   # ML framework\n",
    "require(kknn)  # kNN\n",
    "require(MASS)  # LDA, QDA\n",
    "require(nnet)  # Multinomial LogRes"
   ]
  },
  {
   "cell_type": "code",
   "execution_count": 123,
   "metadata": {},
   "outputs": [
    {
     "name": "stdout",
     "output_type": "stream",
     "text": [
      "'data.frame':\t395 obs. of  33 variables:\n",
      " $ school    : chr  \"GP\" \"GP\" \"GP\" \"GP\" ...\n",
      " $ sex       : chr  \"F\" \"F\" \"F\" \"F\" ...\n",
      " $ age       : int  18 17 15 15 16 16 16 17 15 15 ...\n",
      " $ address   : chr  \"U\" \"U\" \"U\" \"U\" ...\n",
      " $ famsize   : chr  \"GT3\" \"GT3\" \"LE3\" \"GT3\" ...\n",
      " $ Pstatus   : chr  \"A\" \"T\" \"T\" \"T\" ...\n",
      " $ Medu      : int  4 1 1 4 3 4 2 4 3 3 ...\n",
      " $ Fedu      : int  4 1 1 2 3 3 2 4 2 4 ...\n",
      " $ Mjob      : chr  \"at_home\" \"at_home\" \"at_home\" \"health\" ...\n",
      " $ Fjob      : chr  \"teacher\" \"other\" \"other\" \"services\" ...\n",
      " $ reason    : chr  \"course\" \"course\" \"other\" \"home\" ...\n",
      " $ guardian  : chr  \"mother\" \"father\" \"mother\" \"mother\" ...\n",
      " $ traveltime: int  2 1 1 1 1 1 1 2 1 1 ...\n",
      " $ studytime : int  2 2 2 3 2 2 2 2 2 2 ...\n",
      " $ failures  : int  0 0 3 0 0 0 0 0 0 0 ...\n",
      " $ schoolsup : chr  \"yes\" \"no\" \"yes\" \"no\" ...\n",
      " $ famsup    : chr  \"no\" \"yes\" \"no\" \"yes\" ...\n",
      " $ paid      : chr  \"no\" \"no\" \"yes\" \"yes\" ...\n",
      " $ activities: chr  \"no\" \"no\" \"no\" \"yes\" ...\n",
      " $ nursery   : chr  \"yes\" \"no\" \"yes\" \"yes\" ...\n",
      " $ higher    : chr  \"yes\" \"yes\" \"yes\" \"yes\" ...\n",
      " $ internet  : chr  \"no\" \"yes\" \"yes\" \"yes\" ...\n",
      " $ romantic  : chr  \"no\" \"no\" \"no\" \"yes\" ...\n",
      " $ famrel    : int  4 5 4 3 4 5 4 4 4 5 ...\n",
      " $ freetime  : int  3 3 3 2 3 4 4 1 2 5 ...\n",
      " $ goout     : int  4 3 2 2 2 2 4 4 2 1 ...\n",
      " $ Dalc      : int  1 1 2 1 1 1 1 1 1 1 ...\n",
      " $ Walc      : int  1 1 3 1 2 2 1 1 1 1 ...\n",
      " $ health    : int  3 3 3 5 5 5 3 1 1 5 ...\n",
      " $ absences  : int  6 4 10 2 4 10 0 6 0 0 ...\n",
      " $ G1        : int  5 5 7 15 6 15 12 6 16 14 ...\n",
      " $ G2        : int  6 5 8 14 10 15 12 5 18 15 ...\n",
      " $ G3        : int  6 6 10 15 10 15 11 6 19 15 ...\n"
     ]
    }
   ],
   "source": [
    "# Import data\n",
    "student <- read.csv('./data/student/student-mat.csv', sep=';')\n",
    "str(student)"
   ]
  },
  {
   "cell_type": "code",
   "execution_count": 124,
   "metadata": {},
   "outputs": [
    {
     "data": {
      "text/html": [
       "<style>\n",
       ".dl-inline {width: auto; margin:0; padding: 0}\n",
       ".dl-inline>dt, .dl-inline>dd {float: none; width: auto; display: inline-block}\n",
       ".dl-inline>dt::after {content: \":\\0020\"; padding-right: .5ex}\n",
       ".dl-inline>dt:not(:first-of-type) {padding-left: .5ex}\n",
       "</style><dl class=dl-inline><dt>school</dt><dd>0</dd><dt>sex</dt><dd>0</dd><dt>age</dt><dd>0</dd><dt>address</dt><dd>0</dd><dt>famsize</dt><dd>0</dd><dt>Pstatus</dt><dd>0</dd><dt>Medu</dt><dd>0</dd><dt>Fedu</dt><dd>0</dd><dt>Mjob</dt><dd>0</dd><dt>Fjob</dt><dd>0</dd><dt>reason</dt><dd>0</dd><dt>guardian</dt><dd>0</dd><dt>traveltime</dt><dd>0</dd><dt>studytime</dt><dd>0</dd><dt>failures</dt><dd>0</dd><dt>schoolsup</dt><dd>0</dd><dt>famsup</dt><dd>0</dd><dt>paid</dt><dd>0</dd><dt>activities</dt><dd>0</dd><dt>nursery</dt><dd>0</dd><dt>higher</dt><dd>0</dd><dt>internet</dt><dd>0</dd><dt>romantic</dt><dd>0</dd><dt>famrel</dt><dd>0</dd><dt>freetime</dt><dd>0</dd><dt>goout</dt><dd>0</dd><dt>Dalc</dt><dd>0</dd><dt>Walc</dt><dd>0</dd><dt>health</dt><dd>0</dd><dt>absences</dt><dd>0</dd><dt>G1</dt><dd>0</dd><dt>G2</dt><dd>0</dd><dt>G3</dt><dd>0</dd></dl>\n"
      ],
      "text/latex": [
       "\\begin{description*}\n",
       "\\item[school] 0\n",
       "\\item[sex] 0\n",
       "\\item[age] 0\n",
       "\\item[address] 0\n",
       "\\item[famsize] 0\n",
       "\\item[Pstatus] 0\n",
       "\\item[Medu] 0\n",
       "\\item[Fedu] 0\n",
       "\\item[Mjob] 0\n",
       "\\item[Fjob] 0\n",
       "\\item[reason] 0\n",
       "\\item[guardian] 0\n",
       "\\item[traveltime] 0\n",
       "\\item[studytime] 0\n",
       "\\item[failures] 0\n",
       "\\item[schoolsup] 0\n",
       "\\item[famsup] 0\n",
       "\\item[paid] 0\n",
       "\\item[activities] 0\n",
       "\\item[nursery] 0\n",
       "\\item[higher] 0\n",
       "\\item[internet] 0\n",
       "\\item[romantic] 0\n",
       "\\item[famrel] 0\n",
       "\\item[freetime] 0\n",
       "\\item[goout] 0\n",
       "\\item[Dalc] 0\n",
       "\\item[Walc] 0\n",
       "\\item[health] 0\n",
       "\\item[absences] 0\n",
       "\\item[G1] 0\n",
       "\\item[G2] 0\n",
       "\\item[G3] 0\n",
       "\\end{description*}\n"
      ],
      "text/markdown": [
       "school\n",
       ":   0sex\n",
       ":   0age\n",
       ":   0address\n",
       ":   0famsize\n",
       ":   0Pstatus\n",
       ":   0Medu\n",
       ":   0Fedu\n",
       ":   0Mjob\n",
       ":   0Fjob\n",
       ":   0reason\n",
       ":   0guardian\n",
       ":   0traveltime\n",
       ":   0studytime\n",
       ":   0failures\n",
       ":   0schoolsup\n",
       ":   0famsup\n",
       ":   0paid\n",
       ":   0activities\n",
       ":   0nursery\n",
       ":   0higher\n",
       ":   0internet\n",
       ":   0romantic\n",
       ":   0famrel\n",
       ":   0freetime\n",
       ":   0goout\n",
       ":   0Dalc\n",
       ":   0Walc\n",
       ":   0health\n",
       ":   0absences\n",
       ":   0G1\n",
       ":   0G2\n",
       ":   0G3\n",
       ":   0\n",
       "\n"
      ],
      "text/plain": [
       "    school        sex        age    address    famsize    Pstatus       Medu \n",
       "         0          0          0          0          0          0          0 \n",
       "      Fedu       Mjob       Fjob     reason   guardian traveltime  studytime \n",
       "         0          0          0          0          0          0          0 \n",
       "  failures  schoolsup     famsup       paid activities    nursery     higher \n",
       "         0          0          0          0          0          0          0 \n",
       "  internet   romantic     famrel   freetime      goout       Dalc       Walc \n",
       "         0          0          0          0          0          0          0 \n",
       "    health   absences         G1         G2         G3 \n",
       "         0          0          0          0          0 "
      ]
     },
     "metadata": {},
     "output_type": "display_data"
    }
   ],
   "source": [
    "# Check NA\n",
    "apply(is.na(student), 2, sum)"
   ]
  },
  {
   "cell_type": "code",
   "execution_count": 125,
   "metadata": {},
   "outputs": [
    {
     "data": {
      "text/plain": [
       "   Min. 1st Qu.  Median    Mean 3rd Qu.    Max. \n",
       "   0.00    8.00   11.00   10.42   14.00   20.00 "
      ]
     },
     "metadata": {},
     "output_type": "display_data"
    },
    {
     "data": {
      "image/png": "[encoded data removed]",
      "text/plain": [
       "plot without title"
      ]
     },
     "metadata": {
      "image/png": {
       "height": 480,
       "width": 480
      }
     },
     "output_type": "display_data"
    }
   ],
   "source": [
    "# Check target variable\n",
    "summary(student$G3)\n",
    "\n",
    "options(repr.plot.width=8, repr.plot.height=8)\n",
    "barplot(table(student$G3))"
   ]
  },
  {
   "cell_type": "markdown",
   "metadata": {},
   "source": [
    "#### 3.2. Binomial classification"
   ]
  },
  {
   "cell_type": "code",
   "execution_count": 126,
   "metadata": {},
   "outputs": [
    {
     "data": {
      "text/plain": [
       "\n",
       "  N   Y \n",
       "130 265 "
      ]
     },
     "metadata": {},
     "output_type": "display_data"
    },
    {
     "data": {
      "text/plain": [
       "\n",
       "        N         Y \n",
       "0.3291139 0.6708861 "
      ]
     },
     "metadata": {},
     "output_type": "display_data"
    }
   ],
   "source": [
    "# Bin target variable into 2 groups: pass = Y/N\n",
    "student$pass <- 'N'\n",
    "student[student$G3 >= 10, 'pass'] <- 'Y'\n",
    "\n",
    "table(student$pass)\n",
    "table(student$pass)/nrow(student)"
   ]
  },
  {
   "cell_type": "code",
   "execution_count": 127,
   "metadata": {},
   "outputs": [],
   "source": [
    "# Drop the previous target column\n",
    "student$G3 <- NULL"
   ]
  },
  {
   "cell_type": "markdown",
   "metadata": {},
   "source": [
    "#### Pre-process data"
   ]
  },
  {
   "cell_type": "code",
   "execution_count": 128,
   "metadata": {},
   "outputs": [
    {
     "data": {
      "text/html": [
       "<style>\n",
       ".list-inline {list-style: none; margin:0; padding: 0}\n",
       ".list-inline>li {display: inline-block}\n",
       ".list-inline>li:not(:last-child)::after {content: \"\\00b7\"; padding: 0 .5ex}\n",
       "</style>\n",
       "<ol class=list-inline><li>'school'</li><li>'sex'</li><li>'address'</li><li>'famsize'</li><li>'Pstatus'</li><li>'Mjob'</li><li>'Fjob'</li><li>'reason'</li><li>'guardian'</li><li>'schoolsup'</li><li>'famsup'</li><li>'paid'</li><li>'activities'</li><li>'nursery'</li><li>'higher'</li><li>'internet'</li><li>'romantic'</li></ol>\n"
      ],
      "text/latex": [
       "\\begin{enumerate*}\n",
       "\\item 'school'\n",
       "\\item 'sex'\n",
       "\\item 'address'\n",
       "\\item 'famsize'\n",
       "\\item 'Pstatus'\n",
       "\\item 'Mjob'\n",
       "\\item 'Fjob'\n",
       "\\item 'reason'\n",
       "\\item 'guardian'\n",
       "\\item 'schoolsup'\n",
       "\\item 'famsup'\n",
       "\\item 'paid'\n",
       "\\item 'activities'\n",
       "\\item 'nursery'\n",
       "\\item 'higher'\n",
       "\\item 'internet'\n",
       "\\item 'romantic'\n",
       "\\end{enumerate*}\n"
      ],
      "text/markdown": [
       "1. 'school'\n",
       "2. 'sex'\n",
       "3. 'address'\n",
       "4. 'famsize'\n",
       "5. 'Pstatus'\n",
       "6. 'Mjob'\n",
       "7. 'Fjob'\n",
       "8. 'reason'\n",
       "9. 'guardian'\n",
       "10. 'schoolsup'\n",
       "11. 'famsup'\n",
       "12. 'paid'\n",
       "13. 'activities'\n",
       "14. 'nursery'\n",
       "15. 'higher'\n",
       "16. 'internet'\n",
       "17. 'romantic'\n",
       "\n",
       "\n"
      ],
      "text/plain": [
       " [1] \"school\"     \"sex\"        \"address\"    \"famsize\"    \"Pstatus\"   \n",
       " [6] \"Mjob\"       \"Fjob\"       \"reason\"     \"guardian\"   \"schoolsup\" \n",
       "[11] \"famsup\"     \"paid\"       \"activities\" \"nursery\"    \"higher\"    \n",
       "[16] \"internet\"   \"romantic\"  "
      ]
     },
     "metadata": {},
     "output_type": "display_data"
    }
   ],
   "source": [
    "# Get list of categorical variables\n",
    "var_list <- names(student[, 1:(ncol(student)-1)])\n",
    "cat_list <- var_list[sapply(student[, var_list], class) == 'character']\n",
    "cat_list"
   ]
  },
  {
   "cell_type": "code",
   "execution_count": 129,
   "metadata": {},
   "outputs": [
    {
     "name": "stderr",
     "output_type": "stream",
     "text": [
      "Warning message in model.matrix.default(~x - 1, model.frame(~x - 1), contrasts = FALSE):\n",
      "\"non-list contrasts argument ignored\"\n",
      "Warning message in model.matrix.default(~x - 1, model.frame(~x - 1), contrasts = FALSE):\n",
      "\"non-list contrasts argument ignored\"\n",
      "Warning message in model.matrix.default(~x - 1, model.frame(~x - 1), contrasts = FALSE):\n",
      "\"non-list contrasts argument ignored\"\n",
      "Warning message in model.matrix.default(~x - 1, model.frame(~x - 1), contrasts = FALSE):\n",
      "\"non-list contrasts argument ignored\"\n",
      "Warning message in model.matrix.default(~x - 1, model.frame(~x - 1), contrasts = FALSE):\n",
      "\"non-list contrasts argument ignored\"\n",
      "Warning message in model.matrix.default(~x - 1, model.frame(~x - 1), contrasts = FALSE):\n",
      "\"non-list contrasts argument ignored\"\n",
      "Warning message in model.matrix.default(~x - 1, model.frame(~x - 1), contrasts = FALSE):\n",
      "\"non-list contrasts argument ignored\"\n",
      "Warning message in model.matrix.default(~x - 1, model.frame(~x - 1), contrasts = FALSE):\n",
      "\"non-list contrasts argument ignored\"\n",
      "Warning message in model.matrix.default(~x - 1, model.frame(~x - 1), contrasts = FALSE):\n",
      "\"non-list contrasts argument ignored\"\n",
      "Warning message in model.matrix.default(~x - 1, model.frame(~x - 1), contrasts = FALSE):\n",
      "\"non-list contrasts argument ignored\"\n",
      "Warning message in model.matrix.default(~x - 1, model.frame(~x - 1), contrasts = FALSE):\n",
      "\"non-list contrasts argument ignored\"\n",
      "Warning message in model.matrix.default(~x - 1, model.frame(~x - 1), contrasts = FALSE):\n",
      "\"non-list contrasts argument ignored\"\n",
      "Warning message in model.matrix.default(~x - 1, model.frame(~x - 1), contrasts = FALSE):\n",
      "\"non-list contrasts argument ignored\"\n",
      "Warning message in model.matrix.default(~x - 1, model.frame(~x - 1), contrasts = FALSE):\n",
      "\"non-list contrasts argument ignored\"\n",
      "Warning message in model.matrix.default(~x - 1, model.frame(~x - 1), contrasts = FALSE):\n",
      "\"non-list contrasts argument ignored\"\n",
      "Warning message in model.matrix.default(~x - 1, model.frame(~x - 1), contrasts = FALSE):\n",
      "\"non-list contrasts argument ignored\"\n",
      "Warning message in model.matrix.default(~x - 1, model.frame(~x - 1), contrasts = FALSE):\n",
      "\"non-list contrasts argument ignored\"\n"
     ]
    }
   ],
   "source": [
    "# Convert categorical variables to dummy variables\n",
    "dummy_list <- list()\n",
    "for (v in cat_list) {\n",
    "    # Create dummy variables\n",
    "    tmp <- dummy(v, data=student, sep=\"_\", drop=TRUE)\n",
    "    # Drop the 1st column\n",
    "    tmp <- tmp[, 2:ncol(tmp), drop=FALSE]\n",
    "    # Store the results\n",
    "    dummy_list[[length(dummy_list)+1]] <- tmp\n",
    "}\n",
    "\n",
    "# Combine the dummy variables\n",
    "dummy_df <- do.call(cbind, dummy_list)\n",
    "\n",
    "# Add the dummy variables to the data frame\n",
    "student <- cbind(student, dummy_df)\n",
    "\n",
    "# Drop the original variable\n",
    "student <- student[, !(names(student) %in% cat_list)]"
   ]
  },
  {
   "cell_type": "code",
   "execution_count": 130,
   "metadata": {},
   "outputs": [
    {
     "data": {
      "text/html": [
       "<table class=\"dataframe\">\n",
       "<caption>A data.frame: 6 × 42</caption>\n",
       "<thead>\n",
       "\t<tr><th></th><th scope=col>age</th><th scope=col>Medu</th><th scope=col>Fedu</th><th scope=col>traveltime</th><th scope=col>studytime</th><th scope=col>failures</th><th scope=col>famrel</th><th scope=col>freetime</th><th scope=col>goout</th><th scope=col>Dalc</th><th scope=col>⋯</th><th scope=col>guardian_mother</th><th scope=col>guardian_other</th><th scope=col>schoolsup_yes</th><th scope=col>famsup_yes</th><th scope=col>paid_yes</th><th scope=col>activities_yes</th><th scope=col>nursery_yes</th><th scope=col>higher_yes</th><th scope=col>internet_yes</th><th scope=col>romantic_yes</th></tr>\n",
       "\t<tr><th></th><th scope=col>&lt;int&gt;</th><th scope=col>&lt;int&gt;</th><th scope=col>&lt;int&gt;</th><th scope=col>&lt;int&gt;</th><th scope=col>&lt;int&gt;</th><th scope=col>&lt;int&gt;</th><th scope=col>&lt;int&gt;</th><th scope=col>&lt;int&gt;</th><th scope=col>&lt;int&gt;</th><th scope=col>&lt;int&gt;</th><th scope=col>⋯</th><th scope=col>&lt;int&gt;</th><th scope=col>&lt;int&gt;</th><th scope=col>&lt;int&gt;</th><th scope=col>&lt;int&gt;</th><th scope=col>&lt;int&gt;</th><th scope=col>&lt;int&gt;</th><th scope=col>&lt;int&gt;</th><th scope=col>&lt;int&gt;</th><th scope=col>&lt;int&gt;</th><th scope=col>&lt;int&gt;</th></tr>\n",
       "</thead>\n",
       "<tbody>\n",
       "\t<tr><th scope=row>1</th><td>18</td><td>4</td><td>4</td><td>2</td><td>2</td><td>0</td><td>4</td><td>3</td><td>4</td><td>1</td><td>⋯</td><td>1</td><td>0</td><td>1</td><td>0</td><td>0</td><td>0</td><td>1</td><td>1</td><td>0</td><td>0</td></tr>\n",
       "\t<tr><th scope=row>2</th><td>17</td><td>1</td><td>1</td><td>1</td><td>2</td><td>0</td><td>5</td><td>3</td><td>3</td><td>1</td><td>⋯</td><td>0</td><td>0</td><td>0</td><td>1</td><td>0</td><td>0</td><td>0</td><td>1</td><td>1</td><td>0</td></tr>\n",
       "\t<tr><th scope=row>3</th><td>15</td><td>1</td><td>1</td><td>1</td><td>2</td><td>3</td><td>4</td><td>3</td><td>2</td><td>2</td><td>⋯</td><td>1</td><td>0</td><td>1</td><td>0</td><td>1</td><td>0</td><td>1</td><td>1</td><td>1</td><td>0</td></tr>\n",
       "\t<tr><th scope=row>4</th><td>15</td><td>4</td><td>2</td><td>1</td><td>3</td><td>0</td><td>3</td><td>2</td><td>2</td><td>1</td><td>⋯</td><td>1</td><td>0</td><td>0</td><td>1</td><td>1</td><td>1</td><td>1</td><td>1</td><td>1</td><td>1</td></tr>\n",
       "\t<tr><th scope=row>5</th><td>16</td><td>3</td><td>3</td><td>1</td><td>2</td><td>0</td><td>4</td><td>3</td><td>2</td><td>1</td><td>⋯</td><td>0</td><td>0</td><td>0</td><td>1</td><td>1</td><td>0</td><td>1</td><td>1</td><td>0</td><td>0</td></tr>\n",
       "\t<tr><th scope=row>6</th><td>16</td><td>4</td><td>3</td><td>1</td><td>2</td><td>0</td><td>5</td><td>4</td><td>2</td><td>1</td><td>⋯</td><td>1</td><td>0</td><td>0</td><td>1</td><td>1</td><td>1</td><td>1</td><td>1</td><td>1</td><td>0</td></tr>\n",
       "</tbody>\n",
       "</table>\n"
      ],
      "text/latex": [
       "A data.frame: 6 × 42\n",
       "\\begin{tabular}{r|lllllllllllllllllllll}\n",
       "  & age & Medu & Fedu & traveltime & studytime & failures & famrel & freetime & goout & Dalc & ⋯ & guardian\\_mother & guardian\\_other & schoolsup\\_yes & famsup\\_yes & paid\\_yes & activities\\_yes & nursery\\_yes & higher\\_yes & internet\\_yes & romantic\\_yes\\\\\n",
       "  & <int> & <int> & <int> & <int> & <int> & <int> & <int> & <int> & <int> & <int> & ⋯ & <int> & <int> & <int> & <int> & <int> & <int> & <int> & <int> & <int> & <int>\\\\\n",
       "\\hline\n",
       "\t1 & 18 & 4 & 4 & 2 & 2 & 0 & 4 & 3 & 4 & 1 & ⋯ & 1 & 0 & 1 & 0 & 0 & 0 & 1 & 1 & 0 & 0\\\\\n",
       "\t2 & 17 & 1 & 1 & 1 & 2 & 0 & 5 & 3 & 3 & 1 & ⋯ & 0 & 0 & 0 & 1 & 0 & 0 & 0 & 1 & 1 & 0\\\\\n",
       "\t3 & 15 & 1 & 1 & 1 & 2 & 3 & 4 & 3 & 2 & 2 & ⋯ & 1 & 0 & 1 & 0 & 1 & 0 & 1 & 1 & 1 & 0\\\\\n",
       "\t4 & 15 & 4 & 2 & 1 & 3 & 0 & 3 & 2 & 2 & 1 & ⋯ & 1 & 0 & 0 & 1 & 1 & 1 & 1 & 1 & 1 & 1\\\\\n",
       "\t5 & 16 & 3 & 3 & 1 & 2 & 0 & 4 & 3 & 2 & 1 & ⋯ & 0 & 0 & 0 & 1 & 1 & 0 & 1 & 1 & 0 & 0\\\\\n",
       "\t6 & 16 & 4 & 3 & 1 & 2 & 0 & 5 & 4 & 2 & 1 & ⋯ & 1 & 0 & 0 & 1 & 1 & 1 & 1 & 1 & 1 & 0\\\\\n",
       "\\end{tabular}\n"
      ],
      "text/markdown": [
       "\n",
       "A data.frame: 6 × 42\n",
       "\n",
       "| <!--/--> | age &lt;int&gt; | Medu &lt;int&gt; | Fedu &lt;int&gt; | traveltime &lt;int&gt; | studytime &lt;int&gt; | failures &lt;int&gt; | famrel &lt;int&gt; | freetime &lt;int&gt; | goout &lt;int&gt; | Dalc &lt;int&gt; | ⋯ ⋯ | guardian_mother &lt;int&gt; | guardian_other &lt;int&gt; | schoolsup_yes &lt;int&gt; | famsup_yes &lt;int&gt; | paid_yes &lt;int&gt; | activities_yes &lt;int&gt; | nursery_yes &lt;int&gt; | higher_yes &lt;int&gt; | internet_yes &lt;int&gt; | romantic_yes &lt;int&gt; |\n",
       "|---|---|---|---|---|---|---|---|---|---|---|---|---|---|---|---|---|---|---|---|---|---|\n",
       "| 1 | 18 | 4 | 4 | 2 | 2 | 0 | 4 | 3 | 4 | 1 | ⋯ | 1 | 0 | 1 | 0 | 0 | 0 | 1 | 1 | 0 | 0 |\n",
       "| 2 | 17 | 1 | 1 | 1 | 2 | 0 | 5 | 3 | 3 | 1 | ⋯ | 0 | 0 | 0 | 1 | 0 | 0 | 0 | 1 | 1 | 0 |\n",
       "| 3 | 15 | 1 | 1 | 1 | 2 | 3 | 4 | 3 | 2 | 2 | ⋯ | 1 | 0 | 1 | 0 | 1 | 0 | 1 | 1 | 1 | 0 |\n",
       "| 4 | 15 | 4 | 2 | 1 | 3 | 0 | 3 | 2 | 2 | 1 | ⋯ | 1 | 0 | 0 | 1 | 1 | 1 | 1 | 1 | 1 | 1 |\n",
       "| 5 | 16 | 3 | 3 | 1 | 2 | 0 | 4 | 3 | 2 | 1 | ⋯ | 0 | 0 | 0 | 1 | 1 | 0 | 1 | 1 | 0 | 0 |\n",
       "| 6 | 16 | 4 | 3 | 1 | 2 | 0 | 5 | 4 | 2 | 1 | ⋯ | 1 | 0 | 0 | 1 | 1 | 1 | 1 | 1 | 1 | 0 |\n",
       "\n"
      ],
      "text/plain": [
       "  age Medu Fedu traveltime studytime failures famrel freetime goout Dalc\n",
       "1 18  4    4    2          2         0        4      3        4     1   \n",
       "2 17  1    1    1          2         0        5      3        3     1   \n",
       "3 15  1    1    1          2         3        4      3        2     2   \n",
       "4 15  4    2    1          3         0        3      2        2     1   \n",
       "5 16  3    3    1          2         0        4      3        2     1   \n",
       "6 16  4    3    1          2         0        5      4        2     1   \n",
       "  <U+22EF>        guardian_mother guardian_other schoolsup_yes famsup_yes paid_yes\n",
       "1 <U+22EF> 1               0              1             0          0       \n",
       "2 <U+22EF> 0               0              0             1          0       \n",
       "3 <U+22EF> 1               0              1             0          1       \n",
       "4 <U+22EF> 1               0              0             1          1       \n",
       "5 <U+22EF> 0               0              0             1          1       \n",
       "6 <U+22EF> 1               0              0             1          1       \n",
       "  activities_yes nursery_yes higher_yes internet_yes romantic_yes\n",
       "1 0              1           1          0            0           \n",
       "2 0              0           1          1            0           \n",
       "3 0              1           1          1            0           \n",
       "4 1              1           1          1            1           \n",
       "5 0              1           1          0            0           \n",
       "6 1              1           1          1            0           "
      ]
     },
     "metadata": {},
     "output_type": "display_data"
    }
   ],
   "source": [
    "# Show the final basetable\n",
    "head(student)"
   ]
  },
  {
   "cell_type": "markdown",
   "metadata": {},
   "source": [
    "#### Test Logistic Regression (LogRes) model, 10-fold CV"
   ]
  },
  {
   "cell_type": "code",
   "execution_count": 106,
   "metadata": {},
   "outputs": [
    {
     "name": "stderr",
     "output_type": "stream",
     "text": [
      "Resampling: cross-validation\n",
      "\n",
      "Measures:             auc       \n",
      "\n",
      "Warning message:\n",
      "\"glm.fit: fitted probabilities numerically 0 or 1 occurred\"\n",
      "[Resample] iter 1:    0.9444444 \n",
      "\n",
      "Warning message:\n",
      "\"glm.fit: algorithm did not converge\"\n",
      "Warning message:\n",
      "\"glm.fit: fitted probabilities numerically 0 or 1 occurred\"\n",
      "[Resample] iter 2:    0.8375000 \n",
      "\n",
      "Warning message:\n",
      "\"glm.fit: fitted probabilities numerically 0 or 1 occurred\"\n",
      "[Resample] iter 3:    0.9600000 \n",
      "\n",
      "Warning message:\n",
      "\"glm.fit: algorithm did not converge\"\n",
      "Warning message:\n",
      "\"glm.fit: fitted probabilities numerically 0 or 1 occurred\"\n",
      "[Resample] iter 4:    0.8681319 \n",
      "\n",
      "Warning message:\n",
      "\"glm.fit: algorithm did not converge\"\n",
      "Warning message:\n",
      "\"glm.fit: fitted probabilities numerically 0 or 1 occurred\"\n",
      "[Resample] iter 5:    0.8842593 \n",
      "\n",
      "Warning message:\n",
      "\"glm.fit: fitted probabilities numerically 0 or 1 occurred\"\n",
      "[Resample] iter 6:    0.7666667 \n",
      "\n",
      "Warning message:\n",
      "\"glm.fit: algorithm did not converge\"\n",
      "Warning message:\n",
      "\"glm.fit: fitted probabilities numerically 0 or 1 occurred\"\n",
      "[Resample] iter 7:    0.8913043 \n",
      "\n",
      "Warning message:\n",
      "\"glm.fit: fitted probabilities numerically 0 or 1 occurred\"\n",
      "[Resample] iter 8:    1.0000000 \n",
      "\n",
      "Warning message:\n",
      "\"glm.fit: fitted probabilities numerically 0 or 1 occurred\"\n",
      "[Resample] iter 9:    0.9947917 \n",
      "\n",
      "Warning message:\n",
      "\"glm.fit: algorithm did not converge\"\n",
      "Warning message:\n",
      "\"glm.fit: fitted probabilities numerically 0 or 1 occurred\"\n",
      "[Resample] iter 10:   0.8379630 \n",
      "\n",
      "\n",
      "\n",
      "\n",
      "Aggregated Result: auc.test.mean=0.8985061\n",
      "\n",
      "\n",
      "\n",
      "\n"
     ]
    },
    {
     "data": {
      "text/plain": [
       "Resample Result\n",
       "Task: student\n",
       "Learner: classif.logreg\n",
       "Aggr perf: auc.test.mean=0.8985061\n",
       "Runtime: 0.403921"
      ]
     },
     "metadata": {},
     "output_type": "display_data"
    }
   ],
   "source": [
    "# Set up cross-validation\n",
    "rdesc = makeResampleDesc(\"CV\", iters=10)\n",
    "\n",
    "# Define the model\n",
    "lnr_logreg <- makeLearner(\"classif.logreg\", predict.type=\"prob\", fix.factors.prediction=T)\n",
    "\n",
    "# Define the model\n",
    "task_logreg <- makeClassifTask(id=\"student\", data=student, target=\"pass\")\n",
    "\n",
    "# Run the k-fold CV\n",
    "resample(lnr_logreg, task_logreg, rdesc, measures=list(mlr::auc))"
   ]
  },
  {
   "cell_type": "markdown",
   "metadata": {},
   "source": [
    "**Test Linear Discriminant Analysis (LDA) model, 10-fold CV**"
   ]
  },
  {
   "cell_type": "code",
   "execution_count": 107,
   "metadata": {},
   "outputs": [
    {
     "name": "stderr",
     "output_type": "stream",
     "text": [
      "Resampling: cross-validation\n",
      "\n",
      "Measures:             auc       \n",
      "\n",
      "[Resample] iter 1:    0.9342105 \n",
      "\n",
      "[Resample] iter 2:    0.9082840 \n",
      "\n",
      "[Resample] iter 3:    0.9571429 \n",
      "\n",
      "[Resample] iter 4:    0.9804688 \n",
      "\n",
      "[Resample] iter 5:    0.9780220 \n",
      "\n",
      "[Resample] iter 6:    0.8701299 \n",
      "\n",
      "[Resample] iter 7:    0.9914530 \n",
      "\n",
      "[Resample] iter 8:    0.9544160 \n",
      "\n",
      "[Resample] iter 9:    0.9829060 \n",
      "\n",
      "[Resample] iter 10:   0.9074074 \n",
      "\n",
      "\n",
      "\n",
      "\n",
      "Aggregated Result: auc.test.mean=0.9464440\n",
      "\n",
      "\n",
      "\n",
      "\n"
     ]
    },
    {
     "data": {
      "text/plain": [
       "Resample Result\n",
       "Task: student\n",
       "Learner: classif.lda\n",
       "Aggr perf: auc.test.mean=0.9464440\n",
       "Runtime: 0.287742"
      ]
     },
     "metadata": {},
     "output_type": "display_data"
    }
   ],
   "source": [
    "# Set up cross-validation\n",
    "rdesc = makeResampleDesc(\"CV\", iters=10)\n",
    "\n",
    "# Define the model\n",
    "lnr_lda <- makeLearner(\"classif.lda\", predict.type=\"prob\", fix.factors.prediction=T)\n",
    "\n",
    "# Define the task\n",
    "task_logreg <- makeClassifTask(id=\"student\", data=student, target=\"pass\")\n",
    "\n",
    "# Run the k-fold CV\n",
    "resample(lnr_lda, task_logreg, rdesc, measures=list(mlr::auc))"
   ]
  },
  {
   "cell_type": "markdown",
   "metadata": {},
   "source": [
    "**Test Quadratic Discriminant Analysis (QDA) model, 10-fold CV**"
   ]
  },
  {
   "cell_type": "code",
   "execution_count": 108,
   "metadata": {},
   "outputs": [
    {
     "name": "stderr",
     "output_type": "stream",
     "text": [
      "Resampling: cross-validation\n",
      "\n",
      "Measures:             auc       \n",
      "\n",
      "[Resample] iter 1:    0.9104938 \n",
      "\n",
      "[Resample] iter 2:    0.8066667 \n",
      "\n",
      "[Resample] iter 3:    0.8724138 \n",
      "\n",
      "[Resample] iter 4:    0.9493333 \n",
      "\n",
      "[Resample] iter 5:    0.7633136 \n",
      "\n",
      "[Resample] iter 6:    0.8020833 \n",
      "\n",
      "[Resample] iter 7:    0.8302469 \n",
      "\n",
      "[Resample] iter 8:    0.9085714 \n",
      "\n",
      "[Resample] iter 9:    0.8213333 \n",
      "\n",
      "[Resample] iter 10:   0.7635328 \n",
      "\n",
      "\n",
      "\n",
      "\n",
      "Aggregated Result: auc.test.mean=0.8427989\n",
      "\n",
      "\n",
      "\n",
      "\n"
     ]
    },
    {
     "data": {
      "text/plain": [
       "Resample Result\n",
       "Task: student\n",
       "Learner: classif.qda\n",
       "Aggr perf: auc.test.mean=0.8427989\n",
       "Runtime: 0.226395"
      ]
     },
     "metadata": {},
     "output_type": "display_data"
    }
   ],
   "source": [
    "# Set up cross-validation\n",
    "rdesc = makeResampleDesc(\"CV\", iters=10)\n",
    "\n",
    "# Define the model\n",
    "lnr_qda <- makeLearner(\"classif.qda\", predict.type=\"prob\", fix.factors.prediction=T)\n",
    "\n",
    "# Define the task\n",
    "task_logreg <- makeClassifTask(id=\"student\", data=student, target=\"pass\")\n",
    "\n",
    "# Run the k-fold CV\n",
    "resample(lnr_qda, task_logreg, rdesc, measures=list(mlr::auc))"
   ]
  },
  {
   "cell_type": "markdown",
   "metadata": {},
   "source": [
    "**Test k-Nearest Neighbor (kNN) model, k=1, 10-fold CV**"
   ]
  },
  {
   "cell_type": "code",
   "execution_count": 109,
   "metadata": {},
   "outputs": [
    {
     "name": "stderr",
     "output_type": "stream",
     "text": [
      "Resampling: cross-validation\n",
      "\n",
      "Measures:             auc       \n",
      "\n",
      "[Resample] iter 1:    0.6136364 \n",
      "\n",
      "[Resample] iter 2:    0.6473354 \n",
      "\n",
      "[Resample] iter 3:    0.4531250 \n",
      "\n",
      "[Resample] iter 4:    0.6942935 \n",
      "\n",
      "[Resample] iter 5:    0.6342105 \n",
      "\n",
      "[Resample] iter 6:    0.6333333 \n",
      "\n",
      "[Resample] iter 7:    0.5000000 \n",
      "\n",
      "[Resample] iter 8:    0.5887097 \n",
      "\n",
      "[Resample] iter 9:    0.6487455 \n",
      "\n",
      "[Resample] iter 10:   0.7500000 \n",
      "\n",
      "\n",
      "\n",
      "\n",
      "Aggregated Result: auc.test.mean=0.6163389\n",
      "\n",
      "\n",
      "\n",
      "\n"
     ]
    },
    {
     "data": {
      "text/plain": [
       "Resample Result\n",
       "Task: student\n",
       "Learner: classif.kknn\n",
       "Aggr perf: auc.test.mean=0.6163389\n",
       "Runtime: 0.177523"
      ]
     },
     "metadata": {},
     "output_type": "display_data"
    }
   ],
   "source": [
    "# Set up cross-validation\n",
    "rdesc = makeResampleDesc(\"CV\", iters=10)\n",
    "\n",
    "# Define the model\n",
    "lnr_knn <- makeLearner(\"classif.kknn\", predict.type=\"prob\", fix.factors.prediction=T, k=1)\n",
    "\n",
    "# Define the task\n",
    "task_logreg <- makeClassifTask(id=\"student\", data=student, target=\"pass\")\n",
    "\n",
    "# Run the k-fold CV\n",
    "resample(lnr_knn, task_logreg, rdesc, measures=list(mlr::auc))"
   ]
  },
  {
   "cell_type": "markdown",
   "metadata": {},
   "source": [
    "**Test k-Nearest Neighbor (kNN) model, k=100, 10-fold CV**"
   ]
  },
  {
   "cell_type": "code",
   "execution_count": 110,
   "metadata": {},
   "outputs": [
    {
     "name": "stderr",
     "output_type": "stream",
     "text": [
      "Resampling: cross-validation\n",
      "\n",
      "Measures:             auc       \n",
      "\n",
      "[Resample] iter 1:    0.8717949 \n",
      "\n",
      "[Resample] iter 2:    0.9829060 \n",
      "\n",
      "[Resample] iter 3:    0.9142857 \n",
      "\n",
      "[Resample] iter 4:    0.9202279 \n",
      "\n",
      "[Resample] iter 5:    0.9938272 \n",
      "\n",
      "[Resample] iter 6:    0.8996865 \n",
      "\n",
      "[Resample] iter 7:    0.8858025 \n",
      "\n",
      "[Resample] iter 8:    0.8714286 \n",
      "\n",
      "[Resample] iter 9:    0.7750000 \n",
      "\n",
      "[Resample] iter 10:   0.9829060 \n",
      "\n",
      "\n",
      "\n",
      "\n",
      "Aggregated Result: auc.test.mean=0.9097865\n",
      "\n",
      "\n",
      "\n",
      "\n"
     ]
    },
    {
     "data": {
      "text/plain": [
       "Resample Result\n",
       "Task: student\n",
       "Learner: classif.kknn\n",
       "Aggr perf: auc.test.mean=0.9097865\n",
       "Runtime: 0.2015"
      ]
     },
     "metadata": {},
     "output_type": "display_data"
    }
   ],
   "source": [
    "# Set up cross-validation\n",
    "rdesc = makeResampleDesc(\"CV\", iters=10)\n",
    "\n",
    "# Define the model\n",
    "lnr_knn <- makeLearner(\"classif.kknn\", predict.type=\"prob\", fix.factors.prediction=T, k=100)\n",
    "\n",
    "# Define the task\n",
    "task_logreg <- makeClassifTask(id=\"student\", data=student, target=\"pass\")\n",
    "\n",
    "# Run the k-fold CV\n",
    "resample(lnr_knn, task_logreg, rdesc, measures=list(mlr::auc))"
   ]
  },
  {
   "cell_type": "markdown",
   "metadata": {},
   "source": [
    "#### 3.3. Multinomial classification"
   ]
  },
  {
   "cell_type": "code",
   "execution_count": 111,
   "metadata": {},
   "outputs": [],
   "source": [
    "require(nnet)  # One-vs-All Logistic Regression"
   ]
  },
  {
   "cell_type": "code",
   "execution_count": 131,
   "metadata": {},
   "outputs": [
    {
     "data": {
      "text/plain": [
       "\n",
       "        A        A-         B        B+         C         F \n",
       "10.126582 15.189873  7.848101  7.848101 26.075949 32.911392 "
      ]
     },
     "metadata": {},
     "output_type": "display_data"
    }
   ],
   "source": [
    "# Read the data (again)\n",
    "student_raw <- read.csv('./data/student/student-mat.csv', sep=';')\n",
    "\n",
    "# Bin target variable into group\n",
    "# Refs: http://www.canada.campusfrance.org/en/faq/french-grading-system-same-canadian-system\n",
    "\n",
    "student_raw$final_grade <- 'F'\n",
    "student_raw[student_raw$G3 >= 10 & student_raw$G3 <= 11.9, 'final_grade'] <- 'C'\n",
    "student_raw[student_raw$G3 >= 12 & student_raw$G3 <= 12.9, 'final_grade'] <- 'B'\n",
    "student_raw[student_raw$G3 >= 13 & student_raw$G3 <= 13.9, 'final_grade'] <- 'B+'\n",
    "student_raw[student_raw$G3 >= 14 & student_raw$G3 <= 15.9, 'final_grade'] <- 'A-'\n",
    "student_raw[student_raw$G3 >= 16 & student_raw$G3 <= 20, 'final_grade'] <- 'A'\n",
    "\n",
    "# Print out the class distribution (in percentage)\n",
    "table(student_raw$final_grade)/nrow(student) * 100\n",
    "\n",
    "# Assign the new target variable to the basetable\n",
    "student$final_grade <- student_raw$final_grade\n",
    "student$pass <- NULL"
   ]
  },
  {
   "cell_type": "code",
   "execution_count": 132,
   "metadata": {},
   "outputs": [
    {
     "data": {
      "image/png": "[encoded data removed]",
      "text/plain": [
       "plot without title"
      ]
     },
     "metadata": {
      "image/png": {
       "height": 480,
       "width": 480
      }
     },
     "output_type": "display_data"
    }
   ],
   "source": [
    "# Víualize the data\n",
    "options(repr.plot.width=8, repr.plot.height=8)\n",
    "barplot(table(student$final_grade))"
   ]
  },
  {
   "cell_type": "code",
   "execution_count": 121,
   "metadata": {},
   "outputs": [],
   "source": [
    "# Drop the numeric target variable\n",
    "# student$G3 <- NULL"
   ]
  },
  {
   "cell_type": "markdown",
   "metadata": {},
   "source": [
    "**Test One-vs-All Logistic Regression (LogRes) model, 10-fold CV**"
   ]
  },
  {
   "cell_type": "code",
   "execution_count": 133,
   "metadata": {},
   "outputs": [
    {
     "name": "stderr",
     "output_type": "stream",
     "text": [
      "Resampling: cross-validation\n",
      "\n",
      "Measures:             acc       \n",
      "\n"
     ]
    },
    {
     "name": "stdout",
     "output_type": "stream",
     "text": [
      "# weights:  258 (210 variable)\n",
      "initial  value 637.866371 \n",
      "iter  10 value 398.074710\n",
      "iter  20 value 317.379755\n",
      "iter  30 value 230.540723\n",
      "iter  40 value 179.837042\n",
      "iter  50 value 122.222210\n",
      "iter  60 value 77.524889\n",
      "iter  70 value 49.110583\n",
      "iter  80 value 28.329407\n",
      "iter  90 value 19.941669\n",
      "iter 100 value 11.491829\n",
      "final  value 11.491829 \n",
      "stopped after 100 iterations\n"
     ]
    },
    {
     "name": "stderr",
     "output_type": "stream",
     "text": [
      "[Resample] iter 1:    0.6410256 \n",
      "\n"
     ]
    },
    {
     "name": "stdout",
     "output_type": "stream",
     "text": [
      "# weights:  258 (210 variable)\n",
      "initial  value 636.074612 \n",
      "iter  10 value 432.065160\n",
      "iter  20 value 311.989641\n",
      "iter  30 value 233.963332\n",
      "iter  40 value 184.362178\n",
      "iter  50 value 128.115559\n",
      "iter  60 value 88.314887\n",
      "iter  70 value 58.594379\n",
      "iter  80 value 47.102904\n",
      "iter  90 value 41.931171\n",
      "iter 100 value 37.116205\n",
      "final  value 37.116205 \n",
      "stopped after 100 iterations\n"
     ]
    },
    {
     "name": "stderr",
     "output_type": "stream",
     "text": [
      "[Resample] iter 2:    0.7250000 \n",
      "\n"
     ]
    },
    {
     "name": "stdout",
     "output_type": "stream",
     "text": [
      "# weights:  258 (210 variable)\n",
      "initial  value 636.074612 \n",
      "iter  10 value 388.259717\n",
      "iter  20 value 324.681694\n",
      "iter  30 value 234.328229\n",
      "iter  40 value 175.587276\n",
      "iter  50 value 119.077609\n",
      "iter  60 value 69.873968\n",
      "iter  70 value 42.025182\n",
      "iter  80 value 31.290063\n",
      "iter  90 value 27.488528\n",
      "iter 100 value 25.468041\n",
      "final  value 25.468041 \n",
      "stopped after 100 iterations\n"
     ]
    },
    {
     "name": "stderr",
     "output_type": "stream",
     "text": [
      "[Resample] iter 3:    0.6500000 \n",
      "\n"
     ]
    },
    {
     "name": "stdout",
     "output_type": "stream",
     "text": [
      "# weights:  258 (210 variable)\n",
      "initial  value 637.866371 \n",
      "iter  10 value 404.773326\n",
      "iter  20 value 323.413307\n",
      "iter  30 value 230.492817\n",
      "iter  40 value 175.587049\n",
      "iter  50 value 104.296531\n",
      "iter  60 value 56.571263\n",
      "iter  70 value 5.064497\n",
      "iter  80 value 0.011350\n",
      "final  value 0.000086 \n",
      "converged\n"
     ]
    },
    {
     "name": "stderr",
     "output_type": "stream",
     "text": [
      "[Resample] iter 4:    0.5128205 \n",
      "\n"
     ]
    },
    {
     "name": "stdout",
     "output_type": "stream",
     "text": [
      "# weights:  258 (210 variable)\n",
      "initial  value 637.866371 \n",
      "iter  10 value 433.355247\n",
      "iter  20 value 320.403063\n",
      "iter  30 value 225.669891\n",
      "iter  40 value 178.049737\n",
      "iter  50 value 121.003843\n",
      "iter  60 value 76.822783\n",
      "iter  70 value 50.136879\n",
      "iter  80 value 36.084783\n",
      "iter  90 value 26.465155\n",
      "iter 100 value 23.032633\n",
      "final  value 23.032633 \n",
      "stopped after 100 iterations\n"
     ]
    },
    {
     "name": "stderr",
     "output_type": "stream",
     "text": [
      "[Resample] iter 5:    0.5641026 \n",
      "\n"
     ]
    },
    {
     "name": "stdout",
     "output_type": "stream",
     "text": [
      "# weights:  258 (210 variable)\n",
      "initial  value 636.074612 \n",
      "iter  10 value 410.514064\n",
      "iter  20 value 313.193805\n",
      "iter  30 value 237.983743\n",
      "iter  40 value 183.533494\n",
      "iter  50 value 123.237658\n",
      "iter  60 value 85.382142\n",
      "iter  70 value 59.319376\n",
      "iter  80 value 46.109808\n",
      "iter  90 value 35.285693\n",
      "iter 100 value 29.375780\n",
      "final  value 29.375780 \n",
      "stopped after 100 iterations\n"
     ]
    },
    {
     "name": "stderr",
     "output_type": "stream",
     "text": [
      "[Resample] iter 6:    0.6000000 \n",
      "\n"
     ]
    },
    {
     "name": "stdout",
     "output_type": "stream",
     "text": [
      "# weights:  258 (210 variable)\n",
      "initial  value 637.866371 \n",
      "iter  10 value 415.111132\n",
      "iter  20 value 330.979034\n",
      "iter  30 value 248.726903\n",
      "iter  40 value 194.388566\n",
      "iter  50 value 129.132458\n",
      "iter  60 value 82.484178\n",
      "iter  70 value 32.111678\n",
      "iter  80 value 0.390820\n",
      "iter  90 value 0.000968\n",
      "final  value 0.000051 \n",
      "converged\n"
     ]
    },
    {
     "name": "stderr",
     "output_type": "stream",
     "text": [
      "[Resample] iter 7:    0.7179487 \n",
      "\n"
     ]
    },
    {
     "name": "stdout",
     "output_type": "stream",
     "text": [
      "# weights:  258 (210 variable)\n",
      "initial  value 636.074612 \n",
      "iter  10 value 388.305512\n",
      "iter  20 value 322.964458\n",
      "iter  30 value 229.651493\n",
      "iter  40 value 172.157420\n",
      "iter  50 value 107.324949\n",
      "iter  60 value 58.200983\n",
      "iter  70 value 31.777692\n",
      "iter  80 value 23.839929\n",
      "iter  90 value 20.369894\n",
      "iter 100 value 18.978707\n",
      "final  value 18.978707 \n",
      "stopped after 100 iterations\n"
     ]
    },
    {
     "name": "stderr",
     "output_type": "stream",
     "text": [
      "[Resample] iter 8:    0.5000000 \n",
      "\n"
     ]
    },
    {
     "name": "stdout",
     "output_type": "stream",
     "text": [
      "# weights:  258 (210 variable)\n",
      "initial  value 637.866371 \n",
      "iter  10 value 400.211655\n",
      "iter  20 value 315.506144\n",
      "iter  30 value 238.526754\n",
      "iter  40 value 178.769282\n",
      "iter  50 value 115.773689\n",
      "iter  60 value 79.531290\n",
      "iter  70 value 55.103380\n",
      "iter  80 value 42.286764\n",
      "iter  90 value 35.583602\n",
      "iter 100 value 31.598245\n",
      "final  value 31.598245 \n",
      "stopped after 100 iterations\n"
     ]
    },
    {
     "name": "stderr",
     "output_type": "stream",
     "text": [
      "[Resample] iter 9:    0.6923077 \n",
      "\n"
     ]
    },
    {
     "name": "stdout",
     "output_type": "stream",
     "text": [
      "# weights:  258 (210 variable)\n",
      "initial  value 636.074612 \n",
      "iter  10 value 395.352574\n",
      "iter  20 value 324.632040\n",
      "iter  30 value 240.930218\n",
      "iter  40 value 187.460241\n",
      "iter  50 value 118.968039\n",
      "iter  60 value 75.945963\n",
      "iter  70 value 35.349380\n",
      "iter  80 value 12.719632\n",
      "iter  90 value 2.173484\n",
      "iter 100 value 0.013541\n",
      "final  value 0.013541 \n",
      "stopped after 100 iterations\n"
     ]
    },
    {
     "name": "stderr",
     "output_type": "stream",
     "text": [
      "[Resample] iter 10:   0.6000000 \n",
      "\n",
      "\n",
      "\n",
      "\n",
      "Aggregated Result: acc.test.mean=0.6203205\n",
      "\n",
      "\n",
      "\n",
      "\n"
     ]
    },
    {
     "data": {
      "text/plain": [
       "Resample Result\n",
       "Task: student\n",
       "Learner: classif.multinom\n",
       "Aggr perf: acc.test.mean=0.6203205\n",
       "Runtime: 1.22338"
      ]
     },
     "metadata": {},
     "output_type": "display_data"
    }
   ],
   "source": [
    "# Set up cross-validation\n",
    "rdesc = makeResampleDesc(\"CV\", iters=10)\n",
    "\n",
    "# Define the model\n",
    "lnr_logreg <- makeLearner(\"classif.multinom\", predict.type=\"prob\", fix.factors.prediction=T)\n",
    "\n",
    "# Define the task\n",
    "task_logreg <- makeClassifTask(id=\"student\", data=student, target=\"final_grade\")\n",
    "\n",
    "# Run the k-fold CV\n",
    "resample(lnr_logreg, task_logreg, rdesc, measures=list(mlr::acc))"
   ]
  },
  {
   "cell_type": "markdown",
   "metadata": {},
   "source": [
    "#### Test Linear Discriminant Analysis (LDA) model, 10-fold CV"
   ]
  },
  {
   "cell_type": "code",
   "execution_count": 134,
   "metadata": {},
   "outputs": [
    {
     "name": "stderr",
     "output_type": "stream",
     "text": [
      "Resampling: cross-validation\n",
      "\n",
      "Measures:             acc       \n",
      "\n",
      "[Resample] iter 1:    0.7250000 \n",
      "\n",
      "[Resample] iter 2:    0.7750000 \n",
      "\n",
      "[Resample] iter 3:    0.5641026 \n",
      "\n",
      "[Resample] iter 4:    0.4871795 \n",
      "\n",
      "[Resample] iter 5:    0.5384615 \n",
      "\n",
      "[Resample] iter 6:    0.5000000 \n",
      "\n",
      "[Resample] iter 7:    0.4750000 \n",
      "\n",
      "[Resample] iter 8:    0.6153846 \n",
      "\n",
      "[Resample] iter 9:    0.5641026 \n",
      "\n",
      "[Resample] iter 10:   0.8250000 \n",
      "\n",
      "\n",
      "\n",
      "\n",
      "Aggregated Result: acc.test.mean=0.6069231\n",
      "\n",
      "\n",
      "\n",
      "\n"
     ]
    },
    {
     "data": {
      "text/plain": [
       "Resample Result\n",
       "Task: student\n",
       "Learner: classif.lda\n",
       "Aggr perf: acc.test.mean=0.6069231\n",
       "Runtime: 0.268191"
      ]
     },
     "metadata": {},
     "output_type": "display_data"
    }
   ],
   "source": [
    "# Set up cross-validation\n",
    "rdesc = makeResampleDesc(\"CV\", iters=10)\n",
    "\n",
    "# Define the model\n",
    "lnr_lda <- makeLearner(\"classif.lda\", predict.type=\"prob\", fix.factors.prediction=T)\n",
    "\n",
    "# Define the task\n",
    "task_logreg <- makeClassifTask(id=\"student\", data=student, target=\"final_grade\")\n",
    "\n",
    "# Run the k-fold CV\n",
    "resample(lnr_lda, task_logreg, rdesc, measures=list(mlr::acc))"
   ]
  },
  {
   "cell_type": "markdown",
   "metadata": {},
   "source": [
    "**Test Quadratic Discriminant Analysis (QDA) model, 10-fold CV**"
   ]
  },
  {
   "cell_type": "code",
   "execution_count": 135,
   "metadata": {},
   "outputs": [
    {
     "name": "stderr",
     "output_type": "stream",
     "text": [
      "Resampling: cross-validation\n",
      "\n",
      "Measures:             acc       \n",
      "\n"
     ]
    },
    {
     "ename": "ERROR",
     "evalue": "Error in qda.default(x, grouping, ...): some group is too small for 'qda'\n",
     "output_type": "error",
     "traceback": [
      "Error in qda.default(x, grouping, ...): some group is too small for 'qda'\nTraceback:\n",
      "1. resample(lnr_qda, task_logreg, rdesc, measures = list(mlr::acc))",
      "2. parallelMap(doResampleIteration, seq_len(rin$desc$iters), level = \"mlr.resample\", \n .     more.args = more.args)",
      "3. mapply(fun2, ..., MoreArgs = more.args, SIMPLIFY = FALSE, USE.NAMES = FALSE)",
      "4. (function (learner, task, rin, i, measures, weights, model, extract, \n .     show.info) \n . {\n .     setSlaveOptions()\n .     train.i = rin$train.inds[[i]]\n .     test.i = rin$test.inds[[i]]\n .     calculateResampleIterationResult(learner = learner, task = task, \n .         i = i, train.i = train.i, test.i = test.i, measures = measures, \n .         weights = weights, rdesc = rin$desc, model = model, extract = extract, \n .         show.info = show.info)\n . })(dots[[1L]][[1L]], learner = structure(list(id = \"classif.qda\", \n .     type = \"classif\", package = \"MASS\", properties = c(\"twoclass\", \n .     \"multiclass\", \"numerics\", \"factors\", \"prob\"), par.set = structure(list(\n .         pars = list(method = structure(list(id = \"method\", type = \"discrete\", \n .             len = 1L, lower = NULL, upper = NULL, values = list(\n .                 moment = \"moment\", mle = \"mle\", mve = \"mve\", \n .                 t = \"t\"), cnames = NULL, allow.inf = FALSE, has.default = TRUE, \n .             default = \"moment\", trafo = NULL, requires = NULL, \n .             tunable = TRUE, special.vals = list(), when = \"train\"), class = c(\"LearnerParam\", \n .         \"Param\")), nu = structure(list(id = \"nu\", type = \"numeric\", \n .             len = 1L, lower = 2, upper = Inf, values = NULL, \n .             cnames = NULL, allow.inf = FALSE, has.default = TRUE, \n .             default = 5, trafo = NULL, requires = method == \"t\", \n .             tunable = TRUE, special.vals = list(), when = \"train\"), class = c(\"LearnerParam\", \n .         \"Param\")), predict.method = structure(list(id = \"predict.method\", \n .             type = \"discrete\", len = 1L, lower = NULL, upper = NULL, \n .             values = list(`plug-in` = \"plug-in\", predictive = \"predictive\", \n .                 debiased = \"debiased\"), cnames = NULL, allow.inf = FALSE, \n .             has.default = TRUE, default = \"plug-in\", trafo = NULL, \n .             requires = NULL, tunable = TRUE, special.vals = list(), \n .             when = \"predict\"), class = c(\"LearnerParam\", \"Param\"\n .         ))), forbidden = NULL), class = c(\"LearnerParamSet\", \n .     \"ParamSet\")), par.vals = structure(list(), .Names = character(0)), \n .     predict.type = \"prob\", cache = FALSE, name = \"Quadratic Discriminant Analysis\", \n .     short.name = \"qda\", note = \"Learner parameter `predict.method` maps to `method` in `predict.qda`.\", \n .     callees = c(\"qda\", \"predict.qda\"), help.list = list(method = \"Argument of: MASS::qda\\n\\n\\\"moment\\\" for standard estimators of the mean and variance, \\\"mle\\\" for MLEs, \\\"mve\\\" to use cov.mve, or \\\"t\\\" for robust estimates based on a t distribution.\", \n .         nu = \"Argument of: MASS::qda\\n\\ndegrees of freedom for method = \\\"t\\\".\"), \n .     config = list(), fix.factors.prediction = TRUE), class = c(\"classif.qda\", \n . \"RLearnerClassif\", \"RLearner\", \"Learner\")), task = structure(list(\n .     type = \"classif\", env = <environment>, weights = NULL, blocking = NULL, \n .     coordinates = NULL, task.desc = structure(list(id = \"student\", \n .         type = \"classif\", target = \"final_grade\", size = 395L, \n .         n.feat = c(numerics = 41L, factors = 0L, ordered = 0L, \n .         functionals = 0L), has.missings = FALSE, has.weights = FALSE, \n .         has.blocking = FALSE, has.coordinates = FALSE, class.levels = c(\"A\", \n .         \"A-\", \"B\", \"B+\", \"C\", \"F\"), positive = NA_character_, \n .         negative = NA_character_, class.distribution = structure(c(A = 40L, \n .         `A-` = 60L, B = 31L, `B+` = 31L, C = 103L, F = 130L), .Dim = 6L, .Dimnames = structure(list(\n .             c(\"A\", \"A-\", \"B\", \"B+\", \"C\", \"F\")), .Names = \"\"), class = \"table\")), class = c(\"ClassifTaskDesc\", \n .     \"SupervisedTaskDesc\", \"TaskDesc\"))), class = c(\"ClassifTask\", \n . \"SupervisedTask\", \"Task\")), rin = structure(list(desc = structure(list(\n .     fixed = FALSE, blocking.cv = FALSE, id = \"cross-validation\", \n .     iters = 10L, predict = \"test\", stratify = FALSE), class = c(\"CVDesc\", \n . \"ResampleDesc\")), size = 395L, train.inds = list(c(186L, 284L, \n . 249L, 358L, 212L, 387L, 395L, 158L, 391L, 96L, 72L, 81L, 46L, \n . 165L, 283L, 360L, 245L, 237L, 386L, 329L, 100L, 322L, 157L, 118L, \n . 221L, 215L, 389L, 338L, 375L, 279L, 94L, 305L, 63L, 390L, 150L, \n . 114L, 250L, 156L, 301L, 193L, 134L, 53L, 388L, 355L, 183L, 2L, \n . 64L, 206L, 225L, 357L, 333L, 273L, 286L, 176L, 372L, 393L, 335L, \n . 233L, 309L, 184L, 365L, 362L, 106L, 76L, 26L, 312L, 171L, 255L, \n . 254L, 319L, 123L, 394L, 287L, 35L, 57L, 227L, 101L, 361L, 304L, \n . 297L, 90L, 172L, 288L, 160L, 266L, 328L, 261L, 381L, 148L, 14L, \n . 253L, 139L, 232L, 352L, 339L, 20L, 78L, 257L, 17L, 239L, 84L, \n . 116L, 89L, 209L, 308L, 202L, 11L, 274L, 214L, 22L, 3L, 311L, \n . 68L, 256L, 37L, 327L, 367L, 181L, 198L, 296L, 117L, 242L, 298L, \n . 323L, 70L, 369L, 199L, 317L, 51L, 170L, 91L, 321L, 374L, 285L, \n . 228L, 1L, 270L, 61L, 195L, 354L, 24L, 264L, 234L, 324L, 282L, \n . 330L, 243L, 314L, 62L, 136L, 175L, 168L, 179L, 103L, 348L, 230L, \n . 18L, 343L, 69L, 260L, 226L, 59L, 300L, 173L, 368L, 197L, 58L, \n . 163L, 207L, 336L, 292L, 98L, 281L, 359L, 218L, 178L, 19L, 204L, \n . 83L, 347L, 177L, 77L, 231L, 71L, 213L, 182L, 188L, 33L, 52L, \n . 208L, 295L, 115L, 370L, 247L, 126L, 155L, 196L, 320L, 8L, 29L, \n . 180L, 222L, 267L, 341L, 153L, 60L, 373L, 265L, 223L, 104L, 28L, \n . 244L, 23L, 95L, 278L, 379L, 201L, 132L, 122L, 27L, 56L, 313L, \n . 154L, 54L, 334L, 145L, 105L, 289L, 127L, 331L, 291L, 240L, 271L, \n . 124L, 187L, 366L, 161L, 140L, 251L, 376L, 75L, 303L, 82L, 263L, \n . 32L, 316L, 108L, 159L, 143L, 378L, 43L, 169L, 110L, 16L, 272L, \n . 205L, 131L, 5L, 144L, 6L, 315L, 149L, 345L, 47L, 241L, 151L, \n . 135L, 80L, 25L, 88L, 99L, 238L, 44L, 268L, 109L, 275L, 41L, 200L, \n . 385L, 142L, 210L, 113L, 383L, 326L, 125L, 4L, 10L, 79L, 392L, \n . 7L, 15L, 344L, 141L, 129L, 40L, 262L, 31L, 146L, 102L, 340L, \n . 167L, 246L, 128L, 45L, 356L, 162L, 36L, 34L, 384L, 293L, 191L, \n . 371L, 349L, 269L, 137L, 294L, 342L, 120L, 152L, 229L, 252L, 130L, \n . 276L, 346L, 39L, 302L, 364L, 92L, 21L, 185L, 220L, 217L, 9L, \n . 306L, 299L, 353L, 277L, 73L, 38L, 280L, 55L, 119L, 248L, 30L, \n . 13L, 189L, 121L, 12L, 49L, 258L, 166L, 74L, 290L, 192L, 194L, \n . 138L), c(186L, 284L, 249L, 358L, 212L, 387L, 395L, 158L, 391L, \n . 96L, 72L, 81L, 46L, 165L, 283L, 360L, 245L, 237L, 386L, 190L, \n . 329L, 100L, 112L, 259L, 322L, 157L, 118L, 221L, 215L, 389L, 42L, \n . 338L, 375L, 279L, 94L, 305L, 63L, 390L, 48L, 219L, 150L, 114L, \n . 250L, 156L, 301L, 53L, 388L, 355L, 183L, 2L, 64L, 206L, 225L, \n . 357L, 333L, 273L, 286L, 176L, 372L, 393L, 335L, 233L, 97L, 184L, \n . 365L, 362L, 106L, 76L, 26L, 312L, 171L, 255L, 254L, 319L, 123L, \n . 337L, 394L, 287L, 35L, 57L, 227L, 101L, 361L, 304L, 297L, 90L, \n . 172L, 160L, 266L, 50L, 325L, 328L, 261L, 381L, 148L, 14L, 216L, \n . 253L, 139L, 232L, 352L, 20L, 78L, 17L, 239L, 84L, 116L, 89L, \n . 209L, 308L, 202L, 11L, 111L, 274L, 214L, 22L, 3L, 68L, 256L, \n . 85L, 327L, 164L, 367L, 181L, 198L, 296L, 174L, 67L, 242L, 211L, \n . 298L, 323L, 70L, 369L, 199L, 317L, 51L, 170L, 91L, 363L, 321L, \n . 374L, 285L, 228L, 1L, 270L, 61L, 195L, 354L, 24L, 264L, 310L, \n . 282L, 330L, 243L, 66L, 62L, 136L, 175L, 168L, 179L, 103L, 236L, \n . 230L, 318L, 343L, 69L, 260L, 226L, 59L, 300L, 173L, 368L, 197L, \n . 58L, 163L, 87L, 336L, 292L, 98L, 281L, 359L, 218L, 178L, 19L, \n . 204L, 83L, 177L, 77L, 231L, 71L, 213L, 182L, 188L, 33L, 52L, \n . 208L, 295L, 115L, 370L, 247L, 126L, 155L, 196L, 320L, 8L, 29L, \n . 180L, 222L, 267L, 341L, 153L, 224L, 373L, 265L, 223L, 104L, 95L, \n . 278L, 350L, 201L, 132L, 122L, 27L, 56L, 313L, 154L, 54L, 86L, \n . 145L, 133L, 380L, 105L, 289L, 127L, 331L, 291L, 307L, 240L, 271L, \n . 124L, 161L, 140L, 251L, 75L, 303L, 82L, 263L, 316L, 108L, 159L, \n . 143L, 378L, 43L, 169L, 110L, 272L, 205L, 131L, 5L, 144L, 315L, \n . 149L, 345L, 47L, 241L, 151L, 135L, 80L, 25L, 235L, 88L, 238L, \n . 44L, 268L, 109L, 275L, 41L, 200L, 385L, 142L, 210L, 383L, 326L, \n . 377L, 125L, 4L, 10L, 79L, 392L, 7L, 15L, 344L, 141L, 93L, 129L, \n . 40L, 262L, 146L, 102L, 167L, 246L, 128L, 45L, 356L, 36L, 65L, \n . 384L, 293L, 371L, 349L, 269L, 137L, 294L, 107L, 342L, 120L, 152L, \n . 229L, 252L, 130L, 276L, 346L, 39L, 302L, 364L, 203L, 332L, 92L, \n . 185L, 147L, 220L, 382L, 217L, 9L, 306L, 299L, 353L, 277L, 73L, \n . 38L, 280L, 55L, 119L, 248L, 30L, 13L, 121L, 12L, 49L, 258L, 166L, \n . 290L, 351L, 194L, 138L), c(186L, 249L, 358L, 387L, 395L, 391L, \n . 96L, 72L, 81L, 46L, 165L, 283L, 360L, 245L, 237L, 386L, 190L, \n . 329L, 100L, 112L, 259L, 322L, 157L, 221L, 215L, 389L, 42L, 279L, \n . 94L, 305L, 48L, 219L, 150L, 250L, 156L, 301L, 193L, 134L, 53L, \n . 388L, 355L, 183L, 2L, 64L, 206L, 225L, 357L, 333L, 273L, 286L, \n . 176L, 372L, 393L, 335L, 233L, 97L, 309L, 184L, 365L, 362L, 106L, \n . 76L, 26L, 312L, 171L, 255L, 254L, 319L, 123L, 337L, 394L, 287L, \n . 35L, 57L, 227L, 101L, 361L, 304L, 297L, 90L, 172L, 288L, 160L, \n . 266L, 50L, 325L, 328L, 261L, 381L, 148L, 14L, 216L, 253L, 139L, \n . 232L, 352L, 339L, 20L, 257L, 17L, 239L, 84L, 116L, 89L, 209L, \n . 308L, 202L, 11L, 111L, 274L, 214L, 22L, 3L, 311L, 68L, 256L, \n . 85L, 37L, 327L, 164L, 367L, 181L, 198L, 296L, 174L, 117L, 67L, \n . 211L, 323L, 70L, 369L, 199L, 317L, 51L, 170L, 91L, 363L, 321L, \n . 374L, 285L, 228L, 1L, 270L, 61L, 195L, 354L, 24L, 264L, 234L, \n . 310L, 324L, 282L, 330L, 243L, 66L, 314L, 62L, 136L, 175L, 168L, \n . 103L, 348L, 236L, 230L, 318L, 18L, 69L, 260L, 226L, 59L, 173L, \n . 197L, 163L, 87L, 207L, 336L, 292L, 98L, 359L, 218L, 178L, 204L, \n . 347L, 177L, 77L, 231L, 71L, 213L, 182L, 188L, 52L, 208L, 295L, \n . 370L, 247L, 126L, 155L, 196L, 320L, 8L, 29L, 180L, 341L, 153L, \n . 60L, 224L, 373L, 265L, 223L, 104L, 28L, 244L, 23L, 95L, 278L, \n . 379L, 350L, 201L, 132L, 122L, 27L, 56L, 313L, 54L, 86L, 334L, \n . 145L, 133L, 380L, 105L, 289L, 127L, 331L, 291L, 307L, 240L, 271L, \n . 124L, 187L, 366L, 161L, 140L, 251L, 376L, 303L, 82L, 263L, 32L, \n . 316L, 108L, 159L, 143L, 378L, 43L, 169L, 110L, 16L, 272L, 205L, \n . 144L, 6L, 315L, 149L, 345L, 47L, 241L, 151L, 80L, 25L, 235L, \n . 88L, 99L, 238L, 44L, 268L, 109L, 275L, 41L, 200L, 385L, 142L, \n . 210L, 113L, 383L, 326L, 377L, 125L, 4L, 10L, 79L, 392L, 7L, 15L, \n . 344L, 141L, 93L, 40L, 262L, 31L, 146L, 102L, 340L, 167L, 45L, \n . 356L, 162L, 34L, 65L, 384L, 293L, 191L, 371L, 349L, 269L, 137L, \n . 294L, 107L, 342L, 120L, 152L, 229L, 252L, 130L, 276L, 346L, 39L, \n . 302L, 203L, 332L, 92L, 21L, 147L, 220L, 382L, 217L, 9L, 306L, \n . 353L, 73L, 280L, 55L, 119L, 248L, 30L, 13L, 189L, 121L, 49L, \n . 258L, 166L, 74L, 290L, 351L, 192L, 194L, 138L), c(186L, 284L, \n . 358L, 212L, 387L, 395L, 158L, 391L, 96L, 72L, 81L, 46L, 165L, \n . 283L, 360L, 245L, 190L, 329L, 100L, 112L, 259L, 322L, 157L, 118L, \n . 221L, 215L, 389L, 42L, 338L, 375L, 279L, 94L, 305L, 63L, 390L, \n . 48L, 219L, 150L, 114L, 250L, 156L, 301L, 193L, 134L, 53L, 388L, \n . 355L, 183L, 2L, 64L, 206L, 225L, 357L, 333L, 273L, 286L, 176L, \n . 372L, 393L, 335L, 233L, 97L, 309L, 184L, 365L, 362L, 106L, 76L, \n . 26L, 312L, 171L, 255L, 254L, 337L, 394L, 287L, 35L, 57L, 227L, \n . 101L, 361L, 304L, 297L, 90L, 288L, 266L, 50L, 325L, 328L, 261L, \n . 148L, 14L, 216L, 253L, 139L, 232L, 352L, 339L, 20L, 78L, 257L, \n . 17L, 239L, 84L, 116L, 89L, 308L, 202L, 11L, 111L, 274L, 214L, \n . 22L, 3L, 311L, 68L, 256L, 85L, 37L, 164L, 198L, 296L, 174L, 117L, \n . 67L, 242L, 211L, 298L, 323L, 369L, 199L, 317L, 51L, 170L, 91L, \n . 363L, 374L, 285L, 228L, 270L, 195L, 354L, 24L, 264L, 234L, 310L, \n . 324L, 282L, 330L, 66L, 314L, 136L, 168L, 179L, 103L, 348L, 236L, \n . 230L, 318L, 18L, 343L, 69L, 260L, 226L, 300L, 173L, 368L, 197L, \n . 58L, 163L, 87L, 207L, 336L, 292L, 98L, 281L, 218L, 178L, 19L, \n . 204L, 83L, 347L, 177L, 77L, 231L, 71L, 213L, 33L, 52L, 208L, \n . 295L, 115L, 370L, 247L, 126L, 155L, 196L, 320L, 8L, 29L, 180L, \n . 222L, 267L, 341L, 153L, 60L, 224L, 373L, 265L, 104L, 28L, 244L, \n . 23L, 95L, 278L, 379L, 350L, 201L, 132L, 122L, 27L, 56L, 313L, \n . 154L, 54L, 86L, 334L, 145L, 133L, 380L, 105L, 289L, 331L, 291L, \n . 307L, 240L, 271L, 124L, 187L, 366L, 140L, 251L, 376L, 75L, 82L, \n . 263L, 32L, 316L, 108L, 159L, 378L, 43L, 169L, 110L, 16L, 272L, \n . 205L, 131L, 5L, 144L, 6L, 315L, 345L, 47L, 151L, 135L, 80L, 25L, \n . 235L, 88L, 99L, 44L, 268L, 109L, 41L, 200L, 385L, 210L, 113L, \n . 383L, 326L, 377L, 125L, 4L, 10L, 79L, 392L, 7L, 15L, 344L, 141L, \n . 93L, 129L, 40L, 262L, 31L, 146L, 102L, 340L, 167L, 246L, 128L, \n . 45L, 356L, 162L, 36L, 34L, 65L, 384L, 293L, 191L, 371L, 349L, \n . 269L, 294L, 107L, 342L, 120L, 229L, 252L, 130L, 276L, 346L, 39L, \n . 302L, 364L, 203L, 332L, 92L, 21L, 185L, 147L, 220L, 382L, 217L, \n . 9L, 306L, 299L, 353L, 277L, 73L, 38L, 280L, 55L, 119L, 30L, 13L, \n . 189L, 121L, 12L, 258L, 74L, 351L, 192L, 194L, 138L), c(186L, \n . 284L, 249L, 212L, 387L, 158L, 391L, 96L, 72L, 81L, 46L, 165L, \n . 283L, 360L, 245L, 237L, 386L, 190L, 329L, 112L, 259L, 322L, 157L, \n . 118L, 215L, 389L, 42L, 338L, 375L, 279L, 94L, 305L, 63L, 390L, \n . 48L, 219L, 150L, 114L, 156L, 301L, 193L, 134L, 53L, 388L, 355L, \n . 183L, 2L, 64L, 206L, 225L, 357L, 333L, 273L, 286L, 372L, 393L, \n . 335L, 97L, 309L, 184L, 365L, 362L, 106L, 76L, 26L, 312L, 171L, \n . 255L, 254L, 319L, 123L, 337L, 394L, 287L, 57L, 227L, 101L, 361L, \n . 304L, 297L, 90L, 172L, 288L, 160L, 266L, 50L, 325L, 328L, 261L, \n . 381L, 148L, 216L, 253L, 139L, 232L, 352L, 339L, 20L, 78L, 257L, \n . 17L, 239L, 84L, 116L, 209L, 308L, 11L, 111L, 214L, 311L, 68L, \n . 256L, 85L, 37L, 327L, 164L, 367L, 181L, 198L, 296L, 174L, 117L, \n . 67L, 242L, 211L, 298L, 70L, 369L, 199L, 317L, 51L, 170L, 91L, \n . 363L, 321L, 374L, 285L, 228L, 1L, 270L, 61L, 354L, 24L, 264L, \n . 234L, 310L, 324L, 282L, 330L, 243L, 66L, 314L, 62L, 136L, 175L, \n . 168L, 179L, 103L, 348L, 236L, 230L, 318L, 18L, 343L, 69L, 260L, \n . 226L, 59L, 300L, 173L, 368L, 197L, 58L, 163L, 87L, 207L, 336L, \n . 292L, 98L, 281L, 359L, 218L, 178L, 19L, 204L, 83L, 347L, 177L, \n . 77L, 231L, 71L, 213L, 182L, 188L, 33L, 208L, 295L, 115L, 370L, \n . 247L, 126L, 155L, 29L, 180L, 222L, 267L, 341L, 153L, 60L, 224L, \n . 373L, 223L, 104L, 28L, 244L, 23L, 95L, 278L, 379L, 350L, 201L, \n . 132L, 122L, 56L, 313L, 154L, 54L, 86L, 334L, 145L, 133L, 380L, \n . 105L, 289L, 127L, 307L, 240L, 271L, 124L, 187L, 366L, 161L, 140L, \n . 376L, 75L, 303L, 263L, 32L, 108L, 159L, 143L, 378L, 43L, 169L, \n . 110L, 16L, 272L, 205L, 131L, 5L, 144L, 6L, 315L, 149L, 47L, 241L, \n . 151L, 135L, 80L, 25L, 235L, 88L, 99L, 238L, 44L, 268L, 109L, \n . 275L, 200L, 385L, 142L, 210L, 113L, 383L, 326L, 377L, 125L, 10L, \n . 392L, 7L, 15L, 344L, 141L, 93L, 129L, 40L, 262L, 31L, 146L, 102L, \n . 340L, 167L, 246L, 128L, 356L, 162L, 36L, 34L, 65L, 384L, 293L, \n . 191L, 371L, 269L, 137L, 294L, 107L, 342L, 120L, 152L, 229L, 252L, \n . 276L, 39L, 364L, 203L, 332L, 92L, 21L, 185L, 147L, 220L, 382L, \n . 217L, 306L, 299L, 353L, 277L, 73L, 38L, 280L, 119L, 248L, 30L, \n . 189L, 121L, 12L, 49L, 166L, 74L, 290L, 351L, 192L, 194L, 138L\n . ), c(284L, 249L, 358L, 212L, 395L, 158L, 391L, 72L, 165L, 283L, \n . 360L, 237L, 386L, 190L, 329L, 100L, 112L, 259L, 322L, 118L, 221L, \n . 215L, 389L, 42L, 338L, 375L, 279L, 94L, 63L, 390L, 48L, 219L, \n . 150L, 114L, 250L, 156L, 301L, 193L, 134L, 53L, 388L, 355L, 183L, \n . 2L, 64L, 206L, 225L, 357L, 333L, 273L, 286L, 176L, 372L, 393L, \n . 335L, 233L, 97L, 309L, 184L, 365L, 362L, 106L, 76L, 312L, 171L, \n . 255L, 319L, 123L, 337L, 287L, 35L, 57L, 101L, 361L, 304L, 297L, \n . 90L, 172L, 288L, 160L, 266L, 50L, 325L, 328L, 381L, 14L, 216L, \n . 139L, 339L, 20L, 78L, 257L, 17L, 84L, 116L, 89L, 209L, 308L, \n . 202L, 11L, 111L, 274L, 214L, 22L, 3L, 311L, 68L, 256L, 85L, 37L, \n . 327L, 164L, 367L, 181L, 296L, 174L, 117L, 67L, 242L, 211L, 298L, \n . 323L, 70L, 369L, 199L, 317L, 51L, 170L, 91L, 363L, 321L, 374L, \n . 285L, 1L, 61L, 195L, 354L, 24L, 264L, 234L, 310L, 324L, 330L, \n . 243L, 66L, 314L, 62L, 136L, 175L, 179L, 103L, 348L, 236L, 230L, \n . 318L, 18L, 343L, 69L, 226L, 59L, 300L, 173L, 368L, 197L, 58L, \n . 163L, 87L, 207L, 336L, 292L, 98L, 281L, 359L, 218L, 178L, 19L, \n . 83L, 347L, 177L, 77L, 231L, 71L, 213L, 182L, 188L, 33L, 52L, \n . 208L, 295L, 115L, 370L, 247L, 126L, 155L, 196L, 320L, 8L, 180L, \n . 222L, 267L, 153L, 60L, 224L, 373L, 265L, 223L, 28L, 244L, 23L, \n . 278L, 379L, 350L, 201L, 122L, 27L, 56L, 154L, 54L, 86L, 334L, \n . 145L, 133L, 380L, 105L, 289L, 127L, 331L, 291L, 307L, 271L, 124L, \n . 187L, 366L, 161L, 140L, 251L, 376L, 75L, 303L, 82L, 32L, 316L, \n . 108L, 159L, 143L, 378L, 43L, 169L, 110L, 16L, 272L, 205L, 131L, \n . 5L, 144L, 6L, 315L, 149L, 345L, 47L, 241L, 151L, 135L, 25L, 235L, \n . 88L, 99L, 238L, 44L, 268L, 109L, 275L, 41L, 200L, 385L, 142L, \n . 210L, 113L, 383L, 326L, 377L, 125L, 4L, 79L, 392L, 7L, 344L, \n . 141L, 93L, 129L, 40L, 262L, 31L, 146L, 340L, 167L, 246L, 128L, \n . 45L, 356L, 162L, 36L, 34L, 65L, 384L, 293L, 191L, 371L, 349L, \n . 269L, 137L, 294L, 107L, 342L, 120L, 152L, 229L, 252L, 130L, 276L, \n . 346L, 39L, 302L, 364L, 203L, 332L, 92L, 21L, 185L, 147L, 382L, \n . 217L, 9L, 306L, 299L, 353L, 277L, 38L, 280L, 55L, 119L, 248L, \n . 30L, 13L, 189L, 12L, 49L, 258L, 166L, 74L, 290L, 351L, 192L, \n . 194L, 138L), c(186L, 284L, 249L, 358L, 212L, 387L, 395L, 158L, \n . 391L, 96L, 72L, 81L, 46L, 165L, 283L, 245L, 237L, 386L, 190L, \n . 100L, 112L, 259L, 157L, 118L, 221L, 215L, 42L, 338L, 375L, 279L, \n . 305L, 63L, 390L, 48L, 219L, 150L, 114L, 250L, 301L, 193L, 134L, \n . 53L, 183L, 2L, 64L, 206L, 357L, 286L, 176L, 335L, 233L, 97L, \n . 309L, 184L, 365L, 362L, 106L, 26L, 312L, 254L, 319L, 123L, 337L, \n . 394L, 287L, 35L, 57L, 227L, 304L, 297L, 172L, 288L, 160L, 266L, \n . 50L, 325L, 328L, 261L, 381L, 148L, 14L, 216L, 253L, 139L, 232L, \n . 352L, 339L, 20L, 78L, 257L, 17L, 239L, 84L, 89L, 209L, 308L, \n . 202L, 11L, 111L, 274L, 214L, 22L, 3L, 311L, 68L, 256L, 85L, 37L, \n . 327L, 164L, 367L, 181L, 198L, 174L, 117L, 67L, 242L, 211L, 298L, \n . 323L, 70L, 369L, 317L, 51L, 170L, 91L, 363L, 321L, 374L, 285L, \n . 228L, 1L, 270L, 61L, 195L, 24L, 264L, 234L, 310L, 324L, 282L, \n . 330L, 243L, 66L, 314L, 62L, 136L, 175L, 168L, 179L, 348L, 236L, \n . 230L, 318L, 18L, 343L, 69L, 260L, 59L, 300L, 368L, 58L, 163L, \n . 87L, 207L, 292L, 98L, 281L, 359L, 218L, 178L, 19L, 204L, 83L, \n . 347L, 177L, 77L, 231L, 71L, 213L, 182L, 188L, 33L, 52L, 208L, \n . 295L, 115L, 126L, 155L, 196L, 320L, 8L, 29L, 180L, 222L, 267L, \n . 341L, 153L, 60L, 224L, 373L, 265L, 223L, 104L, 28L, 244L, 23L, \n . 95L, 379L, 350L, 201L, 132L, 122L, 27L, 56L, 313L, 154L, 54L, \n . 86L, 334L, 133L, 380L, 105L, 289L, 127L, 331L, 291L, 307L, 240L, \n . 271L, 124L, 187L, 366L, 161L, 251L, 376L, 75L, 303L, 82L, 263L, \n . 32L, 316L, 108L, 159L, 143L, 378L, 43L, 169L, 16L, 272L, 205L, \n . 131L, 5L, 144L, 6L, 315L, 149L, 345L, 47L, 241L, 135L, 80L, 25L, \n . 235L, 88L, 99L, 238L, 44L, 268L, 109L, 275L, 41L, 200L, 385L, \n . 142L, 210L, 113L, 383L, 377L, 125L, 4L, 10L, 79L, 392L, 7L, 15L, \n . 344L, 141L, 93L, 129L, 40L, 262L, 31L, 146L, 102L, 340L, 167L, \n . 246L, 128L, 45L, 162L, 36L, 34L, 65L, 293L, 191L, 371L, 349L, \n . 269L, 137L, 294L, 107L, 342L, 120L, 152L, 229L, 252L, 130L, 276L, \n . 346L, 39L, 302L, 364L, 203L, 332L, 92L, 21L, 185L, 147L, 220L, \n . 382L, 217L, 9L, 299L, 353L, 277L, 73L, 38L, 55L, 119L, 248L, \n . 30L, 13L, 189L, 121L, 12L, 49L, 258L, 166L, 74L, 290L, 351L, \n . 192L, 194L, 138L), c(186L, 284L, 249L, 358L, 212L, 387L, 395L, \n . 158L, 391L, 96L, 72L, 81L, 46L, 165L, 360L, 245L, 237L, 386L, \n . 190L, 329L, 100L, 112L, 259L, 322L, 157L, 118L, 221L, 215L, 389L, \n . 42L, 338L, 375L, 279L, 94L, 305L, 63L, 390L, 48L, 219L, 150L, \n . 114L, 250L, 156L, 193L, 134L, 53L, 388L, 355L, 183L, 2L, 64L, \n . 206L, 225L, 357L, 333L, 273L, 286L, 176L, 372L, 393L, 233L, 97L, \n . 309L, 365L, 362L, 106L, 76L, 26L, 312L, 171L, 255L, 254L, 319L, \n . 123L, 337L, 394L, 287L, 35L, 227L, 101L, 361L, 90L, 172L, 288L, \n . 160L, 266L, 50L, 325L, 261L, 381L, 148L, 14L, 216L, 253L, 139L, \n . 232L, 352L, 339L, 20L, 78L, 257L, 17L, 239L, 84L, 116L, 89L, \n . 209L, 308L, 202L, 11L, 111L, 274L, 214L, 22L, 3L, 311L, 68L, \n . 85L, 37L, 327L, 164L, 367L, 181L, 198L, 296L, 174L, 117L, 67L, \n . 242L, 211L, 298L, 323L, 70L, 199L, 51L, 170L, 363L, 321L, 374L, \n . 228L, 1L, 270L, 61L, 195L, 354L, 24L, 264L, 234L, 310L, 324L, \n . 282L, 330L, 243L, 66L, 314L, 62L, 175L, 168L, 179L, 103L, 348L, \n . 236L, 230L, 318L, 18L, 343L, 69L, 260L, 226L, 59L, 300L, 173L, \n . 368L, 197L, 58L, 163L, 87L, 207L, 336L, 292L, 98L, 281L, 359L, \n . 19L, 204L, 83L, 347L, 177L, 77L, 231L, 182L, 188L, 33L, 52L, \n . 208L, 115L, 370L, 247L, 126L, 196L, 320L, 8L, 29L, 222L, 267L, \n . 341L, 153L, 60L, 224L, 265L, 223L, 104L, 28L, 244L, 23L, 95L, \n . 278L, 379L, 350L, 201L, 132L, 122L, 27L, 56L, 313L, 154L, 54L, \n . 86L, 334L, 145L, 133L, 380L, 105L, 289L, 127L, 331L, 291L, 307L, \n . 240L, 271L, 187L, 366L, 161L, 140L, 251L, 376L, 75L, 303L, 82L, \n . 263L, 32L, 316L, 108L, 143L, 378L, 43L, 169L, 110L, 16L, 272L, \n . 205L, 131L, 5L, 6L, 149L, 345L, 241L, 151L, 135L, 80L, 25L, 235L, \n . 99L, 238L, 268L, 109L, 275L, 41L, 200L, 385L, 142L, 113L, 383L, \n . 326L, 377L, 125L, 4L, 10L, 79L, 392L, 7L, 15L, 344L, 93L, 129L, \n . 262L, 31L, 146L, 102L, 340L, 167L, 246L, 128L, 45L, 356L, 162L, \n . 36L, 34L, 65L, 384L, 293L, 191L, 371L, 349L, 137L, 294L, 107L, \n . 120L, 152L, 252L, 130L, 346L, 39L, 302L, 364L, 203L, 332L, 21L, \n . 185L, 147L, 220L, 382L, 9L, 306L, 299L, 277L, 73L, 38L, 280L, \n . 55L, 119L, 248L, 30L, 13L, 189L, 121L, 12L, 49L, 258L, 166L, \n . 74L, 290L, 351L, 192L, 194L, 138L), c(186L, 284L, 249L, 358L, \n . 212L, 387L, 395L, 158L, 391L, 96L, 81L, 46L, 165L, 283L, 360L, \n . 245L, 237L, 386L, 190L, 329L, 100L, 112L, 259L, 322L, 157L, 118L, \n . 221L, 215L, 389L, 42L, 338L, 375L, 94L, 305L, 63L, 390L, 48L, \n . 219L, 150L, 114L, 250L, 156L, 301L, 193L, 134L, 53L, 388L, 355L, \n . 2L, 206L, 225L, 357L, 333L, 273L, 286L, 176L, 372L, 393L, 335L, \n . 233L, 97L, 309L, 184L, 365L, 362L, 106L, 76L, 26L, 312L, 171L, \n . 255L, 254L, 319L, 123L, 337L, 394L, 35L, 57L, 227L, 101L, 361L, \n . 304L, 297L, 90L, 172L, 288L, 160L, 266L, 50L, 325L, 328L, 261L, \n . 381L, 148L, 14L, 216L, 253L, 139L, 232L, 352L, 339L, 20L, 78L, \n . 257L, 17L, 239L, 116L, 89L, 209L, 308L, 202L, 11L, 111L, 274L, \n . 22L, 3L, 311L, 256L, 85L, 37L, 327L, 164L, 367L, 181L, 198L, \n . 296L, 174L, 117L, 67L, 242L, 211L, 298L, 323L, 70L, 369L, 199L, \n . 317L, 51L, 91L, 363L, 321L, 285L, 228L, 1L, 270L, 61L, 195L, \n . 354L, 234L, 310L, 324L, 282L, 330L, 243L, 66L, 314L, 62L, 136L, \n . 175L, 168L, 179L, 103L, 348L, 236L, 318L, 18L, 343L, 69L, 260L, \n . 226L, 59L, 300L, 173L, 368L, 197L, 58L, 87L, 207L, 336L, 292L, \n . 98L, 281L, 359L, 218L, 178L, 19L, 204L, 83L, 347L, 177L, 71L, \n . 213L, 182L, 188L, 33L, 52L, 295L, 115L, 370L, 247L, 126L, 155L, \n . 196L, 320L, 8L, 29L, 180L, 222L, 267L, 341L, 60L, 224L, 373L, \n . 265L, 223L, 104L, 28L, 244L, 23L, 95L, 278L, 379L, 350L, 132L, \n . 27L, 313L, 154L, 54L, 86L, 334L, 145L, 133L, 380L, 289L, 127L, \n . 331L, 291L, 307L, 240L, 271L, 124L, 187L, 366L, 161L, 140L, 251L, \n . 376L, 75L, 303L, 82L, 263L, 32L, 316L, 159L, 143L, 43L, 169L, \n . 110L, 16L, 272L, 205L, 131L, 5L, 144L, 6L, 315L, 149L, 345L, \n . 47L, 241L, 151L, 135L, 80L, 25L, 235L, 88L, 99L, 238L, 44L, 268L, \n . 275L, 41L, 142L, 210L, 113L, 326L, 377L, 4L, 10L, 79L, 15L, 141L, \n . 93L, 129L, 40L, 262L, 31L, 146L, 102L, 340L, 246L, 128L, 45L, \n . 356L, 162L, 36L, 34L, 65L, 384L, 293L, 191L, 371L, 349L, 269L, \n . 137L, 294L, 107L, 342L, 152L, 229L, 130L, 276L, 346L, 302L, 364L, \n . 203L, 332L, 92L, 21L, 185L, 147L, 220L, 382L, 217L, 9L, 306L, \n . 299L, 353L, 277L, 73L, 38L, 280L, 55L, 248L, 13L, 189L, 121L, \n . 12L, 49L, 258L, 166L, 74L, 290L, 351L, 192L), c(186L, 284L, 249L, \n . 358L, 212L, 387L, 395L, 158L, 96L, 72L, 81L, 46L, 283L, 360L, \n . 245L, 237L, 386L, 190L, 329L, 100L, 112L, 259L, 322L, 157L, 118L, \n . 221L, 389L, 42L, 338L, 375L, 279L, 94L, 305L, 63L, 390L, 48L, \n . 219L, 114L, 250L, 156L, 301L, 193L, 134L, 388L, 355L, 183L, 64L, \n . 225L, 333L, 273L, 176L, 372L, 393L, 335L, 233L, 97L, 309L, 184L, \n . 76L, 26L, 171L, 255L, 254L, 319L, 123L, 337L, 394L, 287L, 35L, \n . 57L, 227L, 101L, 361L, 304L, 297L, 90L, 172L, 288L, 160L, 50L, \n . 325L, 328L, 261L, 381L, 148L, 14L, 216L, 253L, 232L, 352L, 339L, \n . 78L, 257L, 239L, 84L, 116L, 89L, 209L, 202L, 111L, 274L, 214L, \n . 22L, 3L, 311L, 68L, 256L, 85L, 37L, 327L, 164L, 367L, 181L, 198L, \n . 296L, 174L, 117L, 67L, 242L, 211L, 298L, 323L, 70L, 369L, 199L, \n . 317L, 170L, 91L, 363L, 321L, 374L, 285L, 228L, 1L, 270L, 61L, \n . 195L, 354L, 24L, 264L, 234L, 310L, 324L, 282L, 243L, 66L, 314L, \n . 62L, 136L, 175L, 168L, 179L, 103L, 348L, 236L, 230L, 318L, 18L, \n . 343L, 260L, 226L, 59L, 300L, 173L, 368L, 197L, 58L, 163L, 87L, \n . 207L, 336L, 281L, 359L, 218L, 178L, 19L, 204L, 83L, 347L, 77L, \n . 231L, 71L, 213L, 182L, 188L, 33L, 52L, 208L, 295L, 115L, 370L, \n . 247L, 155L, 196L, 320L, 8L, 29L, 180L, 222L, 267L, 341L, 153L, \n . 60L, 224L, 373L, 265L, 223L, 104L, 28L, 244L, 23L, 95L, 278L, \n . 379L, 350L, 201L, 132L, 122L, 27L, 56L, 313L, 154L, 86L, 334L, \n . 145L, 133L, 380L, 105L, 127L, 331L, 291L, 307L, 240L, 124L, 187L, \n . 366L, 161L, 140L, 251L, 376L, 75L, 303L, 82L, 263L, 32L, 316L, \n . 108L, 159L, 143L, 378L, 110L, 16L, 131L, 5L, 144L, 6L, 315L, \n . 149L, 345L, 47L, 241L, 151L, 135L, 80L, 235L, 88L, 99L, 238L, \n . 44L, 109L, 275L, 41L, 200L, 385L, 142L, 210L, 113L, 383L, 326L, \n . 377L, 125L, 4L, 10L, 79L, 392L, 7L, 15L, 344L, 141L, 93L, 129L, \n . 40L, 31L, 102L, 340L, 167L, 246L, 128L, 45L, 356L, 162L, 36L, \n . 34L, 65L, 384L, 191L, 349L, 269L, 137L, 107L, 342L, 120L, 152L, \n . 229L, 252L, 130L, 276L, 346L, 39L, 302L, 364L, 203L, 332L, 92L, \n . 21L, 185L, 147L, 220L, 382L, 217L, 9L, 306L, 299L, 353L, 277L, \n . 73L, 38L, 280L, 55L, 119L, 248L, 30L, 13L, 189L, 121L, 12L, 49L, \n . 258L, 166L, 74L, 290L, 351L, 192L, 194L, 138L)), test.inds = list(\n .     c(42L, 48L, 50L, 65L, 66L, 67L, 85L, 86L, 87L, 93L, 97L, \n .     107L, 111L, 112L, 133L, 147L, 164L, 174L, 190L, 203L, 211L, \n .     216L, 219L, 224L, 235L, 236L, 259L, 307L, 310L, 318L, 325L, \n .     332L, 337L, 350L, 351L, 363L, 377L, 380L, 382L), c(6L, 16L, \n .     18L, 21L, 23L, 28L, 31L, 32L, 34L, 37L, 60L, 74L, 99L, 113L, \n .     117L, 134L, 162L, 187L, 189L, 191L, 192L, 193L, 207L, 234L, \n .     244L, 257L, 288L, 309L, 311L, 314L, 324L, 334L, 339L, 340L, \n .     347L, 348L, 366L, 376L, 379L), c(5L, 12L, 19L, 33L, 36L, \n .     38L, 58L, 63L, 75L, 78L, 83L, 114L, 115L, 118L, 128L, 129L, \n .     131L, 135L, 154L, 158L, 179L, 185L, 212L, 222L, 242L, 246L, \n .     267L, 277L, 281L, 284L, 298L, 299L, 300L, 338L, 343L, 364L, \n .     368L, 375L, 390L), c(1L, 49L, 59L, 61L, 62L, 70L, 123L, 127L, \n .     137L, 142L, 143L, 149L, 152L, 160L, 161L, 166L, 172L, 175L, \n .     181L, 182L, 188L, 209L, 223L, 237L, 238L, 241L, 243L, 248L, \n .     249L, 275L, 290L, 303L, 319L, 321L, 327L, 359L, 367L, 381L, \n .     386L), c(3L, 4L, 8L, 9L, 13L, 14L, 22L, 27L, 35L, 41L, 45L, \n .     52L, 55L, 79L, 82L, 89L, 100L, 130L, 176L, 195L, 196L, 202L, \n .     221L, 233L, 250L, 251L, 258L, 265L, 274L, 291L, 302L, 316L, \n .     320L, 323L, 331L, 345L, 346L, 349L, 358L, 395L), c(10L, 15L, \n .     26L, 29L, 46L, 73L, 80L, 81L, 95L, 96L, 102L, 104L, 121L, \n .     132L, 148L, 157L, 168L, 186L, 198L, 204L, 220L, 227L, 228L, \n .     232L, 239L, 240L, 245L, 253L, 254L, 260L, 261L, 263L, 270L, \n .     282L, 305L, 313L, 341L, 352L, 387L, 394L), c(76L, 90L, 94L, \n .     101L, 103L, 110L, 116L, 140L, 145L, 151L, 156L, 171L, 173L, \n .     197L, 199L, 225L, 226L, 247L, 255L, 273L, 278L, 280L, 296L, \n .     306L, 322L, 326L, 329L, 333L, 336L, 354L, 355L, 356L, 360L, \n .     361L, 370L, 372L, 384L, 388L, 389L, 393L), c(40L, 44L, 47L, \n .     57L, 71L, 88L, 91L, 92L, 124L, 136L, 141L, 144L, 155L, 159L, \n .     178L, 180L, 184L, 210L, 213L, 217L, 218L, 229L, 256L, 269L, \n .     276L, 283L, 285L, 295L, 297L, 301L, 304L, 315L, 317L, 328L, \n .     335L, 342L, 353L, 369L, 373L), c(7L, 24L, 30L, 39L, 56L, \n .     64L, 68L, 72L, 77L, 84L, 105L, 108L, 109L, 119L, 120L, 122L, \n .     125L, 138L, 153L, 163L, 167L, 170L, 183L, 194L, 200L, 201L, \n .     208L, 214L, 230L, 231L, 252L, 264L, 279L, 287L, 344L, 374L, \n .     378L, 383L, 385L, 392L), c(2L, 11L, 17L, 20L, 25L, 43L, 51L, \n .     53L, 54L, 69L, 98L, 106L, 126L, 139L, 146L, 150L, 165L, 169L, \n .     177L, 205L, 206L, 215L, 262L, 266L, 268L, 271L, 272L, 286L, \n .     289L, 292L, 293L, 294L, 308L, 312L, 330L, 357L, 362L, 365L, \n .     371L, 391L)), group = structure(integer(0), .Label = character(0), class = \"factor\")), class = \"ResampleInstance\"), \n .     weights = NULL, measures = list(structure(list(id = \"acc\", \n .         minimize = FALSE, properties = c(\"classif\", \"classif.multi\", \n .         \"req.pred\", \"req.truth\"), fun = function (task, model, \n .             pred, feats, extra.args) \n .         {\n .             measureACC(pred$data$truth, pred$data$response)\n .         }, extra.args = list(), best = 1, worst = 0, name = \"Accuracy\", \n .         note = \"Defined as: mean(response == truth)\", aggr = structure(list(\n .             id = \"test.mean\", name = \"Test mean\", fun = function (task, \n .                 perf.test, perf.train, measure, group, pred) \n .             mean(perf.test), properties = \"req.test\"), class = \"Aggregation\")), class = \"Measure\")), \n .     model = FALSE, extract = function (model) \n .     {\n .     }, show.info = TRUE)",
      "5. calculateResampleIterationResult(learner = learner, task = task, \n .     i = i, train.i = train.i, test.i = test.i, measures = measures, \n .     weights = weights, rdesc = rin$desc, model = model, extract = extract, \n .     show.info = show.info)",
      "6. train(learner, task, subset = train.i, weights = weights[train.i])",
      "7. measureTime(fun1({\n .     learner.model = fun2(fun3(do.call(trainLearner, pars)))\n . }))",
      "8. force(expr)",
      "9. fun1({\n .     learner.model = fun2(fun3(do.call(trainLearner, pars)))\n . })",
      "10. fun2(fun3(do.call(trainLearner, pars)))",
      "11. fun3(do.call(trainLearner, pars))",
      "12. do.call(trainLearner, pars)",
      "13. (function (.learner, .task, .subset, .weights = NULL, ...) \n  . {\n  .     UseMethod(\"trainLearner\")\n  . })(.learner = structure(list(id = \"classif.qda\", type = \"classif\", \n  .     package = \"MASS\", properties = c(\"twoclass\", \"multiclass\", \n  .     \"numerics\", \"factors\", \"prob\"), par.set = structure(list(\n  .         pars = list(method = structure(list(id = \"method\", type = \"discrete\", \n  .             len = 1L, lower = NULL, upper = NULL, values = list(\n  .                 moment = \"moment\", mle = \"mle\", mve = \"mve\", \n  .                 t = \"t\"), cnames = NULL, allow.inf = FALSE, has.default = TRUE, \n  .             default = \"moment\", trafo = NULL, requires = NULL, \n  .             tunable = TRUE, special.vals = list(), when = \"train\"), class = c(\"LearnerParam\", \n  .         \"Param\")), nu = structure(list(id = \"nu\", type = \"numeric\", \n  .             len = 1L, lower = 2, upper = Inf, values = NULL, \n  .             cnames = NULL, allow.inf = FALSE, has.default = TRUE, \n  .             default = 5, trafo = NULL, requires = method == \"t\", \n  .             tunable = TRUE, special.vals = list(), when = \"train\"), class = c(\"LearnerParam\", \n  .         \"Param\")), predict.method = structure(list(id = \"predict.method\", \n  .             type = \"discrete\", len = 1L, lower = NULL, upper = NULL, \n  .             values = list(`plug-in` = \"plug-in\", predictive = \"predictive\", \n  .                 debiased = \"debiased\"), cnames = NULL, allow.inf = FALSE, \n  .             has.default = TRUE, default = \"plug-in\", trafo = NULL, \n  .             requires = NULL, tunable = TRUE, special.vals = list(), \n  .             when = \"predict\"), class = c(\"LearnerParam\", \"Param\"\n  .         ))), forbidden = NULL), class = c(\"LearnerParamSet\", \n  .     \"ParamSet\")), par.vals = structure(list(), .Names = character(0)), \n  .     predict.type = \"prob\", cache = FALSE, name = \"Quadratic Discriminant Analysis\", \n  .     short.name = \"qda\", note = \"Learner parameter `predict.method` maps to `method` in `predict.qda`.\", \n  .     callees = c(\"qda\", \"predict.qda\"), help.list = list(method = \"Argument of: MASS::qda\\n\\n\\\"moment\\\" for standard estimators of the mean and variance, \\\"mle\\\" for MLEs, \\\"mve\\\" to use cov.mve, or \\\"t\\\" for robust estimates based on a t distribution.\", \n  .         nu = \"Argument of: MASS::qda\\n\\ndegrees of freedom for method = \\\"t\\\".\"), \n  .     config = list(), fix.factors.prediction = TRUE), class = c(\"classif.qda\", \n  . \"RLearnerClassif\", \"RLearner\", \"Learner\")), .task = structure(list(\n  .     type = \"classif\", env = <environment>, weights = NULL, blocking = NULL, \n  .     coordinates = NULL, task.desc = structure(list(id = \"student\", \n  .         type = \"classif\", target = \"final_grade\", size = 356L, \n  .         n.feat = c(numerics = 41L, factors = 0L, ordered = 0L, \n  .         functionals = 0L), has.missings = FALSE, has.weights = FALSE, \n  .         has.blocking = FALSE, has.coordinates = FALSE, class.levels = c(\"A\", \n  .         \"A-\", \"B\", \"B+\", \"C\", \"F\"), positive = NA_character_, \n  .         negative = NA_character_, class.distribution = structure(c(A = 37L, \n  .         `A-` = 53L, B = 28L, `B+` = 28L, C = 93L, F = 117L), .Dim = 6L, .Dimnames = structure(list(\n  .             c(\"A\", \"A-\", \"B\", \"B+\", \"C\", \"F\")), .Names = \"\"), class = \"table\")), class = c(\"ClassifTaskDesc\", \n  .     \"SupervisedTaskDesc\", \"TaskDesc\"))), class = c(\"ClassifTask\", \n  . \"SupervisedTask\", \"Task\")), .subset = NULL)",
      "14. trainLearner.classif.qda(.learner = structure(list(id = \"classif.qda\", \n  .     type = \"classif\", package = \"MASS\", properties = c(\"twoclass\", \n  .     \"multiclass\", \"numerics\", \"factors\", \"prob\"), par.set = structure(list(\n  .         pars = list(method = structure(list(id = \"method\", type = \"discrete\", \n  .             len = 1L, lower = NULL, upper = NULL, values = list(\n  .                 moment = \"moment\", mle = \"mle\", mve = \"mve\", \n  .                 t = \"t\"), cnames = NULL, allow.inf = FALSE, has.default = TRUE, \n  .             default = \"moment\", trafo = NULL, requires = NULL, \n  .             tunable = TRUE, special.vals = list(), when = \"train\"), class = c(\"LearnerParam\", \n  .         \"Param\")), nu = structure(list(id = \"nu\", type = \"numeric\", \n  .             len = 1L, lower = 2, upper = Inf, values = NULL, \n  .             cnames = NULL, allow.inf = FALSE, has.default = TRUE, \n  .             default = 5, trafo = NULL, requires = method == \"t\", \n  .             tunable = TRUE, special.vals = list(), when = \"train\"), class = c(\"LearnerParam\", \n  .         \"Param\")), predict.method = structure(list(id = \"predict.method\", \n  .             type = \"discrete\", len = 1L, lower = NULL, upper = NULL, \n  .             values = list(`plug-in` = \"plug-in\", predictive = \"predictive\", \n  .                 debiased = \"debiased\"), cnames = NULL, allow.inf = FALSE, \n  .             has.default = TRUE, default = \"plug-in\", trafo = NULL, \n  .             requires = NULL, tunable = TRUE, special.vals = list(), \n  .             when = \"predict\"), class = c(\"LearnerParam\", \"Param\"\n  .         ))), forbidden = NULL), class = c(\"LearnerParamSet\", \n  .     \"ParamSet\")), par.vals = structure(list(), .Names = character(0)), \n  .     predict.type = \"prob\", cache = FALSE, name = \"Quadratic Discriminant Analysis\", \n  .     short.name = \"qda\", note = \"Learner parameter `predict.method` maps to `method` in `predict.qda`.\", \n  .     callees = c(\"qda\", \"predict.qda\"), help.list = list(method = \"Argument of: MASS::qda\\n\\n\\\"moment\\\" for standard estimators of the mean and variance, \\\"mle\\\" for MLEs, \\\"mve\\\" to use cov.mve, or \\\"t\\\" for robust estimates based on a t distribution.\", \n  .         nu = \"Argument of: MASS::qda\\n\\ndegrees of freedom for method = \\\"t\\\".\"), \n  .     config = list(), fix.factors.prediction = TRUE), class = c(\"classif.qda\", \n  . \"RLearnerClassif\", \"RLearner\", \"Learner\")), .task = structure(list(\n  .     type = \"classif\", env = <environment>, weights = NULL, blocking = NULL, \n  .     coordinates = NULL, task.desc = structure(list(id = \"student\", \n  .         type = \"classif\", target = \"final_grade\", size = 356L, \n  .         n.feat = c(numerics = 41L, factors = 0L, ordered = 0L, \n  .         functionals = 0L), has.missings = FALSE, has.weights = FALSE, \n  .         has.blocking = FALSE, has.coordinates = FALSE, class.levels = c(\"A\", \n  .         \"A-\", \"B\", \"B+\", \"C\", \"F\"), positive = NA_character_, \n  .         negative = NA_character_, class.distribution = structure(c(A = 37L, \n  .         `A-` = 53L, B = 28L, `B+` = 28L, C = 93L, F = 117L), .Dim = 6L, .Dimnames = structure(list(\n  .             c(\"A\", \"A-\", \"B\", \"B+\", \"C\", \"F\")), .Names = \"\"), class = \"table\")), class = c(\"ClassifTaskDesc\", \n  .     \"SupervisedTaskDesc\", \"TaskDesc\"))), class = c(\"ClassifTask\", \n  . \"SupervisedTask\", \"Task\")), .subset = NULL)",
      "15. MASS::qda(f, data = getTaskData(.task, .subset, recode.target = \"drop.levels\"), \n  .     ...)",
      "16. qda.formula(f, data = getTaskData(.task, .subset, recode.target = \"drop.levels\"), \n  .     ...)",
      "17. qda.default(x, grouping, ...)",
      "18. stop(\"some group is too small for 'qda'\")"
     ]
    }
   ],
   "source": [
    "# !!! Error caused by the low number of observations in class\n",
    "\n",
    "# Set up cross-validation\n",
    "rdesc = makeResampleDesc(\"CV\", iters=10)\n",
    "\n",
    "# Define the model\n",
    "lnr_qda <- makeLearner(\"classif.qda\", predict.type=\"prob\", fix.factors.prediction=T)\n",
    "\n",
    "# Define the task\n",
    "task_logreg <- makeClassifTask(id=\"student\", data=student, target=\"final_grade\")\n",
    "\n",
    "# Run the k-fold CV\n",
    "resample(lnr_qda, task_logreg, rdesc, measures=list(mlr::acc))"
   ]
  },
  {
   "cell_type": "markdown",
   "metadata": {},
   "source": [
    "**Test k-Nearest Neighbor (kNN) model, k=1, 10-fold CV**"
   ]
  },
  {
   "cell_type": "code",
   "execution_count": 136,
   "metadata": {},
   "outputs": [
    {
     "name": "stderr",
     "output_type": "stream",
     "text": [
      "Resampling: cross-validation\n",
      "\n",
      "Measures:             acc       \n",
      "\n",
      "[Resample] iter 1:    0.3846154 \n",
      "\n",
      "[Resample] iter 2:    0.3076923 \n",
      "\n",
      "[Resample] iter 3:    0.3000000 \n",
      "\n",
      "[Resample] iter 4:    0.4000000 \n",
      "\n",
      "[Resample] iter 5:    0.2820513 \n",
      "\n",
      "[Resample] iter 6:    0.2500000 \n",
      "\n",
      "[Resample] iter 7:    0.3846154 \n",
      "\n",
      "[Resample] iter 8:    0.3333333 \n",
      "\n",
      "[Resample] iter 9:    0.3250000 \n",
      "\n",
      "[Resample] iter 10:   0.3250000 \n",
      "\n",
      "\n",
      "\n",
      "\n",
      "Aggregated Result: acc.test.mean=0.3292308\n",
      "\n",
      "\n",
      "\n",
      "\n"
     ]
    },
    {
     "data": {
      "text/plain": [
       "Resample Result\n",
       "Task: student\n",
       "Learner: classif.kknn\n",
       "Aggr perf: acc.test.mean=0.3292308\n",
       "Runtime: 0.186882"
      ]
     },
     "metadata": {},
     "output_type": "display_data"
    }
   ],
   "source": [
    "# Set up cross-validation\n",
    "rdesc = makeResampleDesc(\"CV\", iters=10)\n",
    "\n",
    "# Define the model\n",
    "lnr_knn <- makeLearner(\"classif.kknn\", predict.type=\"prob\", fix.factors.prediction=T, k=1)\n",
    "\n",
    "# Define the task\n",
    "task_logreg <- makeClassifTask(id=\"student\", data=student, target=\"final_grade\")\n",
    "\n",
    "# Run the k-fold CV\n",
    "resample(lnr_knn, task_logreg, rdesc, measures=list(mlr::acc))"
   ]
  },
  {
   "cell_type": "markdown",
   "metadata": {},
   "source": [
    "**Test k-Nearest Neighbor (kNN) model, k=100, 10-fold CV**"
   ]
  },
  {
   "cell_type": "code",
   "execution_count": 137,
   "metadata": {},
   "outputs": [
    {
     "name": "stderr",
     "output_type": "stream",
     "text": [
      "Resampling: cross-validation\n",
      "\n",
      "Measures:             acc       \n",
      "\n",
      "[Resample] iter 1:    0.3750000 \n",
      "\n",
      "[Resample] iter 2:    0.5750000 \n",
      "\n",
      "[Resample] iter 3:    0.3846154 \n",
      "\n",
      "[Resample] iter 4:    0.3750000 \n",
      "\n",
      "[Resample] iter 5:    0.5128205 \n",
      "\n",
      "[Resample] iter 6:    0.4615385 \n",
      "\n",
      "[Resample] iter 7:    0.6410256 \n",
      "\n",
      "[Resample] iter 8:    0.4250000 \n",
      "\n",
      "[Resample] iter 9:    0.4750000 \n",
      "\n",
      "[Resample] iter 10:   0.4358974 \n",
      "\n",
      "\n",
      "\n",
      "\n",
      "Aggregated Result: acc.test.mean=0.4660897\n",
      "\n",
      "\n",
      "\n",
      "\n"
     ]
    },
    {
     "data": {
      "text/plain": [
       "Resample Result\n",
       "Task: student\n",
       "Learner: classif.kknn\n",
       "Aggr perf: acc.test.mean=0.4660897\n",
       "Runtime: 0.21502"
      ]
     },
     "metadata": {},
     "output_type": "display_data"
    }
   ],
   "source": [
    "# Set up cross-validation\n",
    "rdesc = makeResampleDesc(\"CV\", iters=10)\n",
    "\n",
    "# Define the model\n",
    "lnr_knn <- makeLearner(\"classif.kknn\", predict.type=\"prob\", fix.factors.prediction=T, k=100)\n",
    "\n",
    "# Define the task\n",
    "task_logreg <- makeClassifTask(id=\"student\", data=student, target=\"final_grade\")\n",
    "\n",
    "# Run the k-fold CV\n",
    "resample(lnr_knn, task_logreg, rdesc, measures=list(mlr::acc))"
   ]
  },
  {
   "cell_type": "markdown",
   "metadata": {},
   "source": [
    "**Test k-Nearest Neighbor (kNN) model, k=Tuning, 10-fold CV**"
   ]
  },
  {
   "cell_type": "code",
   "execution_count": 138,
   "metadata": {},
   "outputs": [
    {
     "name": "stderr",
     "output_type": "stream",
     "text": [
      "[Tune] Started tuning learner classif.kknn for parameter set:\n",
      "\n",
      "      Type len Def                   Constr Req Tunable Trafo\n",
      "k discrete   -   - 1,5,10,20,50,100,200,300   -    TRUE     -\n",
      "\n",
      "With control class: TuneControlGrid\n",
      "\n",
      "Imputation value: -0\n",
      "\n",
      "[Tune-x] 1: k=1\n",
      "\n",
      "[Tune-y] 1: acc.test.mean=0.3616667; time: 0.0 min\n",
      "\n",
      "[Tune-x] 2: k=5\n",
      "\n",
      "[Tune-y] 2: acc.test.mean=0.3616667; time: 0.0 min\n",
      "\n",
      "[Tune-x] 3: k=10\n",
      "\n",
      "[Tune-y] 3: acc.test.mean=0.3868590; time: 0.0 min\n",
      "\n",
      "[Tune-x] 4: k=20\n",
      "\n",
      "[Tune-y] 4: acc.test.mean=0.4069872; time: 0.0 min\n",
      "\n",
      "[Tune-x] 5: k=50\n",
      "\n",
      "[Tune-y] 5: acc.test.mean=0.4454487; time: 0.0 min\n",
      "\n",
      "[Tune-x] 6: k=100\n",
      "\n",
      "[Tune-y] 6: acc.test.mean=0.4506410; time: 0.0 min\n",
      "\n",
      "[Tune-x] 7: k=200\n",
      "\n",
      "[Tune-y] 7: acc.test.mean=0.4454487; time: 0.0 min\n",
      "\n",
      "[Tune-x] 8: k=300\n",
      "\n",
      "[Tune-y] 8: acc.test.mean=0.4151282; time: 0.0 min\n",
      "\n",
      "[Tune] Result: k=100 : acc.test.mean=0.4506410\n",
      "\n"
     ]
    }
   ],
   "source": [
    "# Set up cross-validation\n",
    "rdesc = makeResampleDesc(\"CV\", iters=10)\n",
    "\n",
    "# Define the model\n",
    "lnr_knn <- makeLearner(\"classif.kknn\", predict.type=\"prob\", fix.factors.prediction=T)\n",
    "\n",
    "# Define the task\n",
    "task_logreg <- makeClassifTask(id=\"student\", data=student, target=\"final_grade\")\n",
    "\n",
    "# Set hyper parameter tuning\n",
    "discrete_ps = makeParamSet(\n",
    "  makeDiscreteParam(\"k\", values = c(1, 5, 10, 20, 50, 100, 200, 300))\n",
    ")\n",
    "ctrl = makeTuneControlGrid()\n",
    "\n",
    "# Run the hyper parameter tuning with k-fold CV\n",
    "res <- tuneParams(lnr_knn, task=task_logreg, resampling=rdesc,\n",
    "  par.set=discrete_ps, control=ctrl, measures=list(mlr::acc))"
   ]
  },
  {
   "cell_type": "markdown",
   "metadata": {},
   "source": [
    "## Homework\n",
    "- Exercise 6 (p.170, Chap.4), 8 (p.170, Chap.4), 9 (p.170, Chap.4), 10 (p.171, Chap.4) and 11 (p.171, Chap.4)."
   ]
  },
  {
   "cell_type": "markdown",
   "metadata": {},
   "source": [
    "Ex. 6"
   ]
  },
  {
   "cell_type": "code",
   "execution_count": 4,
   "metadata": {},
   "outputs": [
    {
     "data": {
      "text/html": [
       "0.377540668798145"
      ],
      "text/latex": [
       "0.377540668798145"
      ],
      "text/markdown": [
       "0.377540668798145"
      ],
      "text/plain": [
       "[1] 0.3775407"
      ]
     },
     "metadata": {},
     "output_type": "display_data"
    }
   ],
   "source": [
    "#point a)\n",
    "px = (exp(-6+0.05 * 40 + 3.5)/(1+ exp(-6+0.05 * 40 + 3.5)))\n",
    "px"
   ]
  },
  {
   "cell_type": "code",
   "execution_count": 9,
   "metadata": {},
   "outputs": [],
   "source": [
    "#point b)\n",
    "#after keeping X1 as an unknown variable, fixing the probability = 0.50, we get\n",
    "X1 = -(-6 +3.5)/0.05"
   ]
  },
  {
   "cell_type": "code",
   "execution_count": 10,
   "metadata": {},
   "outputs": [
    {
     "data": {
      "text/html": [
       "50"
      ],
      "text/latex": [
       "50"
      ],
      "text/markdown": [
       "50"
      ],
      "text/plain": [
       "[1] 50"
      ]
     },
     "metadata": {},
     "output_type": "display_data"
    }
   ],
   "source": [
    "X1"
   ]
  },
  {
   "cell_type": "markdown",
   "metadata": {},
   "source": [
    "So he will have to study 50 hours to have a 50% change of getting an A in class."
   ]
  },
  {
   "cell_type": "markdown",
   "metadata": {},
   "source": [
    "Ex. 8"
   ]
  },
  {
   "cell_type": "markdown",
   "metadata": {},
   "source": [
    "So being the 18% the average error rate between test and training data sets, and being the KNN made with K=1, we have that the training error is 0, which leads to the fact that the test error is 36%. For this reason it is better to choose the logistic regressor."
   ]
  },
  {
   "cell_type": "markdown",
   "metadata": {},
   "source": [
    "Ex. 9"
   ]
  },
  {
   "cell_type": "code",
   "execution_count": 11,
   "metadata": {},
   "outputs": [
    {
     "data": {
      "text/html": [
       "0.27007299270073"
      ],
      "text/latex": [
       "0.27007299270073"
      ],
      "text/markdown": [
       "0.27007299270073"
      ],
      "text/plain": [
       "[1] 0.270073"
      ]
     },
     "metadata": {},
     "output_type": "display_data"
    }
   ],
   "source": [
    "#point a)\n",
    "#Having a log odd of 0.37, by making the inverse calculation we get\n",
    "p = 0.37 / (1 +0.37) \n",
    "p"
   ]
  },
  {
   "cell_type": "markdown",
   "metadata": {},
   "source": [
    "We hence have on average 27% of people that default in paying their credit card balance."
   ]
  },
  {
   "cell_type": "code",
   "execution_count": 12,
   "metadata": {},
   "outputs": [
    {
     "data": {
      "text/html": [
       "0.19047619047619"
      ],
      "text/latex": [
       "0.19047619047619"
      ],
      "text/markdown": [
       "0.19047619047619"
      ],
      "text/plain": [
       "[1] 0.1904762"
      ]
     },
     "metadata": {},
     "output_type": "display_data"
    }
   ],
   "source": [
    "#point b)\n",
    "#if an individual has a 16% of change of defaulting, her / his odds will be\n",
    "log_odd = 0.16 / (1-0.16)\n",
    "log_odd"
   ]
  },
  {
   "cell_type": "markdown",
   "metadata": {},
   "source": [
    "Ex. 10"
   ]
  },
  {
   "cell_type": "code",
   "execution_count": 13,
   "metadata": {},
   "outputs": [
    {
     "name": "stderr",
     "output_type": "stream",
     "text": [
      "Warning message:\n",
      "\"package 'ISLR' was built under R version 3.6.3\""
     ]
    },
    {
     "data": {
      "text/plain": [
       "      Year           Lag1               Lag2               Lag3         \n",
       " Min.   :1990   Min.   :-18.1950   Min.   :-18.1950   Min.   :-18.1950  \n",
       " 1st Qu.:1995   1st Qu.: -1.1540   1st Qu.: -1.1540   1st Qu.: -1.1580  \n",
       " Median :2000   Median :  0.2410   Median :  0.2410   Median :  0.2410  \n",
       " Mean   :2000   Mean   :  0.1506   Mean   :  0.1511   Mean   :  0.1472  \n",
       " 3rd Qu.:2005   3rd Qu.:  1.4050   3rd Qu.:  1.4090   3rd Qu.:  1.4090  \n",
       " Max.   :2010   Max.   : 12.0260   Max.   : 12.0260   Max.   : 12.0260  \n",
       "      Lag4               Lag5              Volume            Today         \n",
       " Min.   :-18.1950   Min.   :-18.1950   Min.   :0.08747   Min.   :-18.1950  \n",
       " 1st Qu.: -1.1580   1st Qu.: -1.1660   1st Qu.:0.33202   1st Qu.: -1.1540  \n",
       " Median :  0.2380   Median :  0.2340   Median :1.00268   Median :  0.2410  \n",
       " Mean   :  0.1458   Mean   :  0.1399   Mean   :1.57462   Mean   :  0.1499  \n",
       " 3rd Qu.:  1.4090   3rd Qu.:  1.4050   3rd Qu.:2.05373   3rd Qu.:  1.4050  \n",
       " Max.   : 12.0260   Max.   : 12.0260   Max.   :9.32821   Max.   : 12.0260  \n",
       " Direction \n",
       " Down:484  \n",
       " Up  :605  \n",
       "           \n",
       "           \n",
       "           \n",
       "           "
      ]
     },
     "metadata": {},
     "output_type": "display_data"
    }
   ],
   "source": [
    "#point a)\n",
    "library(ISLR)\n",
    "summary(Weekly)"
   ]
  },
  {
   "cell_type": "code",
   "execution_count": 14,
   "metadata": {},
   "outputs": [
    {
     "data": {
      "text/html": [
       "<table>\n",
       "<thead><tr><th></th><th scope=col>Year</th><th scope=col>Lag1</th><th scope=col>Lag2</th><th scope=col>Lag3</th><th scope=col>Lag4</th><th scope=col>Lag5</th><th scope=col>Volume</th><th scope=col>Today</th></tr></thead>\n",
       "<tbody>\n",
       "\t<tr><th scope=row>Year</th><td> 1.00000000 </td><td>-0.032289274</td><td>-0.03339001 </td><td>-0.03000649 </td><td>-0.031127923</td><td>-0.030519101</td><td> 0.84194162 </td><td>-0.032459894</td></tr>\n",
       "\t<tr><th scope=row>Lag1</th><td>-0.03228927 </td><td> 1.000000000</td><td>-0.07485305 </td><td> 0.05863568 </td><td>-0.071273876</td><td>-0.008183096</td><td>-0.06495131 </td><td>-0.075031842</td></tr>\n",
       "\t<tr><th scope=row>Lag2</th><td>-0.03339001 </td><td>-0.074853051</td><td> 1.00000000 </td><td>-0.07572091 </td><td> 0.058381535</td><td>-0.072499482</td><td>-0.08551314 </td><td> 0.059166717</td></tr>\n",
       "\t<tr><th scope=row>Lag3</th><td>-0.03000649 </td><td> 0.058635682</td><td>-0.07572091 </td><td> 1.00000000 </td><td>-0.075395865</td><td> 0.060657175</td><td>-0.06928771 </td><td>-0.071243639</td></tr>\n",
       "\t<tr><th scope=row>Lag4</th><td>-0.03112792 </td><td>-0.071273876</td><td> 0.05838153 </td><td>-0.07539587 </td><td> 1.000000000</td><td>-0.075675027</td><td>-0.06107462 </td><td>-0.007825873</td></tr>\n",
       "\t<tr><th scope=row>Lag5</th><td>-0.03051910 </td><td>-0.008183096</td><td>-0.07249948 </td><td> 0.06065717 </td><td>-0.075675027</td><td> 1.000000000</td><td>-0.05851741 </td><td> 0.011012698</td></tr>\n",
       "\t<tr><th scope=row>Volume</th><td> 0.84194162 </td><td>-0.064951313</td><td>-0.08551314 </td><td>-0.06928771 </td><td>-0.061074617</td><td>-0.058517414</td><td> 1.00000000 </td><td>-0.033077783</td></tr>\n",
       "\t<tr><th scope=row>Today</th><td>-0.03245989 </td><td>-0.075031842</td><td> 0.05916672 </td><td>-0.07124364 </td><td>-0.007825873</td><td> 0.011012698</td><td>-0.03307778 </td><td> 1.000000000</td></tr>\n",
       "</tbody>\n",
       "</table>\n"
      ],
      "text/latex": [
       "\\begin{tabular}{r|llllllll}\n",
       "  & Year & Lag1 & Lag2 & Lag3 & Lag4 & Lag5 & Volume & Today\\\\\n",
       "\\hline\n",
       "\tYear &  1.00000000  & -0.032289274 & -0.03339001  & -0.03000649  & -0.031127923 & -0.030519101 &  0.84194162  & -0.032459894\\\\\n",
       "\tLag1 & -0.03228927  &  1.000000000 & -0.07485305  &  0.05863568  & -0.071273876 & -0.008183096 & -0.06495131  & -0.075031842\\\\\n",
       "\tLag2 & -0.03339001  & -0.074853051 &  1.00000000  & -0.07572091  &  0.058381535 & -0.072499482 & -0.08551314  &  0.059166717\\\\\n",
       "\tLag3 & -0.03000649  &  0.058635682 & -0.07572091  &  1.00000000  & -0.075395865 &  0.060657175 & -0.06928771  & -0.071243639\\\\\n",
       "\tLag4 & -0.03112792  & -0.071273876 &  0.05838153  & -0.07539587  &  1.000000000 & -0.075675027 & -0.06107462  & -0.007825873\\\\\n",
       "\tLag5 & -0.03051910  & -0.008183096 & -0.07249948  &  0.06065717  & -0.075675027 &  1.000000000 & -0.05851741  &  0.011012698\\\\\n",
       "\tVolume &  0.84194162  & -0.064951313 & -0.08551314  & -0.06928771  & -0.061074617 & -0.058517414 &  1.00000000  & -0.033077783\\\\\n",
       "\tToday & -0.03245989  & -0.075031842 &  0.05916672  & -0.07124364  & -0.007825873 &  0.011012698 & -0.03307778  &  1.000000000\\\\\n",
       "\\end{tabular}\n"
      ],
      "text/markdown": [
       "\n",
       "| <!--/--> | Year | Lag1 | Lag2 | Lag3 | Lag4 | Lag5 | Volume | Today |\n",
       "|---|---|---|---|---|---|---|---|---|\n",
       "| Year |  1.00000000  | -0.032289274 | -0.03339001  | -0.03000649  | -0.031127923 | -0.030519101 |  0.84194162  | -0.032459894 |\n",
       "| Lag1 | -0.03228927  |  1.000000000 | -0.07485305  |  0.05863568  | -0.071273876 | -0.008183096 | -0.06495131  | -0.075031842 |\n",
       "| Lag2 | -0.03339001  | -0.074853051 |  1.00000000  | -0.07572091  |  0.058381535 | -0.072499482 | -0.08551314  |  0.059166717 |\n",
       "| Lag3 | -0.03000649  |  0.058635682 | -0.07572091  |  1.00000000  | -0.075395865 |  0.060657175 | -0.06928771  | -0.071243639 |\n",
       "| Lag4 | -0.03112792  | -0.071273876 |  0.05838153  | -0.07539587  |  1.000000000 | -0.075675027 | -0.06107462  | -0.007825873 |\n",
       "| Lag5 | -0.03051910  | -0.008183096 | -0.07249948  |  0.06065717  | -0.075675027 |  1.000000000 | -0.05851741  |  0.011012698 |\n",
       "| Volume |  0.84194162  | -0.064951313 | -0.08551314  | -0.06928771  | -0.061074617 | -0.058517414 |  1.00000000  | -0.033077783 |\n",
       "| Today | -0.03245989  | -0.075031842 |  0.05916672  | -0.07124364  | -0.007825873 |  0.011012698 | -0.03307778  |  1.000000000 |\n",
       "\n"
      ],
      "text/plain": [
       "       Year        Lag1         Lag2        Lag3        Lag4        \n",
       "Year    1.00000000 -0.032289274 -0.03339001 -0.03000649 -0.031127923\n",
       "Lag1   -0.03228927  1.000000000 -0.07485305  0.05863568 -0.071273876\n",
       "Lag2   -0.03339001 -0.074853051  1.00000000 -0.07572091  0.058381535\n",
       "Lag3   -0.03000649  0.058635682 -0.07572091  1.00000000 -0.075395865\n",
       "Lag4   -0.03112792 -0.071273876  0.05838153 -0.07539587  1.000000000\n",
       "Lag5   -0.03051910 -0.008183096 -0.07249948  0.06065717 -0.075675027\n",
       "Volume  0.84194162 -0.064951313 -0.08551314 -0.06928771 -0.061074617\n",
       "Today  -0.03245989 -0.075031842  0.05916672 -0.07124364 -0.007825873\n",
       "       Lag5         Volume      Today       \n",
       "Year   -0.030519101  0.84194162 -0.032459894\n",
       "Lag1   -0.008183096 -0.06495131 -0.075031842\n",
       "Lag2   -0.072499482 -0.08551314  0.059166717\n",
       "Lag3    0.060657175 -0.06928771 -0.071243639\n",
       "Lag4   -0.075675027 -0.06107462 -0.007825873\n",
       "Lag5    1.000000000 -0.05851741  0.011012698\n",
       "Volume -0.058517414  1.00000000 -0.033077783\n",
       "Today   0.011012698 -0.03307778  1.000000000"
      ]
     },
     "metadata": {},
     "output_type": "display_data"
    }
   ],
   "source": [
    "cor(Weekly[, -9])"
   ]
  },
  {
   "cell_type": "code",
   "execution_count": 15,
   "metadata": {},
   "outputs": [
    {
     "data": {
      "image/png": "[encoded data removed]",
      "text/plain": [
       "plot without title"
      ]
     },
     "metadata": {},
     "output_type": "display_data"
    }
   ],
   "source": [
    "#to look for some patterns\n",
    "attach(Weekly)\n",
    "plot(Volume)"
   ]
  },
  {
   "cell_type": "markdown",
   "metadata": {},
   "source": [
    "So the only relevant correlation is between Volume and Year. In fact, volume rises when we go on with the dates."
   ]
  },
  {
   "cell_type": "code",
   "execution_count": 17,
   "metadata": {},
   "outputs": [
    {
     "data": {
      "text/plain": [
       "\n",
       "Call:\n",
       "glm(formula = Direction ~ Lag1 + Lag2 + Lag3 + Lag4 + Lag5 + \n",
       "    Volume, family = binomial, data = Weekly)\n",
       "\n",
       "Deviance Residuals: \n",
       "    Min       1Q   Median       3Q      Max  \n",
       "-1.6949  -1.2565   0.9913   1.0849   1.4579  \n",
       "\n",
       "Coefficients:\n",
       "            Estimate Std. Error z value Pr(>|z|)   \n",
       "(Intercept)  0.26686    0.08593   3.106   0.0019 **\n",
       "Lag1        -0.04127    0.02641  -1.563   0.1181   \n",
       "Lag2         0.05844    0.02686   2.175   0.0296 * \n",
       "Lag3        -0.01606    0.02666  -0.602   0.5469   \n",
       "Lag4        -0.02779    0.02646  -1.050   0.2937   \n",
       "Lag5        -0.01447    0.02638  -0.549   0.5833   \n",
       "Volume      -0.02274    0.03690  -0.616   0.5377   \n",
       "---\n",
       "Signif. codes:  0 '***' 0.001 '**' 0.01 '*' 0.05 '.' 0.1 ' ' 1\n",
       "\n",
       "(Dispersion parameter for binomial family taken to be 1)\n",
       "\n",
       "    Null deviance: 1496.2  on 1088  degrees of freedom\n",
       "Residual deviance: 1486.4  on 1082  degrees of freedom\n",
       "AIC: 1500.4\n",
       "\n",
       "Number of Fisher Scoring iterations: 4\n"
      ]
     },
     "metadata": {},
     "output_type": "display_data"
    }
   ],
   "source": [
    "#point b)\n",
    "fit.glm <- glm(Direction ~ Lag1 + Lag2 + Lag3 + Lag4 + Lag5 + Volume, data = Weekly, family = binomial)\n",
    "summary(fit.glm)"
   ]
  },
  {
   "cell_type": "markdown",
   "metadata": {},
   "source": [
    "Lag 2 is the only significant predictor."
   ]
  },
  {
   "cell_type": "code",
   "execution_count": 18,
   "metadata": {},
   "outputs": [
    {
     "data": {
      "text/plain": [
       "        Direction\n",
       "pred.glm Down  Up\n",
       "    Down   54  48\n",
       "    Up    430 557"
      ]
     },
     "metadata": {},
     "output_type": "display_data"
    }
   ],
   "source": [
    "#point c)\n",
    "probs <- predict(fit.glm, type = \"response\")\n",
    "pred.glm <- rep(\"Down\", length(probs))\n",
    "pred.glm[probs > 0.5] <- \"Up\"\n",
    "table(pred.glm, Direction)"
   ]
  },
  {
   "cell_type": "code",
   "execution_count": 19,
   "metadata": {},
   "outputs": [
    {
     "data": {
      "text/plain": [
       "\n",
       "Call:\n",
       "glm(formula = Direction ~ Lag2, family = binomial, data = Weekly, \n",
       "    subset = train)\n",
       "\n",
       "Deviance Residuals: \n",
       "   Min      1Q  Median      3Q     Max  \n",
       "-1.536  -1.264   1.021   1.091   1.368  \n",
       "\n",
       "Coefficients:\n",
       "            Estimate Std. Error z value Pr(>|z|)   \n",
       "(Intercept)  0.20326    0.06428   3.162  0.00157 **\n",
       "Lag2         0.05810    0.02870   2.024  0.04298 * \n",
       "---\n",
       "Signif. codes:  0 '***' 0.001 '**' 0.01 '*' 0.05 '.' 0.1 ' ' 1\n",
       "\n",
       "(Dispersion parameter for binomial family taken to be 1)\n",
       "\n",
       "    Null deviance: 1354.7  on 984  degrees of freedom\n",
       "Residual deviance: 1350.5  on 983  degrees of freedom\n",
       "AIC: 1354.5\n",
       "\n",
       "Number of Fisher Scoring iterations: 4\n"
      ]
     },
     "metadata": {},
     "output_type": "display_data"
    }
   ],
   "source": [
    "#point d)\n",
    "train <- (Year < 2009)\n",
    "Weekly.20092010 <- Weekly[!train, ]\n",
    "Direction.20092010 <- Direction[!train]\n",
    "fit.glm2 <- glm(Direction ~ Lag2, data = Weekly, family = binomial, subset = train)\n",
    "summary(fit.glm2)"
   ]
  },
  {
   "cell_type": "code",
   "execution_count": 20,
   "metadata": {},
   "outputs": [
    {
     "data": {
      "text/plain": [
       "         Direction.20092010\n",
       "pred.glm2 Down Up\n",
       "     Down    9  5\n",
       "     Up     34 56"
      ]
     },
     "metadata": {},
     "output_type": "display_data"
    }
   ],
   "source": [
    "probs2 <- predict(fit.glm2, Weekly.20092010, type = \"response\")\n",
    "pred.glm2 <- rep(\"Down\", length(probs2))\n",
    "pred.glm2[probs2 > 0.5] <- \"Up\"\n",
    "table(pred.glm2, Direction.20092010)"
   ]
  },
  {
   "cell_type": "code",
   "execution_count": 21,
   "metadata": {},
   "outputs": [
    {
     "name": "stderr",
     "output_type": "stream",
     "text": [
      "Warning message:\n",
      "\"package 'MASS' was built under R version 3.6.3\""
     ]
    },
    {
     "data": {
      "text/plain": [
       "Call:\n",
       "lda(Direction ~ Lag2, data = Weekly, subset = train)\n",
       "\n",
       "Prior probabilities of groups:\n",
       "     Down        Up \n",
       "0.4477157 0.5522843 \n",
       "\n",
       "Group means:\n",
       "            Lag2\n",
       "Down -0.03568254\n",
       "Up    0.26036581\n",
       "\n",
       "Coefficients of linear discriminants:\n",
       "           LD1\n",
       "Lag2 0.4414162"
      ]
     },
     "metadata": {},
     "output_type": "display_data"
    }
   ],
   "source": [
    "#point e)\n",
    "library(MASS)\n",
    "fit.lda <- lda(Direction ~ Lag2, data = Weekly, subset = train)\n",
    "fit.lda"
   ]
  },
  {
   "cell_type": "code",
   "execution_count": 22,
   "metadata": {},
   "outputs": [
    {
     "data": {
      "text/plain": [
       "      Direction.20092010\n",
       "       Down Up\n",
       "  Down    9  5\n",
       "  Up     34 56"
      ]
     },
     "metadata": {},
     "output_type": "display_data"
    }
   ],
   "source": [
    "pred.lda <- predict(fit.lda, Weekly.20092010)\n",
    "table(pred.lda$class, Direction.20092010)"
   ]
  },
  {
   "cell_type": "code",
   "execution_count": 23,
   "metadata": {},
   "outputs": [
    {
     "data": {
      "text/plain": [
       "Call:\n",
       "qda(Direction ~ Lag2, data = Weekly, subset = train)\n",
       "\n",
       "Prior probabilities of groups:\n",
       "     Down        Up \n",
       "0.4477157 0.5522843 \n",
       "\n",
       "Group means:\n",
       "            Lag2\n",
       "Down -0.03568254\n",
       "Up    0.26036581"
      ]
     },
     "metadata": {},
     "output_type": "display_data"
    }
   ],
   "source": [
    "#point f)\n",
    "fit.qda <- qda(Direction ~ Lag2, data = Weekly, subset = train)\n",
    "fit.qda"
   ]
  },
  {
   "cell_type": "code",
   "execution_count": null,
   "metadata": {},
   "outputs": [],
   "source": [
    "pred.qda <- predict(fit.qda, Weekly.20092010)\n",
    "table(pred.qda$class, Direction.20092010)"
   ]
  },
  {
   "cell_type": "code",
   "execution_count": 24,
   "metadata": {},
   "outputs": [
    {
     "data": {
      "text/plain": [
       "        Direction.20092010\n",
       "pred.knn Down Up\n",
       "    Down   21 30\n",
       "    Up     22 31"
      ]
     },
     "metadata": {},
     "output_type": "display_data"
    }
   ],
   "source": [
    "#point g)\n",
    "library(class)\n",
    "train.X <- as.matrix(Lag2[train])\n",
    "test.X <- as.matrix(Lag2[!train])\n",
    "train.Direction <- Direction[train]\n",
    "set.seed(1)\n",
    "pred.knn <- knn(train.X, test.X, train.Direction, k = 1)\n",
    "table(pred.knn, Direction.20092010)"
   ]
  },
  {
   "cell_type": "code",
   "execution_count": 25,
   "metadata": {},
   "outputs": [],
   "source": [
    "#pount h)"
   ]
  },
  {
   "cell_type": "markdown",
   "metadata": {},
   "source": [
    "Logistic regression is the best together with LDA, then we have QDA and KNN."
   ]
  },
  {
   "cell_type": "code",
   "execution_count": 26,
   "metadata": {},
   "outputs": [
    {
     "data": {
      "text/plain": [
       "         Direction.20092010\n",
       "pred.glm3 Down Up\n",
       "     Down    1  1\n",
       "     Up     42 60"
      ]
     },
     "metadata": {},
     "output_type": "display_data"
    }
   ],
   "source": [
    "#point i)\n",
    "#Logistic regression with Lag2:Lag1\n",
    "fit.glm3 <- glm(Direction ~ Lag2:Lag1, data = Weekly, family = binomial, subset = train)\n",
    "probs3 <- predict(fit.glm3, Weekly.20092010, type = \"response\")\n",
    "pred.glm3 <- rep(\"Down\", length(probs3))\n",
    "pred.glm3[probs3 > 0.5] = \"Up\"\n",
    "table(pred.glm3, Direction.20092010)"
   ]
  },
  {
   "cell_type": "code",
   "execution_count": 27,
   "metadata": {},
   "outputs": [
    {
     "data": {
      "text/html": [
       "0.586538461538462"
      ],
      "text/latex": [
       "0.586538461538462"
      ],
      "text/markdown": [
       "0.586538461538462"
      ],
      "text/plain": [
       "[1] 0.5865385"
      ]
     },
     "metadata": {},
     "output_type": "display_data"
    }
   ],
   "source": [
    "mean(pred.glm3 == Direction.20092010)"
   ]
  },
  {
   "cell_type": "code",
   "execution_count": 28,
   "metadata": {},
   "outputs": [
    {
     "data": {
      "text/html": [
       "0.576923076923077"
      ],
      "text/latex": [
       "0.576923076923077"
      ],
      "text/markdown": [
       "0.576923076923077"
      ],
      "text/plain": [
       "[1] 0.5769231"
      ]
     },
     "metadata": {},
     "output_type": "display_data"
    }
   ],
   "source": [
    "# LDA with Lag2 interaction with Lag1\n",
    "fit.lda2 <- lda(Direction ~ Lag2:Lag1, data = Weekly, subset = train)\n",
    "pred.lda2 <- predict(fit.lda2, Weekly.20092010)\n",
    "mean(pred.lda2$class == Direction.20092010)"
   ]
  },
  {
   "cell_type": "code",
   "execution_count": 29,
   "metadata": {},
   "outputs": [
    {
     "data": {
      "text/plain": [
       "      Direction.20092010\n",
       "       Down Up\n",
       "  Down   12 13\n",
       "  Up     31 48"
      ]
     },
     "metadata": {},
     "output_type": "display_data"
    }
   ],
   "source": [
    "# QDA with sqrt(abs(Lag2))\n",
    "fit.qda2 <- qda(Direction ~ Lag2 + sqrt(abs(Lag2)), data = Weekly, subset = train)\n",
    "pred.qda2 <- predict(fit.qda2, Weekly.20092010)\n",
    "table(pred.qda2$class, Direction.20092010)"
   ]
  },
  {
   "cell_type": "code",
   "execution_count": 30,
   "metadata": {},
   "outputs": [
    {
     "data": {
      "text/html": [
       "0.576923076923077"
      ],
      "text/latex": [
       "0.576923076923077"
      ],
      "text/markdown": [
       "0.576923076923077"
      ],
      "text/plain": [
       "[1] 0.5769231"
      ]
     },
     "metadata": {},
     "output_type": "display_data"
    }
   ],
   "source": [
    "mean(pred.qda2$class == Direction.20092010)"
   ]
  },
  {
   "cell_type": "code",
   "execution_count": 31,
   "metadata": {},
   "outputs": [
    {
     "data": {
      "text/plain": [
       "         Direction.20092010\n",
       "pred.knn2 Down Up\n",
       "     Down   17 18\n",
       "     Up     26 43"
      ]
     },
     "metadata": {},
     "output_type": "display_data"
    }
   ],
   "source": [
    "# KNN k =10\n",
    "pred.knn2 <- knn(train.X, test.X, train.Direction, k = 10)\n",
    "table(pred.knn2, Direction.20092010)"
   ]
  },
  {
   "cell_type": "code",
   "execution_count": 32,
   "metadata": {},
   "outputs": [
    {
     "data": {
      "text/html": [
       "0.576923076923077"
      ],
      "text/latex": [
       "0.576923076923077"
      ],
      "text/markdown": [
       "0.576923076923077"
      ],
      "text/plain": [
       "[1] 0.5769231"
      ]
     },
     "metadata": {},
     "output_type": "display_data"
    }
   ],
   "source": [
    "mean(pred.knn2 == Direction.20092010)"
   ]
  },
  {
   "cell_type": "code",
   "execution_count": 33,
   "metadata": {},
   "outputs": [
    {
     "data": {
      "text/plain": [
       "         Direction.20092010\n",
       "pred.knn3 Down Up\n",
       "     Down    9 12\n",
       "     Up     34 49"
      ]
     },
     "metadata": {},
     "output_type": "display_data"
    }
   ],
   "source": [
    "# KNN k = 100\n",
    "pred.knn3 <- knn(train.X, test.X, train.Direction, k = 100)\n",
    "table(pred.knn3, Direction.20092010)"
   ]
  },
  {
   "cell_type": "code",
   "execution_count": 34,
   "metadata": {},
   "outputs": [
    {
     "data": {
      "text/html": [
       "0.557692307692308"
      ],
      "text/latex": [
       "0.557692307692308"
      ],
      "text/markdown": [
       "0.557692307692308"
      ],
      "text/plain": [
       "[1] 0.5576923"
      ]
     },
     "metadata": {},
     "output_type": "display_data"
    }
   ],
   "source": [
    "mean(pred.knn3 == Direction.20092010)"
   ]
  },
  {
   "cell_type": "markdown",
   "metadata": {},
   "source": [
    "Ex. 11"
   ]
  },
  {
   "cell_type": "code",
   "execution_count": 36,
   "metadata": {},
   "outputs": [
    {
     "name": "stderr",
     "output_type": "stream",
     "text": [
      "The following object is masked _by_ .GlobalEnv:\n",
      "\n",
      "    mpg01\n",
      "\n",
      "The following objects are masked from Auto (pos = 3):\n",
      "\n",
      "    acceleration, cylinders, displacement, horsepower, mpg, name,\n",
      "    origin, weight, year\n",
      "\n"
     ]
    }
   ],
   "source": [
    "#point a)\n",
    "attach(Auto)\n",
    "mpg01 <- rep(0, length(mpg))\n",
    "mpg01[mpg > median(mpg)] <- 1\n",
    "Auto <- data.frame(Auto, mpg01)"
   ]
  },
  {
   "cell_type": "code",
   "execution_count": 37,
   "metadata": {},
   "outputs": [
    {
     "data": {
      "text/html": [
       "<table>\n",
       "<thead><tr><th></th><th scope=col>mpg</th><th scope=col>cylinders</th><th scope=col>displacement</th><th scope=col>horsepower</th><th scope=col>weight</th><th scope=col>acceleration</th><th scope=col>year</th><th scope=col>origin</th><th scope=col>mpg01</th><th scope=col>mpg01.1</th></tr></thead>\n",
       "<tbody>\n",
       "\t<tr><th scope=row>mpg</th><td> 1.0000000</td><td>-0.7776175</td><td>-0.8051269</td><td>-0.7784268</td><td>-0.8322442</td><td> 0.4233285</td><td> 0.5805410</td><td> 0.5652088</td><td> 0.8369392</td><td> 0.8369392</td></tr>\n",
       "\t<tr><th scope=row>cylinders</th><td>-0.7776175</td><td> 1.0000000</td><td> 0.9508233</td><td> 0.8429834</td><td> 0.8975273</td><td>-0.5046834</td><td>-0.3456474</td><td>-0.5689316</td><td>-0.7591939</td><td>-0.7591939</td></tr>\n",
       "\t<tr><th scope=row>displacement</th><td>-0.8051269</td><td> 0.9508233</td><td> 1.0000000</td><td> 0.8972570</td><td> 0.9329944</td><td>-0.5438005</td><td>-0.3698552</td><td>-0.6145351</td><td>-0.7534766</td><td>-0.7534766</td></tr>\n",
       "\t<tr><th scope=row>horsepower</th><td>-0.7784268</td><td> 0.8429834</td><td> 0.8972570</td><td> 1.0000000</td><td> 0.8645377</td><td>-0.6891955</td><td>-0.4163615</td><td>-0.4551715</td><td>-0.6670526</td><td>-0.6670526</td></tr>\n",
       "\t<tr><th scope=row>weight</th><td>-0.8322442</td><td> 0.8975273</td><td> 0.9329944</td><td> 0.8645377</td><td> 1.0000000</td><td>-0.4168392</td><td>-0.3091199</td><td>-0.5850054</td><td>-0.7577566</td><td>-0.7577566</td></tr>\n",
       "\t<tr><th scope=row>acceleration</th><td> 0.4233285</td><td>-0.5046834</td><td>-0.5438005</td><td>-0.6891955</td><td>-0.4168392</td><td> 1.0000000</td><td> 0.2903161</td><td> 0.2127458</td><td> 0.3468215</td><td> 0.3468215</td></tr>\n",
       "\t<tr><th scope=row>year</th><td> 0.5805410</td><td>-0.3456474</td><td>-0.3698552</td><td>-0.4163615</td><td>-0.3091199</td><td> 0.2903161</td><td> 1.0000000</td><td> 0.1815277</td><td> 0.4299042</td><td> 0.4299042</td></tr>\n",
       "\t<tr><th scope=row>origin</th><td> 0.5652088</td><td>-0.5689316</td><td>-0.6145351</td><td>-0.4551715</td><td>-0.5850054</td><td> 0.2127458</td><td> 0.1815277</td><td> 1.0000000</td><td> 0.5136984</td><td> 0.5136984</td></tr>\n",
       "\t<tr><th scope=row>mpg01</th><td> 0.8369392</td><td>-0.7591939</td><td>-0.7534766</td><td>-0.6670526</td><td>-0.7577566</td><td> 0.3468215</td><td> 0.4299042</td><td> 0.5136984</td><td> 1.0000000</td><td> 1.0000000</td></tr>\n",
       "\t<tr><th scope=row>mpg01.1</th><td> 0.8369392</td><td>-0.7591939</td><td>-0.7534766</td><td>-0.6670526</td><td>-0.7577566</td><td> 0.3468215</td><td> 0.4299042</td><td> 0.5136984</td><td> 1.0000000</td><td> 1.0000000</td></tr>\n",
       "</tbody>\n",
       "</table>\n"
      ],
      "text/latex": [
       "\\begin{tabular}{r|llllllllll}\n",
       "  & mpg & cylinders & displacement & horsepower & weight & acceleration & year & origin & mpg01 & mpg01.1\\\\\n",
       "\\hline\n",
       "\tmpg &  1.0000000 & -0.7776175 & -0.8051269 & -0.7784268 & -0.8322442 &  0.4233285 &  0.5805410 &  0.5652088 &  0.8369392 &  0.8369392\\\\\n",
       "\tcylinders & -0.7776175 &  1.0000000 &  0.9508233 &  0.8429834 &  0.8975273 & -0.5046834 & -0.3456474 & -0.5689316 & -0.7591939 & -0.7591939\\\\\n",
       "\tdisplacement & -0.8051269 &  0.9508233 &  1.0000000 &  0.8972570 &  0.9329944 & -0.5438005 & -0.3698552 & -0.6145351 & -0.7534766 & -0.7534766\\\\\n",
       "\thorsepower & -0.7784268 &  0.8429834 &  0.8972570 &  1.0000000 &  0.8645377 & -0.6891955 & -0.4163615 & -0.4551715 & -0.6670526 & -0.6670526\\\\\n",
       "\tweight & -0.8322442 &  0.8975273 &  0.9329944 &  0.8645377 &  1.0000000 & -0.4168392 & -0.3091199 & -0.5850054 & -0.7577566 & -0.7577566\\\\\n",
       "\tacceleration &  0.4233285 & -0.5046834 & -0.5438005 & -0.6891955 & -0.4168392 &  1.0000000 &  0.2903161 &  0.2127458 &  0.3468215 &  0.3468215\\\\\n",
       "\tyear &  0.5805410 & -0.3456474 & -0.3698552 & -0.4163615 & -0.3091199 &  0.2903161 &  1.0000000 &  0.1815277 &  0.4299042 &  0.4299042\\\\\n",
       "\torigin &  0.5652088 & -0.5689316 & -0.6145351 & -0.4551715 & -0.5850054 &  0.2127458 &  0.1815277 &  1.0000000 &  0.5136984 &  0.5136984\\\\\n",
       "\tmpg01 &  0.8369392 & -0.7591939 & -0.7534766 & -0.6670526 & -0.7577566 &  0.3468215 &  0.4299042 &  0.5136984 &  1.0000000 &  1.0000000\\\\\n",
       "\tmpg01.1 &  0.8369392 & -0.7591939 & -0.7534766 & -0.6670526 & -0.7577566 &  0.3468215 &  0.4299042 &  0.5136984 &  1.0000000 &  1.0000000\\\\\n",
       "\\end{tabular}\n"
      ],
      "text/markdown": [
       "\n",
       "| <!--/--> | mpg | cylinders | displacement | horsepower | weight | acceleration | year | origin | mpg01 | mpg01.1 |\n",
       "|---|---|---|---|---|---|---|---|---|---|---|\n",
       "| mpg |  1.0000000 | -0.7776175 | -0.8051269 | -0.7784268 | -0.8322442 |  0.4233285 |  0.5805410 |  0.5652088 |  0.8369392 |  0.8369392 |\n",
       "| cylinders | -0.7776175 |  1.0000000 |  0.9508233 |  0.8429834 |  0.8975273 | -0.5046834 | -0.3456474 | -0.5689316 | -0.7591939 | -0.7591939 |\n",
       "| displacement | -0.8051269 |  0.9508233 |  1.0000000 |  0.8972570 |  0.9329944 | -0.5438005 | -0.3698552 | -0.6145351 | -0.7534766 | -0.7534766 |\n",
       "| horsepower | -0.7784268 |  0.8429834 |  0.8972570 |  1.0000000 |  0.8645377 | -0.6891955 | -0.4163615 | -0.4551715 | -0.6670526 | -0.6670526 |\n",
       "| weight | -0.8322442 |  0.8975273 |  0.9329944 |  0.8645377 |  1.0000000 | -0.4168392 | -0.3091199 | -0.5850054 | -0.7577566 | -0.7577566 |\n",
       "| acceleration |  0.4233285 | -0.5046834 | -0.5438005 | -0.6891955 | -0.4168392 |  1.0000000 |  0.2903161 |  0.2127458 |  0.3468215 |  0.3468215 |\n",
       "| year |  0.5805410 | -0.3456474 | -0.3698552 | -0.4163615 | -0.3091199 |  0.2903161 |  1.0000000 |  0.1815277 |  0.4299042 |  0.4299042 |\n",
       "| origin |  0.5652088 | -0.5689316 | -0.6145351 | -0.4551715 | -0.5850054 |  0.2127458 |  0.1815277 |  1.0000000 |  0.5136984 |  0.5136984 |\n",
       "| mpg01 |  0.8369392 | -0.7591939 | -0.7534766 | -0.6670526 | -0.7577566 |  0.3468215 |  0.4299042 |  0.5136984 |  1.0000000 |  1.0000000 |\n",
       "| mpg01.1 |  0.8369392 | -0.7591939 | -0.7534766 | -0.6670526 | -0.7577566 |  0.3468215 |  0.4299042 |  0.5136984 |  1.0000000 |  1.0000000 |\n",
       "\n"
      ],
      "text/plain": [
       "             mpg        cylinders  displacement horsepower weight    \n",
       "mpg           1.0000000 -0.7776175 -0.8051269   -0.7784268 -0.8322442\n",
       "cylinders    -0.7776175  1.0000000  0.9508233    0.8429834  0.8975273\n",
       "displacement -0.8051269  0.9508233  1.0000000    0.8972570  0.9329944\n",
       "horsepower   -0.7784268  0.8429834  0.8972570    1.0000000  0.8645377\n",
       "weight       -0.8322442  0.8975273  0.9329944    0.8645377  1.0000000\n",
       "acceleration  0.4233285 -0.5046834 -0.5438005   -0.6891955 -0.4168392\n",
       "year          0.5805410 -0.3456474 -0.3698552   -0.4163615 -0.3091199\n",
       "origin        0.5652088 -0.5689316 -0.6145351   -0.4551715 -0.5850054\n",
       "mpg01         0.8369392 -0.7591939 -0.7534766   -0.6670526 -0.7577566\n",
       "mpg01.1       0.8369392 -0.7591939 -0.7534766   -0.6670526 -0.7577566\n",
       "             acceleration year       origin     mpg01      mpg01.1   \n",
       "mpg           0.4233285    0.5805410  0.5652088  0.8369392  0.8369392\n",
       "cylinders    -0.5046834   -0.3456474 -0.5689316 -0.7591939 -0.7591939\n",
       "displacement -0.5438005   -0.3698552 -0.6145351 -0.7534766 -0.7534766\n",
       "horsepower   -0.6891955   -0.4163615 -0.4551715 -0.6670526 -0.6670526\n",
       "weight       -0.4168392   -0.3091199 -0.5850054 -0.7577566 -0.7577566\n",
       "acceleration  1.0000000    0.2903161  0.2127458  0.3468215  0.3468215\n",
       "year          0.2903161    1.0000000  0.1815277  0.4299042  0.4299042\n",
       "origin        0.2127458    0.1815277  1.0000000  0.5136984  0.5136984\n",
       "mpg01         0.3468215    0.4299042  0.5136984  1.0000000  1.0000000\n",
       "mpg01.1       0.3468215    0.4299042  0.5136984  1.0000000  1.0000000"
      ]
     },
     "metadata": {},
     "output_type": "display_data"
    }
   ],
   "source": [
    "#point b)\n",
    "#as we did above\n",
    "cor(Auto[, -9])"
   ]
  },
  {
   "cell_type": "code",
   "execution_count": 38,
   "metadata": {},
   "outputs": [
    {
     "data": {
      "image/png": "[encoded data removed]",
      "text/plain": [
       "plot without title"
      ]
     },
     "metadata": {},
     "output_type": "display_data"
    }
   ],
   "source": [
    "pairs(Auto)"
   ]
  },
  {
   "cell_type": "code",
   "execution_count": 39,
   "metadata": {},
   "outputs": [
    {
     "data": {
      "image/png": "[encoded data removed]",
      "text/plain": [
       "Plot with title \"Cylinders vs mpg01\""
      ]
     },
     "metadata": {},
     "output_type": "display_data"
    }
   ],
   "source": [
    "boxplot(cylinders ~ mpg01, data = Auto, main = \"Cylinders vs mpg01\")"
   ]
  },
  {
   "cell_type": "code",
   "execution_count": 40,
   "metadata": {},
   "outputs": [
    {
     "data": {
      "image/png": "[encoded data removed]",
      "text/plain": [
       "Plot with title \"Displacement vs mpg01\""
      ]
     },
     "metadata": {},
     "output_type": "display_data"
    }
   ],
   "source": [
    "boxplot(displacement ~ mpg01, data = Auto, main = \"Displacement vs mpg01\")"
   ]
  },
  {
   "cell_type": "code",
   "execution_count": 41,
   "metadata": {},
   "outputs": [
    {
     "data": {
      "image/png": "[encoded data removed]",
      "text/plain": [
       "Plot with title \"Horsepower vs mpg01\""
      ]
     },
     "metadata": {},
     "output_type": "display_data"
    }
   ],
   "source": [
    "boxplot(horsepower ~ mpg01, data = Auto, main = \"Horsepower vs mpg01\")"
   ]
  },
  {
   "cell_type": "code",
   "execution_count": 42,
   "metadata": {},
   "outputs": [
    {
     "data": {
      "image/png": "[encoded data removed]",
      "text/plain": [
       "Plot with title \"Weight vs mpg01\""
      ]
     },
     "metadata": {},
     "output_type": "display_data"
    }
   ],
   "source": [
    "boxplot(weight ~ mpg01, data = Auto, main = \"Weight vs mpg01\")"
   ]
  },
  {
   "cell_type": "code",
   "execution_count": 43,
   "metadata": {},
   "outputs": [
    {
     "data": {
      "image/png": "[encoded data removed]",
      "text/plain": [
       "Plot with title \"Acceleration vs mpg01\""
      ]
     },
     "metadata": {},
     "output_type": "display_data"
    }
   ],
   "source": [
    "boxplot(acceleration ~ mpg01, data = Auto, main = \"Acceleration vs mpg01\")"
   ]
  },
  {
   "cell_type": "code",
   "execution_count": 44,
   "metadata": {},
   "outputs": [
    {
     "data": {
      "image/png": "[encoded data removed]",
      "text/plain": [
       "Plot with title \"Year vs mpg01\""
      ]
     },
     "metadata": {},
     "output_type": "display_data"
    }
   ],
   "source": [
    "boxplot(year ~ mpg01, data = Auto, main = \"Year vs mpg01\")"
   ]
  },
  {
   "cell_type": "markdown",
   "metadata": {},
   "source": [
    "So we say there is some association between mpg01 and cylinders, weight, displacement and horsepower."
   ]
  },
  {
   "cell_type": "code",
   "execution_count": 45,
   "metadata": {},
   "outputs": [],
   "source": [
    "#point c)\n",
    "train <- (year %% 2 == 0)\n",
    "Auto.train <- Auto[train, ]\n",
    "Auto.test <- Auto[!train, ]\n",
    "mpg01.test <- mpg01[!train]"
   ]
  },
  {
   "cell_type": "code",
   "execution_count": 46,
   "metadata": {},
   "outputs": [
    {
     "data": {
      "text/plain": [
       "Call:\n",
       "lda(mpg01 ~ cylinders + weight + displacement + horsepower, data = Auto, \n",
       "    subset = train)\n",
       "\n",
       "Prior probabilities of groups:\n",
       "        0         1 \n",
       "0.4571429 0.5428571 \n",
       "\n",
       "Group means:\n",
       "  cylinders   weight displacement horsepower\n",
       "0  6.812500 3604.823     271.7396  133.14583\n",
       "1  4.070175 2314.763     111.6623   77.92105\n",
       "\n",
       "Coefficients of linear discriminants:\n",
       "                       LD1\n",
       "cylinders    -0.6741402638\n",
       "weight       -0.0011465750\n",
       "displacement  0.0004481325\n",
       "horsepower    0.0059035377"
      ]
     },
     "metadata": {},
     "output_type": "display_data"
    }
   ],
   "source": [
    "#point d)\n",
    "fit.lda <- lda(mpg01 ~ cylinders + weight + displacement + horsepower, data = Auto, subset = train)\n",
    "fit.lda"
   ]
  },
  {
   "cell_type": "code",
   "execution_count": 47,
   "metadata": {},
   "outputs": [
    {
     "data": {
      "text/plain": [
       "   mpg01.test\n",
       "     0  1\n",
       "  0 86  9\n",
       "  1 14 73"
      ]
     },
     "metadata": {},
     "output_type": "display_data"
    }
   ],
   "source": [
    "pred.lda <- predict(fit.lda, Auto.test)\n",
    "table(pred.lda$class, mpg01.test)"
   ]
  },
  {
   "cell_type": "code",
   "execution_count": 48,
   "metadata": {},
   "outputs": [
    {
     "data": {
      "text/html": [
       "0.126373626373626"
      ],
      "text/latex": [
       "0.126373626373626"
      ],
      "text/markdown": [
       "0.126373626373626"
      ],
      "text/plain": [
       "[1] 0.1263736"
      ]
     },
     "metadata": {},
     "output_type": "display_data"
    }
   ],
   "source": [
    "mean(pred.lda$class != mpg01.test)"
   ]
  },
  {
   "cell_type": "markdown",
   "metadata": {},
   "source": [
    "Test error rate of 12.63%."
   ]
  },
  {
   "cell_type": "code",
   "execution_count": 49,
   "metadata": {},
   "outputs": [
    {
     "data": {
      "text/plain": [
       "Call:\n",
       "qda(mpg01 ~ cylinders + weight + displacement + horsepower, data = Auto, \n",
       "    subset = train)\n",
       "\n",
       "Prior probabilities of groups:\n",
       "        0         1 \n",
       "0.4571429 0.5428571 \n",
       "\n",
       "Group means:\n",
       "  cylinders   weight displacement horsepower\n",
       "0  6.812500 3604.823     271.7396  133.14583\n",
       "1  4.070175 2314.763     111.6623   77.92105"
      ]
     },
     "metadata": {},
     "output_type": "display_data"
    }
   ],
   "source": [
    "#point e)\n",
    "fit.qda <- qda(mpg01 ~ cylinders + weight + displacement + horsepower, data = Auto, subset = train)\n",
    "fit.qda"
   ]
  },
  {
   "cell_type": "code",
   "execution_count": 50,
   "metadata": {},
   "outputs": [
    {
     "data": {
      "text/plain": [
       "   mpg01.test\n",
       "     0  1\n",
       "  0 89 13\n",
       "  1 11 69"
      ]
     },
     "metadata": {},
     "output_type": "display_data"
    }
   ],
   "source": [
    "pred.qda <- predict(fit.qda, Auto.test)\n",
    "table(pred.qda$class, mpg01.test)"
   ]
  },
  {
   "cell_type": "code",
   "execution_count": 51,
   "metadata": {},
   "outputs": [
    {
     "data": {
      "text/html": [
       "0.131868131868132"
      ],
      "text/latex": [
       "0.131868131868132"
      ],
      "text/markdown": [
       "0.131868131868132"
      ],
      "text/plain": [
       "[1] 0.1318681"
      ]
     },
     "metadata": {},
     "output_type": "display_data"
    }
   ],
   "source": [
    "mean(pred.qda$class != mpg01.test)"
   ]
  },
  {
   "cell_type": "markdown",
   "metadata": {},
   "source": [
    "Test error rate of 13.18%."
   ]
  },
  {
   "cell_type": "code",
   "execution_count": 52,
   "metadata": {},
   "outputs": [
    {
     "data": {
      "text/plain": [
       "\n",
       "Call:\n",
       "glm(formula = mpg01 ~ cylinders + weight + displacement + horsepower, \n",
       "    family = binomial, data = Auto, subset = train)\n",
       "\n",
       "Deviance Residuals: \n",
       "     Min        1Q    Median        3Q       Max  \n",
       "-2.48027  -0.03413   0.10583   0.29634   2.57584  \n",
       "\n",
       "Coefficients:\n",
       "              Estimate Std. Error z value Pr(>|z|)    \n",
       "(Intercept)  17.658730   3.409012   5.180 2.22e-07 ***\n",
       "cylinders    -1.028032   0.653607  -1.573   0.1158    \n",
       "weight       -0.002922   0.001137  -2.569   0.0102 *  \n",
       "displacement  0.002462   0.015030   0.164   0.8699    \n",
       "horsepower   -0.050611   0.025209  -2.008   0.0447 *  \n",
       "---\n",
       "Signif. codes:  0 '***' 0.001 '**' 0.01 '*' 0.05 '.' 0.1 ' ' 1\n",
       "\n",
       "(Dispersion parameter for binomial family taken to be 1)\n",
       "\n",
       "    Null deviance: 289.58  on 209  degrees of freedom\n",
       "Residual deviance:  83.24  on 205  degrees of freedom\n",
       "AIC: 93.24\n",
       "\n",
       "Number of Fisher Scoring iterations: 7\n"
      ]
     },
     "metadata": {},
     "output_type": "display_data"
    }
   ],
   "source": [
    "#point f)\n",
    "fit.glm <- glm(mpg01 ~ cylinders + weight + displacement + horsepower, data = Auto, family = binomial, subset = train)\n",
    "summary(fit.glm)"
   ]
  },
  {
   "cell_type": "code",
   "execution_count": 53,
   "metadata": {},
   "outputs": [
    {
     "data": {
      "text/plain": [
       "        mpg01.test\n",
       "pred.glm  0  1\n",
       "       0 89 11\n",
       "       1 11 71"
      ]
     },
     "metadata": {},
     "output_type": "display_data"
    }
   ],
   "source": [
    "probs <- predict(fit.glm, Auto.test, type = \"response\")\n",
    "pred.glm <- rep(0, length(probs))\n",
    "pred.glm[probs > 0.5] <- 1\n",
    "table(pred.glm, mpg01.test)"
   ]
  },
  {
   "cell_type": "code",
   "execution_count": 54,
   "metadata": {},
   "outputs": [
    {
     "data": {
      "text/html": [
       "0.120879120879121"
      ],
      "text/latex": [
       "0.120879120879121"
      ],
      "text/markdown": [
       "0.120879120879121"
      ],
      "text/plain": [
       "[1] 0.1208791"
      ]
     },
     "metadata": {},
     "output_type": "display_data"
    }
   ],
   "source": [
    "mean(pred.glm != mpg01.test)"
   ]
  },
  {
   "cell_type": "markdown",
   "metadata": {},
   "source": [
    "Test error rate of 12.09%."
   ]
  },
  {
   "cell_type": "code",
   "execution_count": 55,
   "metadata": {},
   "outputs": [
    {
     "data": {
      "text/plain": [
       "        mpg01.test\n",
       "pred.knn  0  1\n",
       "       0 83 11\n",
       "       1 17 71"
      ]
     },
     "metadata": {},
     "output_type": "display_data"
    }
   ],
   "source": [
    "#point g)\n",
    "train.X <- cbind(cylinders, weight, displacement, horsepower)[train, ]\n",
    "test.X <- cbind(cylinders, weight, displacement, horsepower)[!train, ]\n",
    "train.mpg01 <- mpg01[train]\n",
    "set.seed(1)\n",
    "pred.knn <- knn(train.X, test.X, train.mpg01, k = 1)\n",
    "table(pred.knn, mpg01.test)"
   ]
  },
  {
   "cell_type": "code",
   "execution_count": 56,
   "metadata": {},
   "outputs": [
    {
     "data": {
      "text/html": [
       "0.153846153846154"
      ],
      "text/latex": [
       "0.153846153846154"
      ],
      "text/markdown": [
       "0.153846153846154"
      ],
      "text/plain": [
       "[1] 0.1538462"
      ]
     },
     "metadata": {},
     "output_type": "display_data"
    }
   ],
   "source": [
    "mean(pred.knn != mpg01.test)"
   ]
  },
  {
   "cell_type": "code",
   "execution_count": 57,
   "metadata": {},
   "outputs": [
    {
     "data": {
      "text/plain": [
       "        mpg01.test\n",
       "pred.knn  0  1\n",
       "       0 77  7\n",
       "       1 23 75"
      ]
     },
     "metadata": {},
     "output_type": "display_data"
    }
   ],
   "source": [
    "pred.knn <- knn(train.X, test.X, train.mpg01, k = 10)\n",
    "table(pred.knn, mpg01.test)"
   ]
  },
  {
   "cell_type": "code",
   "execution_count": 58,
   "metadata": {},
   "outputs": [
    {
     "data": {
      "text/html": [
       "0.164835164835165"
      ],
      "text/latex": [
       "0.164835164835165"
      ],
      "text/markdown": [
       "0.164835164835165"
      ],
      "text/plain": [
       "[1] 0.1648352"
      ]
     },
     "metadata": {},
     "output_type": "display_data"
    }
   ],
   "source": [
    "mean(pred.knn != mpg01.test)"
   ]
  },
  {
   "cell_type": "markdown",
   "metadata": {},
   "source": [
    "Test error rate of 16.48% for K=10."
   ]
  },
  {
   "cell_type": "code",
   "execution_count": 59,
   "metadata": {},
   "outputs": [
    {
     "data": {
      "text/plain": [
       "        mpg01.test\n",
       "pred.knn  0  1\n",
       "       0 81  7\n",
       "       1 19 75"
      ]
     },
     "metadata": {},
     "output_type": "display_data"
    }
   ],
   "source": [
    "pred.knn <- knn(train.X, test.X, train.mpg01, k = 100)\n",
    "table(pred.knn, mpg01.test)"
   ]
  },
  {
   "cell_type": "code",
   "execution_count": 60,
   "metadata": {},
   "outputs": [
    {
     "data": {
      "text/html": [
       "0.142857142857143"
      ],
      "text/latex": [
       "0.142857142857143"
      ],
      "text/markdown": [
       "0.142857142857143"
      ],
      "text/plain": [
       "[1] 0.1428571"
      ]
     },
     "metadata": {},
     "output_type": "display_data"
    }
   ],
   "source": [
    "mean(pred.knn != mpg01.test)"
   ]
  },
  {
   "cell_type": "markdown",
   "metadata": {},
   "source": [
    "Test error rate of 14.28% for K=100. Hence, a K value of 100 seems to perform the best."
   ]
  }
 ],
 "metadata": {
  "kernelspec": {
   "display_name": "R",
   "language": "R",
   "name": "ir"
  },
  "language_info": {
   "codemirror_mode": "r",
   "file_extension": ".r",
   "mimetype": "text/x-r-source",
   "name": "R",
   "pygments_lexer": "r",
   "version": "3.6.1"
  }
 },
 "nbformat": 4,
 "nbformat_minor": 2
}
